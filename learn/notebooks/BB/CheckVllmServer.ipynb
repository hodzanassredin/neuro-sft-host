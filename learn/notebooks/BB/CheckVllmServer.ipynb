{
 "cells": [
  {
   "cell_type": "code",
   "execution_count": 76,
   "id": "5a5e49e9-d1dc-40d7-830b-bd9aeb9530ec",
   "metadata": {},
   "outputs": [],
   "source": [
    "system = '''\n",
    "Ты помощник для работы в системе BlackBox с использованием языка Component Pascal. Твоя задача информативно отвечать на вопросы. \n",
    "Ответ необходимо предоставить в формате markdown и выделять код символами ```. \n",
    "'''"
   ]
  },
  {
   "cell_type": "code",
   "execution_count": 80,
   "id": "95dbe99b-4165-4fc7-a1bb-82e31741608d",
   "metadata": {},
   "outputs": [],
   "source": [
    "from openai import OpenAI\n",
    "client = OpenAI(\n",
    "    base_url=\"http://host.docker.internal:9001/v1\",\n",
    "    api_key=\"key\",\n",
    ")\n",
    "def ask(prompt):\n",
    "    response = client.chat.completions.create(\n",
    "    model=\"cp-lora\",\n",
    "    messages=[\n",
    "        {\"role\": \"system\", \"content\": system},\n",
    "        {\"role\": \"user\", \"content\": prompt}\n",
    "      ],\n",
    "    temperature=0.4,\n",
    "    top_p=0.3,\n",
    "    frequency_penalty=0.0,\n",
    "    max_tokens=512,\n",
    "    stream=True,\n",
    "    extra_body={'repetition_penalty': 1.1,'min_p': 0.05, }\n",
    "    )\n",
    "    \n",
    "    for chunk in response:\n",
    "        print(chunk.choices[0].delta.content, end='')"
   ]
  },
  {
   "cell_type": "code",
   "execution_count": 81,
   "id": "667dbef5-5ed4-4173-95ca-236aea087237",
   "metadata": {},
   "outputs": [
    {
     "name": "stdout",
     "output_type": "stream",
     "text": [
      "```\n",
      "EDURE Do*;\n",
      " i: INTEGER;\n",
      "\ti := 1;\t(* инициализация переменной *)\n",
      "HILE i <= 5 DO\t(* цикл, который выполняется до i > 5 *)\n",
      "\tlog.Int(i);\t(* вызов процедуры Int из модуля Log *)\n",
      "(i)\t(* увеличение значения i *)\n",
      ";END\n",
      "END Do;\n",
      "```"
     ]
    }
   ],
   "source": [
    "ask(\"Напиши процедуру вывода чисел от 1 до 5 в log\")"
   ]
  },
  {
   "cell_type": "code",
   "execution_count": 37,
   "id": "6ad7d1b4-20b9-4df4-bce7-e1b9b3d07566",
   "metadata": {},
   "outputs": [
    {
     "name": "stdout",
     "output_type": "stream",
     "text": [
      "MODULE  i21примВывод;\n",
      "\n",
      "\tPROCEDURE Вывод*;\n",
      "\tVAR  i: INTEGER;\n",
      "\tBEGIN\n",
      "\t\ti := 1;\n",
      "HILE  i <= 5  DO\n",
      "\t(* log.Int( i ); *)\n",
      ".String( i );  log.Ln;\n",
      "( i )C\n",
      "\t\tEND\n",
      "\tEND Вывод;\n",
      "\n",
      "BEGIN\n",
      "Вывод\n",
      "END  i21примВывод.\n",
      "\n",
      "осле выполнения процедуры в журнале появится следующее:\n",
      "0\n",
      "1\n",
      "2\n",
      "3\n",
      "4\n",
      "5\n",
      "\n",
      "осле этого можно открыть журнал и прочитать его. В журнале можно вставить любые команды Блекбокса, например, вызов процедуры Ввод. \n",
      "После этого снова открывается журнал и можно посмотреть результаты ввода. \n",
      "Таким образом, можно использовать журнал как \"специальный\" текстовый файл для хранения данных, которые были в журнале до его перезаписи. \n",
      "то удобно, потому что можно сохранить результаты работы программы в файле, а затем загрузить их снова. \n",
      "то удобно, потому что можно сохранить результаты работы программы в файле, а затем загрузить их снова. \n",
      "то удобно, потому что можно сохранить результаты работы программы в файле, а затем загрузить их снова. \n",
      "но, потому что можно сохранить результаты работы программы в файле, а затем загрузить их снова. \n",
      "то удобно, потому что можно сохранить результаты работы программы в файле, а затем загрузить их снова. \n",
      " удобно, потому что можно сохранить результаты работы программы в файле, а затем загрузить их снова. \n",
      "но, потому что можно сохранить результаты работы программы в файле, а затем загрузить их снова. \n",
      "то удобно, потому что можно сохранить результаты работы программы в файле, а затем загрузить их снова. \n",
      "Это удобно, потому что можно сохранить результаты работы программы в файле, а затем загрузить их снова. \n",
      "то удобно, потому что можно сохранить результаты работы программы в файле, а затем загрузить их снова. \n",
      "Это удобно,"
     ]
    }
   ],
   "source": [
    "ask('Напиши процедуру вывода чисел от 1 до 5 в log. Пиши только процедуру и ничего больше.')"
   ]
  },
  {
   "cell_type": "code",
   "execution_count": null,
   "id": "b807e694-4532-46e7-bb9b-4b5825345d7a",
   "metadata": {},
   "outputs": [],
   "source": []
  }
 ],
 "metadata": {
  "kernelspec": {
   "display_name": "Python 3 (ipykernel)",
   "language": "python",
   "name": "python3"
  },
  "language_info": {
   "codemirror_mode": {
    "name": "ipython",
    "version": 3
   },
   "file_extension": ".py",
   "mimetype": "text/x-python",
   "name": "python",
   "nbconvert_exporter": "python",
   "pygments_lexer": "ipython3",
   "version": "3.12.8"
  }
 },
 "nbformat": 4,
 "nbformat_minor": 5
}
