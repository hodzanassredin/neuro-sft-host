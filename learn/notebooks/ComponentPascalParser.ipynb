{
 "cells": [
  {
   "cell_type": "code",
   "execution_count": 173,
   "id": "2d17f218-3b01-4f20-8213-45123630bebb",
   "metadata": {},
   "outputs": [
    {
     "name": "stderr",
     "output_type": "stream",
     "text": [
      "<>:3: SyntaxWarning: invalid escape sequence '\\s'\n",
      "<>:3: SyntaxWarning: invalid escape sequence '\\s'\n",
      "/tmp/ipykernel_36/1136332775.py:3: SyntaxWarning: invalid escape sequence '\\s'\n",
      "  ebnf_grammar = \"\"\"\n"
     ]
    }
   ],
   "source": [
    "from lark import Lark, UnexpectedEOF\n",
    "\n",
    "ebnf_grammar = \"\"\"\n",
    "    document: module TAIL\n",
    "    module: \"MODULE\" IDENT \";\" (import_list)? decl_seq (\"BEGIN\" statement_seq)? (\"CLOSE\" statement_seq)? \"END\" IDENT \".\"\n",
    "    import_list: \"IMPORT\" (IDENT \":=\")? IDENT (\",\" (IDENT \":=\")? IDENT)* \";\"\n",
    "    decl_seq: (\"CONST\" (const_decl \";\")* | \"TYPE\" (type_decl \";\")* | \"VAR\" (var_decl \";\")*)* (proc_decl \";\" | forward_decl \";\")*\n",
    "    const_decl: ident_def \"=\" const_expr\n",
    "    type_decl: ident_def \"=\" type\n",
    "    var_decl: ident_list \":\" type\n",
    "    proc_decl: \"PROCEDURE\" (receiver)? ident_def (formal_pars)? meth_attributes (\";\" decl_seq (\"BEGIN\" statement_seq)? \"END\" IDENT)?\n",
    "    meth_attributes: (\",\" \"NEW\")? (\",\" (\"ABSTRACT\" | \"EMPTY\" | \"EXTENSIBLE\"))?\n",
    "    forward_decl: \"PROCEDURE\" \"^\" (receiver)? ident_def (formal_pars)? meth_attributes\n",
    "    formal_pars: \"(\" (f_p_section (\";\" f_p_section)*)? \")\" (\":\" type)?\n",
    "    f_p_section: (\"VAR\" | \"IN\" | \"OUT\")? IDENT (\",\" IDENT)* \":\" type\n",
    "    receiver: \"(\" (\"VAR\" | \"IN\")? IDENT \":\" IDENT \")\"\n",
    "    type: qualident | \"ARRAY\" (const_expr (\",\" const_expr)*)? \"OF\" type | (\"ABSTRACT\" | \"EXTENSIBLE\" | \"LIMITED\")? | \"RECORD\" (\"(\" qualident \")\")? field_list (\";\" field_list)* \"END\" | \"POINTER\" \"TO\" type | \"PROCEDURE\" (formal_pars)?\n",
    "    field_list: (ident_list \":\" type)?\n",
    "    statement_seq: statement (\";\" statement)*\n",
    "    statement: (designator \":=\" expr | designator (\"(\" (expr_list)? \")\")? \n",
    "            | \"IF\" expr \"THEN\" statement_seq (\"ELSIF\" expr \"THEN\" statement_seq)* (\"ELSE\" statement_seq)? \"END\" \n",
    "            | \"CASE\" expr \"OF\" case (\"|\" case)* (\"ELSE\" statement_seq)? \"END\" \n",
    "            | \"WHILE\" expr \"DO\" statement_seq \"END\" \n",
    "            | \"REPEAT\" statement_seq \"UNTIL\" expr \n",
    "            | \"FOR\" IDENT \":=\" expr \"TO\" expr (\"BY\" const_expr)? \"DO\" statement_seq \"END\" \n",
    "            | \"LOOP\" statement_seq \"END\" \n",
    "            | \"WITH\" (guard \"DO\" statement_seq)? (\"|\" (guard \"DO\" statement_seq)?)* (\"ELSE\" statement_seq)? \"END\" \n",
    "            | \"EXIT\" \n",
    "            | \"RETURN\" (expr)?)?\n",
    "    case: (case_labels (\",\" case_labels)* \":\" statement_seq)?\n",
    "    case_labels: const_expr (\"..\" const_expr)?\n",
    "    guard: qualident \":\" qualident\n",
    "    const_expr: expr\n",
    "    expr: simple_expr (relation simple_expr)?\n",
    "    simple_expr: (\"+\" | \"-\")? term (add_op term)*\n",
    "    term: factor (mul_op factor)*\n",
    "    factor: designator | NUMBER | CHARACTER | STRING | \"NIL\" | set | \"(\" expr \")\" | \" ~ \" factor\n",
    "    set: \"{\" (element (\",\" element)*)? \"}\"\n",
    "    element: expr (\"..\" expr)?\n",
    "    relation: \"=\" | \"#\" | \"<\" | \"<=\" | \">\" | \">=\" | \"IN\" | \"IS\"\n",
    "    add_op: \"+\" | \"-\" | \"OR\"\n",
    "    mul_op: \"*\" | \"/\" | \"DIV\" | \"MOD\" | \"&\"\n",
    "    designator: qualident (\".\" IDENT | \"[\" expr_list \"]\" | \" ^ \" | \"(\" qualident \")\" | \"(\" (expr_list)? \")\")* (\"$\")?\n",
    "    expr_list: expr (\",\" expr)*\n",
    "    ident_list: ident_def (\",\" ident_def)*\n",
    "    qualident: (IDENT \".\")? IDENT\n",
    "    ident_def: IDENT (\"*\" | \"-\")?\n",
    "    TAIL: /[\\s\\S]+/\n",
    "    ANY: /[^ ]+/    \n",
    "    IDENT: CNAME\n",
    "    NUMBER: INT | FLOAT | HEX\n",
    "    HEX: /0x[0-9A-Fa-f]+/\n",
    "    CHARACTER: /'[^']*'/\n",
    "    STRING: /\"[^\"]*\"/\n",
    "\n",
    "    COMMENT: /\\(\\*([^*]|\\*+[^*)])*\\*+\\)/\n",
    "    %import common.NEWLINE\n",
    "    %import common.CNAME\n",
    "    %import common.INT\n",
    "    %import common.FLOAT\n",
    "    %import common.WS\n",
    "    \n",
    "    %ignore WS\n",
    "    %ignore COMMENT\n",
    "\"\"\"\n",
    "#\n",
    "#%ignore COMMENT\n",
    "\n"
   ]
  },
  {
   "cell_type": "code",
   "execution_count": 174,
   "id": "0d61419a-c5d6-4abe-8c1a-18fc411e5c0d",
   "metadata": {},
   "outputs": [
    {
     "name": "stderr",
     "output_type": "stream",
     "text": [
      "<>:1: SyntaxWarning: invalid escape sequence '\\('\n",
      "<>:1: SyntaxWarning: invalid escape sequence '\\('\n",
      "/tmp/ipykernel_36/1211456529.py:1: SyntaxWarning: invalid escape sequence '\\('\n",
      "  comment_grammar = \"\"\"\n"
     ]
    },
    {
     "data": {
      "text/plain": [
       "Tree(Token('RULE', '_comment'), [Token('COMMENT', '(**\\ns \\n**)')])"
      ]
     },
     "execution_count": 174,
     "metadata": {},
     "output_type": "execute_result"
    }
   ],
   "source": [
    "comment_grammar = \"\"\"\n",
    "    _comment: COMMENT?\n",
    "    COMMENT: /\\(\\*([^*]|\\*+[^*)])*\\*+\\)/\n",
    "    %import common.WS\n",
    "    %import common.NEWLINE\n",
    "    %ignore WS\n",
    "\"\"\"\n",
    "\n",
    "\n",
    "parser = Lark(comment_grammar, start=\"_comment\")\n",
    "parser.parse(\"\"\"\n",
    "\n",
    "(**\n",
    "s \n",
    "**)\n",
    "\n",
    "\"\"\")"
   ]
  },
  {
   "cell_type": "code",
   "execution_count": 175,
   "id": "b61841eb-5b19-4018-8d15-c49a612b712f",
   "metadata": {},
   "outputs": [],
   "source": [
    "starts = [\n",
    "    \"module\", \n",
    "    \"import_list\",\n",
    "    \"expr\",\n",
    "    \"statement\"\n",
    "]"
   ]
  },
  {
   "cell_type": "code",
   "execution_count": 188,
   "id": "79dd86ef-7864-49f0-86f2-9d2b7bbd75a1",
   "metadata": {},
   "outputs": [],
   "source": [
    "def rule_match(grammar, rule, text):\n",
    "    parser = Lark(grammar, start=rule)\n",
    "    try:\n",
    "        tree = parser.parse(text)\n",
    "        return 1\n",
    "    except UnexpectedEOF:\n",
    "        return 2\n",
    "    except:\n",
    "        return 0\n",
    "\n",
    "def is_code_document(text):\n",
    "    return rule_match(ebnf_grammar, \"document\",text) == 1\n",
    "\n",
    "def is_module(text):\n",
    "    return rule_match(ebnf_grammar, \"module\",text) == 1\n",
    "\n",
    "def is_statement(text):\n",
    "    return rule_match(ebnf_grammar, \"statement\",text) == 1\n",
    "\n",
    "def get_module_text_len(text):\n",
    "    parser = Lark(ebnf_grammar, start=\"document\")\n",
    "    tree = parser.parse(text)\n",
    "    return len(text) - len(tree.children[1].value)\n",
    "    \n",
    "def is_comment(text):\n",
    "    return rule_match(comment_grammar, \"COMMENT\",text) == 1\n",
    "\n",
    "def is_comment_start(text):\n",
    "    return rule_match(comment_grammar, \"COMMENT\",text) == 2\n",
    "\n",
    "\n",
    "\n",
    "def try_module(text, rule):\n",
    "    parser = Lark(ebnf_grammar, start=rule)\n",
    "    try:\n",
    "        tree = parser.parse(code)\n",
    "        return 1\n",
    "    except UnexpectedEOF:\n",
    "        return 2\n",
    "    except:\n",
    "        return 0\n",
    "\n",
    "def print_lines_with_prefix(text, pref):\n",
    "    for l in text.split('\\n'):\n",
    "        print(f\"{pref}:\\t{l}\")\n",
    "\n",
    "def load_file(path):\n",
    "   with open(path, 'r', encoding='utf-8') as f:\n",
    "      return f.read()"
   ]
  },
  {
   "cell_type": "code",
   "execution_count": 189,
   "id": "d3e5913c-1eaa-49ce-b9f2-2e0113e99a53",
   "metadata": {},
   "outputs": [
    {
     "data": {
      "text/plain": [
       "Tree(Token('RULE', 'document'), [Tree(Token('RULE', 'module'), [Token('IDENT', 'HelloWorld'), Tree(Token('RULE', 'import_list'), [Token('IDENT', 'Out')]), Tree(Token('RULE', 'decl_seq'), []), Tree(Token('RULE', 'statement_seq'), [Tree(Token('RULE', 'statement'), [Tree(Token('RULE', 'designator'), [Tree(Token('RULE', 'qualident'), [Token('IDENT', 'a')])]), Tree(Token('RULE', 'expr'), [Tree(Token('RULE', 'simple_expr'), [Tree(Token('RULE', 'term'), [Tree(Token('RULE', 'factor'), [Tree(Token('RULE', 'designator'), [Tree(Token('RULE', 'qualident'), [Token('IDENT', 'b')])])])])])])]), Tree(Token('RULE', 'statement'), [])]), Token('IDENT', 'HelloWorld')]), Token('TAIL', '\\n')])"
      ]
     },
     "execution_count": 189,
     "metadata": {},
     "output_type": "execute_result"
    }
   ],
   "source": [
    "# Пример использования\n",
    "text = \"\"\"MODULE HelloWorld;\n",
    "(**\n",
    "hello\n",
    "**)\n",
    "IMPORT Out;\n",
    "BEGIN\n",
    "  a := b;\n",
    "END HelloWorld.\n",
    "\"\"\"\n",
    "parser = Lark(ebnf_grammar, start=\"document\")\n",
    "parser.parse(text)"
   ]
  },
  {
   "cell_type": "code",
   "execution_count": null,
   "id": "dcb33397-daae-4a19-b3c3-9ecaa2b5912b",
   "metadata": {},
   "outputs": [],
   "source": []
  },
  {
   "cell_type": "code",
   "execution_count": 190,
   "id": "1d08f51d-1f23-453a-9e81-755c7d32868c",
   "metadata": {},
   "outputs": [
    {
     "data": {
      "text/plain": [
       "'MODULE HelloWorld;\\n(**\\nhello\\n**)\\nIMPORT Out;\\nBEGIN\\n  a := b;\\nEND HelloWorld.\\n'"
      ]
     },
     "execution_count": 190,
     "metadata": {},
     "output_type": "execute_result"
    }
   ],
   "source": [
    "text"
   ]
  },
  {
   "cell_type": "code",
   "execution_count": 191,
   "id": "f9d2337c-4b95-4678-b956-9eafdbee1e6c",
   "metadata": {},
   "outputs": [],
   "source": [
    "parser = Lark(ebnf_grammar, start=\"document\", propagate_positions=True)\n",
    "tree = parser.parse(text)"
   ]
  },
  {
   "cell_type": "code",
   "execution_count": 211,
   "id": "aa57443f-1db6-4cdc-9934-db1561b2be30",
   "metadata": {},
   "outputs": [],
   "source": [
    "orig_text = load_file('/app/datasets/oberon/docs/bb_ru/Dev/Mod/AlienTool.odc')"
   ]
  },
  {
   "cell_type": "code",
   "execution_count": 212,
   "id": "3fe6dace-04e3-4744-a510-46b352724a91",
   "metadata": {},
   "outputs": [
    {
     "data": {
      "text/plain": [
       "4760"
      ]
     },
     "execution_count": 212,
     "metadata": {},
     "output_type": "execute_result"
    }
   ],
   "source": [
    "orig_text.find(\"END DevAlienTool.\") + len(\"END DevAlienTool.\")"
   ]
  },
  {
   "cell_type": "code",
   "execution_count": 213,
   "id": "60e69c7d-0fea-49e9-a41b-ebdc1a37cedf",
   "metadata": {},
   "outputs": [],
   "source": [
    "#print(text)"
   ]
  },
  {
   "cell_type": "code",
   "execution_count": 214,
   "id": "a92e43d6-88c3-4dd2-8eca-9566843ed4d6",
   "metadata": {},
   "outputs": [],
   "source": [
    "parser = Lark(ebnf_grammar, start=\"document\")\n",
    "_= parser.parse(orig_text)"
   ]
  },
  {
   "cell_type": "code",
   "execution_count": 215,
   "id": "404a55aa-f26d-4b4b-8a6a-5d2c7e0f8afb",
   "metadata": {},
   "outputs": [
    {
     "data": {
      "text/plain": [
       "True"
      ]
     },
     "execution_count": 215,
     "metadata": {},
     "output_type": "execute_result"
    }
   ],
   "source": [
    "is_code_document(orig_text)"
   ]
  },
  {
   "cell_type": "code",
   "execution_count": 216,
   "id": "8f3b6234-a11a-4aa5-9003-f4118d9fd18a",
   "metadata": {},
   "outputs": [
    {
     "data": {
      "text/plain": [
       "False"
      ]
     },
     "execution_count": 216,
     "metadata": {},
     "output_type": "execute_result"
    }
   ],
   "source": [
    "is_module(orig_text)"
   ]
  },
  {
   "cell_type": "code",
   "execution_count": 218,
   "id": "28d067f4-1509-433e-a26d-26acbe5fc5e8",
   "metadata": {},
   "outputs": [
    {
     "name": "stdout",
     "output_type": "stream",
     "text": [
      "CODE:\tMODULE DevAlienTool;\n",
      "CODE:\t(**\n",
      "CODE:\t\tproject\t= \"BlackBox\"\n",
      "CODE:\t\torganization\t= \"www.oberon.ch\"\n",
      "CODE:\t\tcontributors\t= \"Oberon microsystems\"\n",
      "CODE:\t\tversion\t= \"System/Rsrc/About\"\n",
      "CODE:\t\tcopyright\t= \"System/Rsrc/About\"\n",
      "CODE:\t\tlicense\t= \"Docu/BB-License\"\n",
      "CODE:\t\tchanges\t= \"\n",
      "CODE:\t\t- YYYYMMDD, nn, ...\n",
      "CODE:\t\t\"\n",
      "CODE:\t\tissues\t= \"\n",
      "CODE:\t\t- ...\n",
      "CODE:\t\t\"\n",
      "CODE:\t\n",
      "CODE:\t**)\n",
      "CODE:\t\n",
      "CODE:\t\tIMPORT\n",
      "CODE:\t\t\tServices, Ports, Stores, Models, Views, Controllers, Properties, Dialog, Containers, Documents,\n",
      "CODE:\t\t\tTextModels, TextMappers, TextViews, StdFolds;\n",
      "CODE:\t\n",
      "CODE:\t\tPROCEDURE Indent (VAR f: TextMappers.Formatter; level: INTEGER);\n",
      "CODE:\t\tBEGIN\n",
      "CODE:\t\t\tWHILE level > 0 DO f.WriteTab; DEC(level) END\n",
      "CODE:\t\tEND Indent;\n",
      "CODE:\t\n",
      "CODE:\t\tPROCEDURE WriteCause (VAR f: TextMappers.Formatter; cause: INTEGER);\n",
      "CODE:\t\tBEGIN\n",
      "CODE:\t\t\tf.rider.SetAttr(TextModels.NewColor(f.rider.attr, Ports.red));\n",
      "CODE:\t\t\tCASE cause OF\n",
      "CODE:\t\t\t| Stores.typeNotFound: f.WriteString(\"type in module not found\")\n",
      "CODE:\t\t\t| Stores.inconsModuleVersion: f.WriteString(\"inconsistent module version\")\n",
      "CODE:\t\t\t| Stores.invalidModuleFile: f.WriteString(\"invalid module file\")\n",
      "CODE:\t\t\t| Stores.moduleFileNotFound: f.WriteString(\"module not found\")\n",
      "CODE:\t\t\t| Stores.inconsistentType: f.WriteString(\"type path in module inconsistent with stored version\")\n",
      "CODE:\t\t\t| Stores.inconsistentVersion: f.WriteString(\"inconsistent version / program error\")\n",
      "CODE:\t\t\t| Stores.alienVersion: f.WriteString(\"alien version - outdated program\")\n",
      "CODE:\t\t\t| Stores.alienComponent: f.WriteString(\"alien component - required sub-part failed to internalize\")\n",
      "CODE:\t\t\tELSE f.WriteString(\"unknown (code\"); f.WriteInt(cause); f.WriteChar(\")\")\n",
      "CODE:\t\t\tEND;\n",
      "CODE:\t\t\tf.rider.SetAttr(TextModels.NewColor(f.rider.attr, Ports.black));\n",
      "CODE:\t\tEND WriteCause;\n",
      "CODE:\t\n",
      "CODE:\t\tPROCEDURE Out (VAR f: TextMappers.Formatter; level: INTEGER; st: Stores.Store);\n",
      "CODE:\t\t\tVAR t: Stores.TypeName;\n",
      "CODE:\t\n",
      "CODE:\t\t\tPROCEDURE OutAlien (VAR f: TextMappers.Formatter; \n",
      "CODE:\t\t\t\t\t\t\t\t\t\t\t\tpath: Stores.TypePath; cause: INTEGER; c: Stores.AlienComp);\n",
      "CODE:\t\t\t\tVAR i: INTEGER; t: TextModels.Model; form: TextMappers.Formatter;\n",
      "CODE:\t\t\tBEGIN\n",
      "CODE:\t\t\t\tf.WriteString(\" \");\n",
      "CODE:\t\t\t\tt := TextModels.dir.New(); form.ConnectTo(t);\n",
      "CODE:\t\n",
      "CODE:\t\t\t\tform.rider.SetAttr(TextModels.NewColor(form.rider.attr, Ports.blue));\n",
      "CODE:\t\t\t\tform.WriteString(path[0]); \n",
      "CODE:\t\t\t\tform.rider.SetAttr(TextModels.NewColor(form.rider.attr, Ports.black));\n",
      "CODE:\t\t\t\tform.WriteLn;\n",
      "CODE:\t\t\t\tINC(level);\n",
      "CODE:\t\t\t\tIF path[1] # \"\" THEN\n",
      "CODE:\t\t\t\t\tIndent(form, level); form.WriteString(\"path: (\");\n",
      "CODE:\t\t\t\t\ti := 1;\n",
      "CODE:\t\t\t\t\tWHILE path[i] # \"\" DO\n",
      "CODE:\t\t\t\t\t\tform.WriteString(path[i]);\n",
      "CODE:\t\t\t\t\t\tINC(i);\n",
      "CODE:\t\t\t\t\t\tIF path[i] # \"\" THEN form.WriteString(\", \") END\n",
      "CODE:\t\t\t\t\tEND;\n",
      "CODE:\t\t\t\t\tform.WriteChar(\")\"); form.WriteLn\n",
      "CODE:\t\t\t\tEND;\n",
      "CODE:\t\t\t\tIndent(form, level); form.WriteString(\"cause: \"); WriteCause(form, cause); form.WriteLn;\n",
      "CODE:\t\t\t\tIndent(form, level); form.WriteString(\"comps: \"); form.WriteLn;\n",
      "CODE:\t\t\t\tINC(level);\n",
      "CODE:\t\t\t\tWHILE c # NIL DO\n",
      "CODE:\t\t\t\t\tWITH c: Stores.AlienPiece DO\n",
      "CODE:\t\t\t\t\t\tIndent(form, level); form.WriteInt(c.len); form.WriteString(\" bytes data\"); form.WriteLn\n",
      "CODE:\t\t\t\t\t| c: Stores.AlienPart DO\n",
      "CODE:\t\t\t\t\t\tIF c.store # NIL THEN\n",
      "CODE:\t\t\t\t\t\t\tOut(form, level, c.store)\n",
      "CODE:\t\t\t\t\t\tELSE Indent(form, level); form.WriteString(\"NIL reference\"); form.WriteLn\n",
      "CODE:\t\t\t\t\t\tEND\n",
      "CODE:\t\t\t\t\tEND;\n",
      "CODE:\t\t\t\t\tc := c.next\n",
      "CODE:\t\t\t\tEND;\n",
      "CODE:\t\t\t\tDEC(level, 2);\n",
      "CODE:\t\t\t\tIndent(form, level);\n",
      "CODE:\t\t\t\t\n",
      "CODE:\t\t\t\tf.WriteView(StdFolds.dir.New(StdFolds.collapsed, \"\", t));\n",
      "CODE:\t\t\t\tf.rider.SetAttr(TextModels.NewColor(f.rider.attr, Ports.blue));\n",
      "CODE:\t\t\t\tf.WriteString(path[0]); \n",
      "CODE:\t\t\t\tf.rider.SetAttr(TextModels.NewColor(f.rider.attr, Ports.black));\n",
      "CODE:\t\t\t\tf.WriteView(StdFolds.dir.New(StdFolds.collapsed, \"\", NIL));\n",
      "CODE:\t\t\t\tf.WriteLn;\n",
      "CODE:\t\t\tEND OutAlien;\n",
      "CODE:\t\n",
      "CODE:\t\tBEGIN\n",
      "CODE:\t\t\tIndent(f, level);\n",
      "CODE:\t\t\tWITH st: Stores.Alien DO\n",
      "CODE:\t\t\t\tf.WriteString(\"Alien Store\"); OutAlien(f, st.path, st.cause, st.comps)\n",
      "CODE:\t\t\tELSE\n",
      "CODE:\t\t\t\tServices.GetTypeName(st, t);\n",
      "CODE:\t\t\t\tWITH st: Documents.Document DO f.WriteString(\"Document\")\n",
      "CODE:\t\t\t\t| st: Containers.Controller DO f.WriteString(\"Container Controller\")\n",
      "CODE:\t\t\t\t| st: Containers.View DO f.WriteString(\"Container View\")\n",
      "CODE:\t\t\t\t| st: Containers.Model DO f.WriteString(\"Container Model\")\n",
      "CODE:\t\t\t\t| st: Controllers.Controller DO f.WriteString(\"Controller\")\n",
      "CODE:\t\t\t\t| st: Views.View DO f.WriteString(\"View\")\n",
      "CODE:\t\t\t\t| st: Models.Model DO f.WriteString(\"Model\")\n",
      "CODE:\t\t\t\tELSE f.WriteString(\"Store\")\n",
      "CODE:\t\t\t\tEND;\n",
      "CODE:\t\t\t\tf.WriteString(' \"'); f.WriteString(t); f.WriteChar('\"'); f.WriteLn\n",
      "CODE:\t\t\tEND\n",
      "CODE:\t\tEND Out;\n",
      "CODE:\t\n",
      "CODE:\t\tPROCEDURE Analyze*;\n",
      "CODE:\t\t\tVAR v: Views.View; f: TextMappers.Formatter; d: Documents.Document;\n",
      "CODE:\t\t\t\tops: Controllers.PollOpsMsg; bp: Properties.BoundsPref; t: TextModels.Model;\n",
      "CODE:\t\tBEGIN\n",
      "CODE:\t\t\tControllers.PollOps(ops); v := ops.singleton;\n",
      "CODE:\t\t\tIF v # NIL THEN\n",
      "CODE:\t\t\t\tIF v IS Views.Alien THEN\n",
      "CODE:\t\t\t\t\tt := TextModels.dir.New();\n",
      "CODE:\t\t\t\t\tf.ConnectTo(t);\n",
      "CODE:\t\t\t\t\tOut(f, 0, v(Views.Alien).store);\n",
      "CODE:\t\t\t\t\tStdFolds.ExpandFolds(t, FALSE, \"\");\n",
      "CODE:\t\t\t\t\tv := TextViews.dir.New(t);\n",
      "CODE:\t\t\t\t\tViews.OpenAux(v, \"Alien Info\");\n",
      "CODE:\t(*\n",
      "CODE:\t\t\t\t\tbp.w := Views.undefined; bp.h := Views.undefined; \n",
      "CODE:\t\t\t\t\tViews.HandlePropMsg(v, bp);\n",
      "CODE:\t\t\t\t\td := Documents.dir.New(v, bp.w, bp.h);\n",
      "CODE:\t\t\t\t\tViews.OpenAux(d, \"Alien Info\")\n",
      "CODE:\t*)\n",
      "CODE:\t\t\t\tELSE Dialog.ShowMsg(\"#Dev:NoAlienView\")\n",
      "CODE:\t\t\t\tEND\n",
      "CODE:\t\t\tELSE Dialog.ShowMsg(\"#Dev:NoSingletonFound\")\n",
      "CODE:\t\t\tEND\n",
      "CODE:\t\tEND Analyze;\n",
      "CODE:\t\n",
      "CODE:\tEND DevAlienTool.\n",
      "EMPT:\n",
      "EMPT:\n",
      "CODE:\tStrings\n",
      "TEXT:\tNoAlienView\tno alien view\n",
      "TEXT:\tNoSingletonFound\tno singleton found\n",
      "EMPT:\n",
      "CODE:\tInfo\n",
      "CODE:\tSEPARATOR\n",
      "TEXT:\t\"&Aliens\" \"\" \"DevAlienTool.Analyze\" \"DevAlienTool.SingletonGuard\"\n",
      "CODE:\tEND\n",
      "CODE:\tC\n"
     ]
    }
   ],
   "source": [
    "if is_code_document(orig_text):\n",
    "    l = get_module_text_len(orig_text)\n",
    "    code = orig_text[:l]\n",
    "    text = orig_text[l:]\n",
    "elif is_module(text):\n",
    "    code = orig_text\n",
    "    text = \"\"\n",
    "else:\n",
    "    code = \"\"\n",
    "    text = orig_text\n",
    "\n",
    "print_lines_with_prefix(code, \"CODE\")\n",
    "\n",
    "for l in text.split('\\n'):\n",
    "    \n",
    "    if len(l) == 0 or l.isspace():\n",
    "        print(f\"EMPT:\")\n",
    "    elif is_statement(l):\n",
    "        print(f\"CODE:\\t{l}\")\n",
    "    else:\n",
    "        print(f\"TEXT:\\t{l}\")\n"
   ]
  },
  {
   "cell_type": "code",
   "execution_count": 209,
   "id": "a77b248d-0e8f-4a5d-90ae-32c26136e7e1",
   "metadata": {},
   "outputs": [
    {
     "data": {
      "text/plain": [
       "False"
      ]
     },
     "execution_count": 209,
     "metadata": {},
     "output_type": "execute_result"
    }
   ],
   "source": [
    "text.split('\\n')[0].isspace()"
   ]
  },
  {
   "cell_type": "code",
   "execution_count": 11,
   "id": "3a01ebad-bd15-4974-8c4a-14ca47be322e",
   "metadata": {},
   "outputs": [
    {
     "data": {
      "text/plain": [
       "True"
      ]
     },
     "execution_count": 11,
     "metadata": {},
     "output_type": "execute_result"
    }
   ],
   "source": [
    "is_document(text)"
   ]
  },
  {
   "cell_type": "code",
   "execution_count": null,
   "id": "8f7d95e0-5e92-41c0-9d05-acbf9f17a001",
   "metadata": {},
   "outputs": [],
   "source": []
  }
 ],
 "metadata": {
  "kernelspec": {
   "display_name": "Python 3 (ipykernel)",
   "language": "python",
   "name": "python3"
  },
  "language_info": {
   "codemirror_mode": {
    "name": "ipython",
    "version": 3
   },
   "file_extension": ".py",
   "mimetype": "text/x-python",
   "name": "python",
   "nbconvert_exporter": "python",
   "pygments_lexer": "ipython3",
   "version": "3.12.8"
  }
 },
 "nbformat": 4,
 "nbformat_minor": 5
}
