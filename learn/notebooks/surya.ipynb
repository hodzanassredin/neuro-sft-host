{
 "cells": [
  {
   "cell_type": "code",
   "execution_count": 2,
   "id": "030871db-8e4a-4523-9a6b-0138ba9b6dd5",
   "metadata": {},
   "outputs": [
    {
     "name": "stdout",
     "output_type": "stream",
     "text": [
      "Requirement already satisfied: surya-ocr in /opt/conda/lib/python3.12/site-packages (0.10.0)\n",
      "Collecting marker-pdf\n",
      "  Downloading marker_pdf-1.3.3-py3-none-any.whl.metadata (22 kB)\n",
      "Requirement already satisfied: click<9.0.0,>=8.1.8 in /opt/conda/lib/python3.12/site-packages (from surya-ocr) (8.1.8)\n",
      "Requirement already satisfied: filetype<2.0.0,>=1.2.0 in /opt/conda/lib/python3.12/site-packages (from surya-ocr) (1.2.0)\n",
      "Requirement already satisfied: opencv-python<5.0.0.0,>=4.9.0.80 in /opt/conda/lib/python3.12/site-packages (from surya-ocr) (4.11.0.86)\n",
      "Requirement already satisfied: pillow<11.0.0,>=10.2.0 in /opt/conda/lib/python3.12/site-packages (from surya-ocr) (10.4.0)\n",
      "Requirement already satisfied: pydantic<3.0.0,>=2.5.3 in /opt/conda/lib/python3.12/site-packages (from surya-ocr) (2.10.6)\n",
      "Requirement already satisfied: pydantic-settings<3.0.0,>=2.1.0 in /opt/conda/lib/python3.12/site-packages (from surya-ocr) (2.7.1)\n",
      "Requirement already satisfied: pypdfium2==4.30.0 in /opt/conda/lib/python3.12/site-packages (from surya-ocr) (4.30.0)\n",
      "Requirement already satisfied: python-dotenv<2.0.0,>=1.0.0 in /opt/conda/lib/python3.12/site-packages (from surya-ocr) (1.0.1)\n",
      "Requirement already satisfied: torch<3.0.0,>=2.4.1 in /opt/conda/lib/python3.12/site-packages (from surya-ocr) (2.5.1)\n",
      "Requirement already satisfied: transformers<5.0.0,>=4.41.0 in /opt/conda/lib/python3.12/site-packages (from surya-ocr) (4.48.0)\n",
      "Collecting ftfy<7.0.0,>=6.1.1 (from marker-pdf)\n",
      "  Downloading ftfy-6.3.1-py3-none-any.whl.metadata (7.3 kB)\n",
      "Collecting google-generativeai<0.9.0,>=0.8.3 (from marker-pdf)\n",
      "  Downloading google_generativeai-0.8.4-py3-none-any.whl.metadata (4.2 kB)\n",
      "Collecting markdown2<3.0.0,>=2.5.2 (from marker-pdf)\n",
      "  Downloading markdown2-2.5.3-py3-none-any.whl.metadata (2.1 kB)\n",
      "Collecting markdownify<0.14.0,>=0.13.1 (from marker-pdf)\n",
      "  Downloading markdownify-0.13.1-py3-none-any.whl.metadata (8.5 kB)\n",
      "Collecting pdftext<0.6.0,>=0.5.1 (from marker-pdf)\n",
      "  Downloading pdftext-0.5.1-py3-none-any.whl.metadata (8.5 kB)\n",
      "Requirement already satisfied: rapidfuzz<4.0.0,>=3.8.1 in /opt/conda/lib/python3.12/site-packages (from marker-pdf) (3.11.0)\n",
      "Requirement already satisfied: regex<2025.0.0,>=2024.4.28 in /opt/conda/lib/python3.12/site-packages (from marker-pdf) (2024.11.6)\n",
      "Requirement already satisfied: scikit-learn<2.0.0,>=1.6.1 in /opt/conda/lib/python3.12/site-packages (from marker-pdf) (1.6.1)\n",
      "Collecting texify<0.3.0,>=0.2.1 (from marker-pdf)\n",
      "  Downloading texify-0.2.1-py3-none-any.whl.metadata (10 kB)\n",
      "Requirement already satisfied: tqdm<5.0.0,>=4.66.1 in /opt/conda/lib/python3.12/site-packages (from marker-pdf) (4.66.5)\n",
      "Requirement already satisfied: wcwidth in /opt/conda/lib/python3.12/site-packages (from ftfy<7.0.0,>=6.1.1->marker-pdf) (0.2.13)\n",
      "Collecting google-ai-generativelanguage==0.6.15 (from google-generativeai<0.9.0,>=0.8.3->marker-pdf)\n",
      "  Downloading google_ai_generativelanguage-0.6.15-py3-none-any.whl.metadata (5.7 kB)\n",
      "Requirement already satisfied: google-api-core in /opt/conda/lib/python3.12/site-packages (from google-generativeai<0.9.0,>=0.8.3->marker-pdf) (2.24.0)\n",
      "Collecting google-api-python-client (from google-generativeai<0.9.0,>=0.8.3->marker-pdf)\n",
      "  Downloading google_api_python_client-2.160.0-py2.py3-none-any.whl.metadata (6.7 kB)\n",
      "Requirement already satisfied: google-auth>=2.15.0 in /opt/conda/lib/python3.12/site-packages (from google-generativeai<0.9.0,>=0.8.3->marker-pdf) (2.38.0)\n",
      "Requirement already satisfied: protobuf in /opt/conda/lib/python3.12/site-packages (from google-generativeai<0.9.0,>=0.8.3->marker-pdf) (5.29.3)\n",
      "Requirement already satisfied: typing-extensions in /opt/conda/lib/python3.12/site-packages (from google-generativeai<0.9.0,>=0.8.3->marker-pdf) (4.12.2)\n",
      "Requirement already satisfied: proto-plus<2.0.0dev,>=1.22.3 in /opt/conda/lib/python3.12/site-packages (from google-ai-generativelanguage==0.6.15->google-generativeai<0.9.0,>=0.8.3->marker-pdf) (1.25.0)\n",
      "Requirement already satisfied: beautifulsoup4<5,>=4.9 in /opt/conda/lib/python3.12/site-packages (from markdownify<0.14.0,>=0.13.1->marker-pdf) (4.12.3)\n",
      "Requirement already satisfied: six<2,>=1.15 in /opt/conda/lib/python3.12/site-packages (from markdownify<0.14.0,>=0.13.1->marker-pdf) (1.17.0)\n",
      "Requirement already satisfied: numpy>=1.21.2 in /opt/conda/lib/python3.12/site-packages (from opencv-python<5.0.0.0,>=4.9.0.80->surya-ocr) (1.26.4)\n",
      "Requirement already satisfied: annotated-types>=0.6.0 in /opt/conda/lib/python3.12/site-packages (from pydantic<3.0.0,>=2.5.3->surya-ocr) (0.7.0)\n",
      "Requirement already satisfied: pydantic-core==2.27.2 in /opt/conda/lib/python3.12/site-packages (from pydantic<3.0.0,>=2.5.3->surya-ocr) (2.27.2)\n",
      "Requirement already satisfied: scipy>=1.6.0 in /opt/conda/lib/python3.12/site-packages (from scikit-learn<2.0.0,>=1.6.1->marker-pdf) (1.15.1)\n",
      "Requirement already satisfied: joblib>=1.2.0 in /opt/conda/lib/python3.12/site-packages (from scikit-learn<2.0.0,>=1.6.1->marker-pdf) (1.4.2)\n",
      "Requirement already satisfied: threadpoolctl>=3.1.0 in /opt/conda/lib/python3.12/site-packages (from scikit-learn<2.0.0,>=1.6.1->marker-pdf) (3.5.0)\n",
      "Requirement already satisfied: filelock in /opt/conda/lib/python3.12/site-packages (from torch<3.0.0,>=2.4.1->surya-ocr) (3.16.1)\n",
      "Requirement already satisfied: networkx in /opt/conda/lib/python3.12/site-packages (from torch<3.0.0,>=2.4.1->surya-ocr) (3.4.2)\n",
      "Requirement already satisfied: jinja2 in /opt/conda/lib/python3.12/site-packages (from torch<3.0.0,>=2.4.1->surya-ocr) (3.1.5)\n",
      "Requirement already satisfied: fsspec in /opt/conda/lib/python3.12/site-packages (from torch<3.0.0,>=2.4.1->surya-ocr) (2024.9.0)\n",
      "Requirement already satisfied: nvidia-cuda-nvrtc-cu12==12.4.127 in /opt/conda/lib/python3.12/site-packages (from torch<3.0.0,>=2.4.1->surya-ocr) (12.4.127)\n",
      "Requirement already satisfied: nvidia-cuda-runtime-cu12==12.4.127 in /opt/conda/lib/python3.12/site-packages (from torch<3.0.0,>=2.4.1->surya-ocr) (12.4.127)\n",
      "Requirement already satisfied: nvidia-cuda-cupti-cu12==12.4.127 in /opt/conda/lib/python3.12/site-packages (from torch<3.0.0,>=2.4.1->surya-ocr) (12.4.127)\n",
      "Requirement already satisfied: nvidia-cudnn-cu12==9.1.0.70 in /opt/conda/lib/python3.12/site-packages (from torch<3.0.0,>=2.4.1->surya-ocr) (9.1.0.70)\n",
      "Requirement already satisfied: nvidia-cublas-cu12==12.4.5.8 in /opt/conda/lib/python3.12/site-packages (from torch<3.0.0,>=2.4.1->surya-ocr) (12.4.5.8)\n",
      "Requirement already satisfied: nvidia-cufft-cu12==11.2.1.3 in /opt/conda/lib/python3.12/site-packages (from torch<3.0.0,>=2.4.1->surya-ocr) (11.2.1.3)\n",
      "Requirement already satisfied: nvidia-curand-cu12==10.3.5.147 in /opt/conda/lib/python3.12/site-packages (from torch<3.0.0,>=2.4.1->surya-ocr) (10.3.5.147)\n",
      "Requirement already satisfied: nvidia-cusolver-cu12==11.6.1.9 in /opt/conda/lib/python3.12/site-packages (from torch<3.0.0,>=2.4.1->surya-ocr) (11.6.1.9)\n",
      "Requirement already satisfied: nvidia-cusparse-cu12==12.3.1.170 in /opt/conda/lib/python3.12/site-packages (from torch<3.0.0,>=2.4.1->surya-ocr) (12.3.1.170)\n",
      "Requirement already satisfied: nvidia-nccl-cu12==2.21.5 in /opt/conda/lib/python3.12/site-packages (from torch<3.0.0,>=2.4.1->surya-ocr) (2.21.5)\n",
      "Requirement already satisfied: nvidia-nvtx-cu12==12.4.127 in /opt/conda/lib/python3.12/site-packages (from torch<3.0.0,>=2.4.1->surya-ocr) (12.4.127)\n",
      "Requirement already satisfied: nvidia-nvjitlink-cu12==12.4.127 in /opt/conda/lib/python3.12/site-packages (from torch<3.0.0,>=2.4.1->surya-ocr) (12.4.127)\n",
      "Requirement already satisfied: triton==3.1.0 in /opt/conda/lib/python3.12/site-packages (from torch<3.0.0,>=2.4.1->surya-ocr) (3.1.0)\n",
      "Requirement already satisfied: setuptools in /opt/conda/lib/python3.12/site-packages (from torch<3.0.0,>=2.4.1->surya-ocr) (75.1.0)\n",
      "Requirement already satisfied: sympy==1.13.1 in /opt/conda/lib/python3.12/site-packages (from torch<3.0.0,>=2.4.1->surya-ocr) (1.13.1)\n",
      "Requirement already satisfied: mpmath<1.4,>=1.1.0 in /opt/conda/lib/python3.12/site-packages (from sympy==1.13.1->torch<3.0.0,>=2.4.1->surya-ocr) (1.3.0)\n",
      "Requirement already satisfied: huggingface-hub<1.0,>=0.24.0 in /opt/conda/lib/python3.12/site-packages (from transformers<5.0.0,>=4.41.0->surya-ocr) (0.27.1)\n",
      "Requirement already satisfied: packaging>=20.0 in /opt/conda/lib/python3.12/site-packages (from transformers<5.0.0,>=4.41.0->surya-ocr) (24.1)\n",
      "Requirement already satisfied: pyyaml>=5.1 in /opt/conda/lib/python3.12/site-packages (from transformers<5.0.0,>=4.41.0->surya-ocr) (6.0.2)\n",
      "Requirement already satisfied: requests in /opt/conda/lib/python3.12/site-packages (from transformers<5.0.0,>=4.41.0->surya-ocr) (2.32.3)\n",
      "Requirement already satisfied: tokenizers<0.22,>=0.21 in /opt/conda/lib/python3.12/site-packages (from transformers<5.0.0,>=4.41.0->surya-ocr) (0.21.0)\n",
      "Requirement already satisfied: safetensors>=0.4.1 in /opt/conda/lib/python3.12/site-packages (from transformers<5.0.0,>=4.41.0->surya-ocr) (0.5.2)\n",
      "Requirement already satisfied: soupsieve>1.2 in /opt/conda/lib/python3.12/site-packages (from beautifulsoup4<5,>=4.9->markdownify<0.14.0,>=0.13.1->marker-pdf) (2.6)\n",
      "Requirement already satisfied: googleapis-common-protos<2.0.dev0,>=1.56.2 in /opt/conda/lib/python3.12/site-packages (from google-api-core->google-generativeai<0.9.0,>=0.8.3->marker-pdf) (1.66.0)\n",
      "Requirement already satisfied: cachetools<6.0,>=2.0.0 in /opt/conda/lib/python3.12/site-packages (from google-auth>=2.15.0->google-generativeai<0.9.0,>=0.8.3->marker-pdf) (5.5.1)\n",
      "Requirement already satisfied: pyasn1-modules>=0.2.1 in /opt/conda/lib/python3.12/site-packages (from google-auth>=2.15.0->google-generativeai<0.9.0,>=0.8.3->marker-pdf) (0.4.1)\n",
      "Requirement already satisfied: rsa<5,>=3.1.4 in /opt/conda/lib/python3.12/site-packages (from google-auth>=2.15.0->google-generativeai<0.9.0,>=0.8.3->marker-pdf) (4.9)\n",
      "Requirement already satisfied: charset-normalizer<4,>=2 in /opt/conda/lib/python3.12/site-packages (from requests->transformers<5.0.0,>=4.41.0->surya-ocr) (3.3.2)\n",
      "Requirement already satisfied: idna<4,>=2.5 in /opt/conda/lib/python3.12/site-packages (from requests->transformers<5.0.0,>=4.41.0->surya-ocr) (3.7)\n",
      "Requirement already satisfied: urllib3<3,>=1.21.1 in /opt/conda/lib/python3.12/site-packages (from requests->transformers<5.0.0,>=4.41.0->surya-ocr) (2.2.3)\n",
      "Requirement already satisfied: certifi>=2017.4.17 in /opt/conda/lib/python3.12/site-packages (from requests->transformers<5.0.0,>=4.41.0->surya-ocr) (2024.8.30)\n",
      "Collecting httplib2<1.dev0,>=0.19.0 (from google-api-python-client->google-generativeai<0.9.0,>=0.8.3->marker-pdf)\n",
      "  Downloading httplib2-0.22.0-py3-none-any.whl.metadata (2.6 kB)\n",
      "Collecting google-auth-httplib2<1.0.0,>=0.2.0 (from google-api-python-client->google-generativeai<0.9.0,>=0.8.3->marker-pdf)\n",
      "  Downloading google_auth_httplib2-0.2.0-py2.py3-none-any.whl.metadata (2.2 kB)\n",
      "Collecting uritemplate<5,>=3.0.1 (from google-api-python-client->google-generativeai<0.9.0,>=0.8.3->marker-pdf)\n",
      "  Downloading uritemplate-4.1.1-py2.py3-none-any.whl.metadata (2.9 kB)\n",
      "Requirement already satisfied: MarkupSafe>=2.0 in /opt/conda/lib/python3.12/site-packages (from jinja2->torch<3.0.0,>=2.4.1->surya-ocr) (3.0.2)\n",
      "Requirement already satisfied: grpcio<2.0dev,>=1.33.2 in /opt/conda/lib/python3.12/site-packages (from google-api-core[grpc]!=2.0.*,!=2.1.*,!=2.10.*,!=2.2.*,!=2.3.*,!=2.4.*,!=2.5.*,!=2.6.*,!=2.7.*,!=2.8.*,!=2.9.*,<3.0.0dev,>=1.34.1->google-ai-generativelanguage==0.6.15->google-generativeai<0.9.0,>=0.8.3->marker-pdf) (1.70.0)\n",
      "Collecting grpcio-status<2.0.dev0,>=1.33.2 (from google-api-core[grpc]!=2.0.*,!=2.1.*,!=2.10.*,!=2.2.*,!=2.3.*,!=2.4.*,!=2.5.*,!=2.6.*,!=2.7.*,!=2.8.*,!=2.9.*,<3.0.0dev,>=1.34.1->google-ai-generativelanguage==0.6.15->google-generativeai<0.9.0,>=0.8.3->marker-pdf)\n",
      "  Downloading grpcio_status-1.70.0-py3-none-any.whl.metadata (1.1 kB)\n",
      "Requirement already satisfied: pyparsing!=3.0.0,!=3.0.1,!=3.0.2,!=3.0.3,<4,>=2.4.2 in /opt/conda/lib/python3.12/site-packages (from httplib2<1.dev0,>=0.19.0->google-api-python-client->google-generativeai<0.9.0,>=0.8.3->marker-pdf) (3.2.1)\n",
      "Requirement already satisfied: pyasn1<0.7.0,>=0.4.6 in /opt/conda/lib/python3.12/site-packages (from pyasn1-modules>=0.2.1->google-auth>=2.15.0->google-generativeai<0.9.0,>=0.8.3->marker-pdf) (0.6.1)\n",
      "Downloading marker_pdf-1.3.3-py3-none-any.whl (129 kB)\n",
      "Downloading ftfy-6.3.1-py3-none-any.whl (44 kB)\n",
      "Downloading google_generativeai-0.8.4-py3-none-any.whl (175 kB)\n",
      "Downloading google_ai_generativelanguage-0.6.15-py3-none-any.whl (1.3 MB)\n",
      "\u001b[2K   \u001b[90m━━━━━━━━━━━━━━━━━━━━━━━━━━━━━━━━━━━━━━━━\u001b[0m \u001b[32m1.3/1.3 MB\u001b[0m \u001b[31m11.3 MB/s\u001b[0m eta \u001b[36m0:00:00\u001b[0m\n",
      "Downloading markdown2-2.5.3-py3-none-any.whl (48 kB)\n",
      "Downloading markdownify-0.13.1-py3-none-any.whl (10 kB)\n",
      "Downloading pdftext-0.5.1-py3-none-any.whl (22 kB)\n",
      "Downloading texify-0.2.1-py3-none-any.whl (29 kB)\n",
      "Downloading google_api_python_client-2.160.0-py2.py3-none-any.whl (12.8 MB)\n",
      "\u001b[2K   \u001b[90m━━━━━━━━━━━━━━━━━━━━━━━━━━━━━━━━━━━━━━━━\u001b[0m \u001b[32m12.8/12.8 MB\u001b[0m \u001b[31m20.5 MB/s\u001b[0m eta \u001b[36m0:00:00\u001b[0m \u001b[36m0:00:01\u001b[0m\n",
      "Downloading google_auth_httplib2-0.2.0-py2.py3-none-any.whl (9.3 kB)\n",
      "Downloading httplib2-0.22.0-py3-none-any.whl (96 kB)\n",
      "Downloading uritemplate-4.1.1-py2.py3-none-any.whl (10 kB)\n",
      "Downloading grpcio_status-1.70.0-py3-none-any.whl (14 kB)\n",
      "Installing collected packages: uritemplate, markdown2, httplib2, ftfy, markdownify, grpcio-status, google-auth-httplib2, pdftext, google-api-python-client, texify, google-ai-generativelanguage, google-generativeai, marker-pdf\n",
      "Successfully installed ftfy-6.3.1 google-ai-generativelanguage-0.6.15 google-api-python-client-2.160.0 google-auth-httplib2-0.2.0 google-generativeai-0.8.4 grpcio-status-1.70.0 httplib2-0.22.0 markdown2-2.5.3 markdownify-0.13.1 marker-pdf-1.3.3 pdftext-0.5.1 texify-0.2.1 uritemplate-4.1.1\n",
      "\u001b[33mWARNING: Running pip as the 'root' user can result in broken permissions and conflicting behaviour with the system package manager, possibly rendering your system unusable.It is recommended to use a virtual environment instead: https://pip.pypa.io/warnings/venv. Use the --root-user-action option if you know what you are doing and want to suppress this warning.\u001b[0m\u001b[33m\n",
      "\u001b[0m\n",
      "\u001b[1m[\u001b[0m\u001b[34;49mnotice\u001b[0m\u001b[1;39;49m]\u001b[0m\u001b[39;49m A new release of pip is available: \u001b[0m\u001b[31;49m24.3.1\u001b[0m\u001b[39;49m -> \u001b[0m\u001b[32;49m25.0\u001b[0m\n",
      "\u001b[1m[\u001b[0m\u001b[34;49mnotice\u001b[0m\u001b[1;39;49m]\u001b[0m\u001b[39;49m To update, run: \u001b[0m\u001b[32;49mpip install --upgrade pip\u001b[0m\n"
     ]
    }
   ],
   "source": [
    "!pip install surya-ocr marker-pdf"
   ]
  },
  {
   "cell_type": "code",
   "execution_count": 3,
   "id": "47039560-5b6b-4a03-8d60-40e30ebe17de",
   "metadata": {},
   "outputs": [
    {
     "name": "stderr",
     "output_type": "stream",
     "text": [
      "/opt/conda/lib/python3.12/site-packages/tqdm/auto.py:21: TqdmWarning: IProgress not found. Please update jupyter and ipywidgets. See https://ipywidgets.readthedocs.io/en/stable/user_install.html\n",
      "  from .autonotebook import tqdm as notebook_tqdm\n"
     ]
    },
    {
     "name": "stdout",
     "output_type": "stream",
     "text": [
      "Loaded layout model datalab-to/surya_layout on device cuda with dtype torch.float16\n",
      "Loaded texify model datalab-to/texify on device cuda with dtype torch.float16\n",
      "Loaded recognition model vikp/surya_rec2 on device cuda with dtype torch.float16\n",
      "Loaded table recognition model datalab-to/surya_tablerec on device cuda with dtype torch.float16\n",
      "Loaded detection model vikp/surya_det3 on device cuda with dtype torch.float16\n"
     ]
    }
   ],
   "source": [
    "from marker.converters.pdf import PdfConverter\n",
    "from marker.models import create_model_dict\n",
    "from marker.output import text_from_rendered\n",
    "\n",
    "converter = PdfConverter(\n",
    "    artifact_dict=create_model_dict(),\n",
    ")\n"
   ]
  },
  {
   "cell_type": "code",
   "execution_count": 11,
   "id": "10a92454-66af-4fa8-ae4a-fc32cb582e87",
   "metadata": {},
   "outputs": [],
   "source": [
    "import os\n",
    "import hashlib\n",
    "\n",
    "\n",
    "def calculate_hash(file_path):\n",
    "    \"\"\"Вычисляет SHA-256 хеш файла.\"\"\"\n",
    "    sha256 = hashlib.sha256()\n",
    "    with open(file_path, 'rb') as f:\n",
    "        while chunk := f.read(8192):\n",
    "            sha256.update(chunk)\n",
    "    return sha256.hexdigest()\n",
    "\n",
    "def process_pdf_folder(folder_path, output_folder):\n",
    "    \"\"\"Обрабатывает папку с PDF файлами, конвертирует их в текст и исключает дубликаты.\"\"\"\n",
    "    if not os.path.exists(output_folder):\n",
    "        os.makedirs(output_folder)\n",
    "\n",
    "    seen_hashes = set()\n",
    "    for filename in os.listdir(folder_path):\n",
    "        if filename.endswith('.pdf'):\n",
    "            file_path = os.path.join(folder_path, filename)\n",
    "            file_hash = calculate_hash(file_path)\n",
    "\n",
    "            if file_hash not in seen_hashes:\n",
    "                seen_hashes.add(file_hash)\n",
    "                text = pdf_to_text(file_path)\n",
    "                output_file_path = os.path.join(output_folder, f\"{os.path.splitext(filename)[0]}.txt\")\n",
    "                with open(output_file_path, 'w', encoding='utf-8') as output_file:\n",
    "                    output_file.write(text)\n",
    "                print(f\"Processed: {filename}\")\n",
    "            else:\n",
    "                print(f\"Duplicate found, skipping: {filename}\")\n",
    "\n",
    "def pdf_to_text(fname):\n",
    "    rendered = converter(fname)\n",
    "    text, _, images = text_from_rendered(rendered)\n",
    "    return text"
   ]
  },
  {
   "cell_type": "code",
   "execution_count": null,
   "id": "39a06cfe-fcbc-412e-a4a3-666d1ac6feb7",
   "metadata": {},
   "outputs": [
    {
     "name": "stderr",
     "output_type": "stream",
     "text": [
      "Recognizing layout: 100%|██████████| 12/12 [00:06<00:00,  1.89it/s]\n",
      "100%|██████████| 12/12 [00:00<00:00, 48.40it/s]\n",
      "Detecting bboxes: 0it [00:00, ?it/s]\n",
      "Recognizing equations: 0it [00:00, ?it/s]\n",
      "Detecting bboxes: 0it [00:00, ?it/s]\n",
      "Recognizing tables: 100%|██████████| 6/6 [00:03<00:00,  1.54it/s]\n"
     ]
    },
    {
     "name": "stdout",
     "output_type": "stream",
     "text": [
      "Processed: 1.pdf\n"
     ]
    },
    {
     "name": "stderr",
     "output_type": "stream",
     "text": [
      "Recognizing layout: 100%|██████████| 2/2 [00:00<00:00,  2.00it/s]\n",
      "100%|██████████| 2/2 [00:00<00:00, 76.59it/s]\n",
      "Detecting bboxes: 0it [00:00, ?it/s]\n",
      "Recognizing equations: 0it [00:00, ?it/s]\n",
      "Detecting bboxes: 0it [00:00, ?it/s]\n",
      "Recognizing tables: 100%|██████████| 2/2 [00:00<00:00,  3.41it/s]"
     ]
    },
    {
     "name": "stdout",
     "output_type": "stream",
     "text": [
      "Processed: 285 (1).pdf\n",
      "Duplicate found, skipping: 285.pdf\n"
     ]
    },
    {
     "name": "stderr",
     "output_type": "stream",
     "text": [
      "\n",
      "Recognizing layout: 100%|██████████| 36/36 [00:21<00:00,  1.68it/s]\n",
      "100%|██████████| 36/36 [00:00<00:00, 52.81it/s]\n",
      "Detecting bboxes: 0it [00:00, ?it/s]\n",
      "Recognizing equations:   0%|          | 0/7 [00:00<?, ?it/s]\n",
      "\u001b[Aify inference:   0%|          | 0/1 [00:00<?, ?it/s]\n",
      "Texify inference: 100%|██████████| 1/1 [00:02<00:00,  2.64s/it]\n",
      "Recognizing equations:  14%|█▍        | 1/7 [00:02<00:15,  2.65s/it]\n",
      "\u001b[Aify inference:   0%|          | 0/1 [00:00<?, ?it/s]\n",
      "Texify inference: 100%|██████████| 1/1 [00:04<00:00,  4.54s/it]\n",
      "Recognizing equations:  29%|██▊       | 2/7 [00:07<00:18,  3.77s/it]\n",
      "\u001b[Aify inference:   0%|          | 0/1 [00:00<?, ?it/s]\n",
      "Texify inference: 100%|██████████| 1/1 [00:06<00:00,  6.03s/it]\n",
      "Recognizing equations:  43%|████▎     | 3/7 [00:13<00:19,  4.80s/it]\n",
      "\u001b[Aify inference:   0%|          | 0/1 [00:00<?, ?it/s]\n",
      "Texify inference: 100%|██████████| 1/1 [00:07<00:00,  7.71s/it]\n",
      "Recognizing equations:  57%|█████▋    | 4/7 [00:20<00:17,  5.95s/it]\n",
      "\u001b[Aify inference:   0%|          | 0/1 [00:00<?, ?it/s]\n",
      "Texify inference: 100%|██████████| 1/1 [00:10<00:00, 10.98s/it]\n",
      "Recognizing equations:  71%|███████▏  | 5/7 [00:31<00:15,  7.77s/it]\n",
      "\u001b[Aify inference:   0%|          | 0/1 [00:00<?, ?it/s]\n",
      "Texify inference: 100%|██████████| 1/1 [00:03<00:00,  3.09s/it]\n",
      "Recognizing equations:  86%|████████▌ | 6/7 [00:35<00:06,  6.18s/it]\n",
      "\u001b[Aify inference:   0%|          | 0/1 [00:00<?, ?it/s]\n",
      "Texify inference: 100%|██████████| 1/1 [00:09<00:00,  9.55s/it]\n",
      "Recognizing equations: 100%|██████████| 7/7 [00:44<00:00,  6.37s/it]\n",
      "Detecting bboxes: 0it [00:00, ?it/s]\n",
      "Recognizing tables: 100%|██████████| 7/7 [00:05<00:00,  1.28it/s]\n"
     ]
    },
    {
     "name": "stdout",
     "output_type": "stream",
     "text": [
      "Processed: AD (1).pdf\n",
      "Duplicate found, skipping: AD.pdf\n"
     ]
    },
    {
     "name": "stderr",
     "output_type": "stream",
     "text": [
      "Recognizing layout: 100%|██████████| 2/2 [00:00<00:00,  2.08it/s]\n",
      "100%|██████████| 2/2 [00:00<00:00, 79.33it/s]\n",
      "Detecting bboxes: 100%|██████████| 2/2 [00:00<00:00,  2.64it/s]\n",
      "Recognizing Text: 100%|██████████| 9/9 [00:09<00:00,  1.04s/it]\n",
      "Recognizing equations: 0it [00:00, ?it/s]\n",
      "Detecting bboxes: 100%|██████████| 1/1 [00:00<00:00,  7.48it/s]\n",
      "Recognizing Text: 100%|██████████| 1/1 [00:00<00:00,  3.61it/s]\n",
      "Recognizing tables: 100%|██████████| 1/1 [00:00<00:00,  5.87it/s]\n"
     ]
    },
    {
     "name": "stdout",
     "output_type": "stream",
     "text": [
      "Processed: ae1983.pdf\n"
     ]
    },
    {
     "name": "stderr",
     "output_type": "stream",
     "text": [
      "Recognizing layout: 100%|██████████| 52/52 [00:36<00:00,  1.44it/s]\n",
      "100%|██████████| 52/52 [00:01<00:00, 47.15it/s]\n",
      "Detecting bboxes: 0it [00:00, ?it/s]\n",
      "Recognizing equations: 0it [00:00, ?it/s]\n",
      "Detecting bboxes: 100%|██████████| 3/3 [00:01<00:00,  2.12it/s]\n",
      "Recognizing Text: 100%|██████████| 7/7 [00:06<00:00,  1.04it/s]\n",
      "Recognizing tables: 100%|██████████| 10/10 [00:06<00:00,  1.61it/s]\n"
     ]
    },
    {
     "name": "stdout",
     "output_type": "stream",
     "text": [
      "Processed: amadeus-3.pdf\n"
     ]
    },
    {
     "name": "stderr",
     "output_type": "stream",
     "text": [
      "Recognizing layout: 100%|██████████| 16/16 [00:06<00:00,  2.47it/s]\n",
      "100%|██████████| 16/16 [00:00<00:00, 112.36it/s]\n",
      "Detecting bboxes: 0it [00:00, ?it/s]\n",
      "Recognizing equations: 0it [00:00, ?it/s]\n",
      "Detecting bboxes: 100%|██████████| 1/1 [00:00<00:00,  3.14it/s]\n",
      "Recognizing Text: 100%|██████████| 3/3 [00:03<00:00,  1.24s/it]\n",
      "Recognizing tables: 100%|██████████| 2/2 [00:00<00:00,  4.63it/s]\n"
     ]
    },
    {
     "name": "stdout",
     "output_type": "stream",
     "text": [
      "Processed: bb_class.pdf\n"
     ]
    },
    {
     "name": "stderr",
     "output_type": "stream",
     "text": [
      "Recognizing layout: 100%|██████████| 16/16 [00:03<00:00,  4.61it/s]\n",
      "100%|██████████| 8/8 [00:00<00:00, 55.76it/s]\n",
      "Detecting bboxes: 0it [00:00, ?it/s]\n",
      "Recognizing equations:   0%|          | 0/1 [00:00<?, ?it/s]\n",
      "\u001b[Aify inference:   0%|          | 0/1 [00:00<?, ?it/s]\n",
      "Texify inference: 100%|██████████| 1/1 [00:02<00:00,  2.78s/it]\n",
      "Recognizing equations: 100%|██████████| 1/1 [00:02<00:00,  2.79s/it]\n",
      "Detecting bboxes: 100%|██████████| 1/1 [00:00<00:00,  4.23it/s]\n",
      "Recognizing Text: 100%|██████████| 4/4 [00:02<00:00,  1.37it/s]\n",
      "Recognizing tables: 100%|██████████| 1/1 [00:00<00:00,  2.60it/s]\n"
     ]
    },
    {
     "name": "stdout",
     "output_type": "stream",
     "text": [
      "Processed: brega_reliability_in_real-time_why_strong-typed_programming_languages_matter.pdf\n"
     ]
    },
    {
     "name": "stderr",
     "output_type": "stream",
     "text": [
      "Recognizing layout: 100%|██████████| 4/4 [00:01<00:00,  2.35it/s]\n",
      "100%|██████████| 4/4 [00:00<00:00, 187.45it/s]\n",
      "Detecting bboxes: 0it [00:00, ?it/s]\n",
      "Recognizing equations: 0it [00:00, ?it/s]\n",
      "Detecting bboxes: 100%|██████████| 1/1 [00:00<00:00,  6.13it/s]\n",
      "Recognizing Text: 100%|██████████| 2/2 [00:01<00:00,  1.44it/s]\n",
      "Recognizing tables: 100%|██████████| 1/1 [00:00<00:00,  5.70it/s]\n"
     ]
    },
    {
     "name": "stdout",
     "output_type": "stream",
     "text": [
      "Processed: burrows_arm_embedded_development_using_oberon-07.pdf\n"
     ]
    },
    {
     "name": "stderr",
     "output_type": "stream",
     "text": [
      "Recognizing layout: 100%|██████████| 1/1 [00:01<00:00,  1.30s/it]\n",
      "100%|██████████| 1/1 [00:00<00:00, 98.31it/s]\n",
      "Detecting bboxes: 0it [00:00, ?it/s]\n",
      "Recognizing equations: 0it [00:00, ?it/s]\n",
      "Detecting bboxes: 0it [00:00, ?it/s]"
     ]
    },
    {
     "name": "stdout",
     "output_type": "stream",
     "text": [
      "Processed: campbell_industrial_experience_with_an_engineering_perspective.pdf\n"
     ]
    },
    {
     "name": "stderr",
     "output_type": "stream",
     "text": [
      "\n",
      "Recognizing layout: 100%|██████████| 6/6 [00:01<00:00,  4.10it/s]\n",
      "100%|██████████| 6/6 [00:00<00:00, 243.82it/s]\n",
      "Detecting bboxes: 0it [00:00, ?it/s]\n",
      "Recognizing equations: 0it [00:00, ?it/s]\n",
      "Detecting bboxes: 0it [00:00, ?it/s]\n",
      "Recognizing tables: 100%|██████████| 1/1 [00:00<00:00,  9.39it/s]\n"
     ]
    },
    {
     "name": "stdout",
     "output_type": "stream",
     "text": [
      "Processed: chapuis_oberon-based_autopilots_for_unmanned_aerial_vehicles.pdf\n"
     ]
    },
    {
     "name": "stderr",
     "output_type": "stream",
     "text": [
      "Recognizing layout: 100%|██████████| 10/10 [00:06<00:00,  1.45it/s]\n",
      "100%|██████████| 10/10 [00:00<00:00, 53.25it/s]\n",
      "Detecting bboxes: 0it [00:00, ?it/s]\n",
      "Recognizing equations:   0%|          | 0/1 [00:00<?, ?it/s]\n",
      "\u001b[Aify inference:   0%|          | 0/1 [00:00<?, ?it/s]\n",
      "Texify inference: 100%|██████████| 1/1 [00:09<00:00,  9.39s/it]\n",
      "Recognizing equations: 100%|██████████| 1/1 [00:09<00:00,  9.40s/it]\n",
      "Detecting bboxes: 0it [00:00, ?it/s]\n",
      "Recognizing tables: 100%|██████████| 4/4 [00:03<00:00,  1.19it/s]\n"
     ]
    },
    {
     "name": "stdout",
     "output_type": "stream",
     "text": [
      "Processed: computersystemdesign (1).pdf\n",
      "Duplicate found, skipping: ComputerSystemDesign.pdf\n"
     ]
    },
    {
     "name": "stderr",
     "output_type": "stream",
     "text": [
      "Recognizing layout: 100%|██████████| 8/8 [00:05<00:00,  1.43it/s]\n",
      "100%|██████████| 8/8 [00:00<00:00, 288.26it/s]\n",
      "Detecting bboxes: 100%|██████████| 12/12 [00:04<00:00,  2.43it/s]\n",
      "Recognizing Text: 100%|██████████| 46/46 [00:47<00:00,  1.04s/it]\n",
      "Recognizing equations: 0it [00:00, ?it/s]\n",
      "Detecting bboxes: 100%|██████████| 3/3 [00:01<00:00,  2.59it/s]\n",
      "Recognizing Text: 100%|██████████| 18/18 [00:10<00:00,  1.70it/s]\n",
      "Recognizing tables: 100%|██████████| 2/2 [00:01<00:00,  1.62it/s]\n"
     ]
    },
    {
     "name": "stdout",
     "output_type": "stream",
     "text": [
      "Processed: crelier_r.eth_technical_report_125.pdf\n"
     ]
    },
    {
     "name": "stderr",
     "output_type": "stream",
     "text": [
      "Recognizing layout: 100%|██████████| 2/2 [00:01<00:00,  1.56it/s]\n",
      "100%|██████████| 2/2 [00:00<00:00, 66.66it/s]\n",
      "Detecting bboxes: 0it [00:00, ?it/s]\n",
      "Recognizing equations: 0it [00:00, ?it/s]\n",
      "Detecting bboxes: 0it [00:00, ?it/s]\n",
      "Recognizing tables: 100%|██████████| 1/1 [00:00<00:00,  1.64it/s]"
     ]
    },
    {
     "name": "stdout",
     "output_type": "stream",
     "text": [
      "Processed: crelier_r.op2_a_portable_oberon_2_compiler.en.pdf\n"
     ]
    },
    {
     "name": "stderr",
     "output_type": "stream",
     "text": [
      "\n",
      "Recognizing layout: 100%|██████████| 8/8 [00:04<00:00,  1.66it/s]\n",
      "100%|██████████| 8/8 [00:00<00:00, 60.55it/s]\n",
      "Detecting bboxes: 0it [00:00, ?it/s]\n",
      "Recognizing equations: 0it [00:00, ?it/s]\n",
      "Detecting bboxes: 100%|██████████| 1/1 [00:00<00:00,  1.50it/s]\n",
      "Recognizing Text: 100%|██████████| 4/4 [00:04<00:00,  1.15s/it]\n",
      "Recognizing tables: 100%|██████████| 2/2 [00:02<00:00,  1.06s/it]\n"
     ]
    },
    {
     "name": "stdout",
     "output_type": "stream",
     "text": [
      "Processed: c_pfister_component_software.pdf\n"
     ]
    },
    {
     "name": "stderr",
     "output_type": "stream",
     "text": [
      "Recognizing layout: 100%|██████████| 4/4 [00:01<00:00,  2.64it/s]\n",
      "100%|██████████| 4/4 [00:00<00:00, 121.22it/s]\n",
      "Detecting bboxes: 0it [00:00, ?it/s]\n",
      "Recognizing equations: 0it [00:00, ?it/s]\n",
      "Detecting bboxes: 100%|██████████| 1/1 [00:00<00:00,  2.12it/s]\n",
      "Recognizing Text: 100%|██████████| 7/7 [00:06<00:00,  1.13it/s]\n",
      "Recognizing tables: 100%|██████████| 1/1 [00:00<00:00,  1.30it/s]\n"
     ]
    },
    {
     "name": "stdout",
     "output_type": "stream",
     "text": [
      "Processed: denisov_razrabotka_komponentnogo_programmnogo_obespecheniya_dlya_nauchnogo_modelirovaniya_i_inzhenerii.pdf\n"
     ]
    },
    {
     "name": "stderr",
     "output_type": "stream",
     "text": [
      "Recognizing layout: 100%|██████████| 3/3 [00:01<00:00,  2.17it/s]\n",
      "100%|██████████| 3/3 [00:00<00:00, 64.13it/s]\n",
      "Detecting bboxes: 100%|██████████| 3/3 [00:01<00:00,  2.60it/s]\n",
      "Recognizing Text: 100%|██████████| 14/14 [00:17<00:00,  1.24s/it]\n",
      "Recognizing equations: 0it [00:00, ?it/s]\n",
      "Detecting bboxes: 0it [00:00, ?it/s]\n"
     ]
    },
    {
     "name": "stdout",
     "output_type": "stream",
     "text": [
      "Processed: designideas.pdf\n"
     ]
    },
    {
     "name": "stderr",
     "output_type": "stream",
     "text": [
      "Recognizing layout: 100%|██████████| 9/9 [00:04<00:00,  2.24it/s]\n",
      "100%|██████████| 9/9 [00:00<00:00, 59.53it/s]\n",
      "Detecting bboxes: 100%|██████████| 4/4 [00:01<00:00,  2.68it/s]\n",
      "Recognizing Text: 100%|██████████| 14/14 [00:16<00:00,  1.19s/it]\n",
      "Recognizing equations:   0%|          | 0/1 [00:00<?, ?it/s]\n",
      "\u001b[Aify inference:   0%|          | 0/1 [00:00<?, ?it/s]\n",
      "Texify inference: 100%|██████████| 1/1 [00:00<00:00,  3.26it/s]\n",
      "Recognizing equations: 100%|██████████| 1/1 [00:00<00:00,  3.21it/s]\n",
      "Detecting bboxes: 0it [00:00, ?it/s]\n"
     ]
    },
    {
     "name": "stdout",
     "output_type": "stream",
     "text": [
      "Processed: design_patterns_in_oberon-2_and_component_pascal_c9_ru.pdf\n"
     ]
    },
    {
     "name": "stderr",
     "output_type": "stream",
     "text": [
      "Recognizing layout: 100%|██████████| 28/28 [00:15<00:00,  1.82it/s]\n",
      "100%|██████████| 28/28 [00:00<00:00, 55.42it/s]\n",
      "Detecting bboxes: 100%|██████████| 28/28 [00:09<00:00,  2.85it/s]\n",
      "Recognizing Text: 100%|██████████| 105/105 [02:28<00:00,  1.41s/it]\n",
      "Recognizing equations: 0it [00:00, ?it/s]\n",
      "Detecting bboxes: 100%|██████████| 13/13 [00:05<00:00,  2.35it/s]\n",
      "Recognizing Text: 100%|██████████| 53/53 [00:45<00:00,  1.15it/s]\n",
      "Recognizing tables: 100%|██████████| 9/9 [00:12<00:00,  1.36s/it]\n"
     ]
    },
    {
     "name": "stdout",
     "output_type": "stream",
     "text": [
      "Processed: developinginblackbox.pdf\n"
     ]
    },
    {
     "name": "stderr",
     "output_type": "stream",
     "text": [
      "Recognizing layout: 100%|██████████| 10/10 [00:04<00:00,  2.19it/s]\n",
      "100%|██████████| 10/10 [00:00<00:00, 54.61it/s]\n",
      "Detecting bboxes: 100%|██████████| 11/11 [00:04<00:00,  2.32it/s]\n",
      "Recognizing Text: 100%|██████████| 66/66 [01:25<00:00,  1.30s/it]\n",
      "Recognizing equations: 0it [00:00, ?it/s]\n",
      "Detecting bboxes: 100%|██████████| 1/1 [00:00<00:00,  5.07it/s]\n",
      "Recognizing Text: 100%|██████████| 1/1 [00:00<00:00, -6.22it/s]\n",
      "Recognizing tables: 100%|██████████| 1/1 [00:00<00:00,  5.35it/s]\n"
     ]
    },
    {
     "name": "stdout",
     "output_type": "stream",
     "text": [
      "Processed: dijkstra.pdf\n"
     ]
    },
    {
     "name": "stderr",
     "output_type": "stream",
     "text": [
      "Recognizing layout: 100%|██████████| 42/42 [00:19<00:00,  2.16it/s]\n",
      "100%|██████████| 42/42 [00:00<00:00, 54.59it/s]\n",
      "Detecting bboxes: 0it [00:00, ?it/s]\n",
      "Recognizing equations:   0%|          | 0/9 [00:00<?, ?it/s]\n",
      "\u001b[Aify inference:   0%|          | 0/1 [00:00<?, ?it/s]\n",
      "Texify inference: 100%|██████████| 1/1 [00:02<00:00,  2.28s/it]\n",
      "Recognizing equations:  11%|█         | 1/9 [00:02<00:18,  2.29s/it]\n",
      "\u001b[Aify inference:   0%|          | 0/1 [00:00<?, ?it/s]\n",
      "Texify inference: 100%|██████████| 1/1 [00:01<00:00,  1.19s/it]\n",
      "Recognizing equations:  22%|██▏       | 2/9 [00:03<00:11,  1.65s/it]\n",
      "\u001b[Aify inference:   0%|          | 0/1 [00:00<?, ?it/s]\n",
      "Texify inference: 100%|██████████| 1/1 [00:01<00:00,  1.72s/it]\n",
      "Recognizing equations:  33%|███▎      | 3/9 [00:05<00:10,  1.68s/it]\n",
      "\u001b[Aify inference:   0%|          | 0/1 [00:00<?, ?it/s]\n",
      "Texify inference: 100%|██████████| 1/1 [00:01<00:00,  1.18s/it]\n",
      "Recognizing equations:  44%|████▍     | 4/9 [00:06<00:07,  1.49s/it]\n",
      "\u001b[Aify inference:   0%|          | 0/1 [00:00<?, ?it/s]\n",
      "Texify inference: 100%|██████████| 1/1 [00:02<00:00,  2.70s/it]\n",
      "Recognizing equations:  56%|█████▌    | 5/9 [00:09<00:07,  1.93s/it]\n",
      "\u001b[Aify inference:   0%|          | 0/1 [00:00<?, ?it/s]\n",
      "Texify inference: 100%|██████████| 1/1 [00:02<00:00,  2.01s/it]\n",
      "Recognizing equations:  67%|██████▋   | 6/9 [00:11<00:05,  1.96s/it]\n",
      "\u001b[Aify inference:   0%|          | 0/1 [00:00<?, ?it/s]\n",
      "Texify inference: 100%|██████████| 1/1 [00:07<00:00,  7.46s/it]\n",
      "Recognizing equations:  78%|███████▊  | 7/9 [00:18<00:07,  3.76s/it]\n",
      "\u001b[Aify inference:   0%|          | 0/1 [00:00<?, ?it/s]\n",
      "Texify inference: 100%|██████████| 1/1 [00:02<00:00,  2.53s/it]\n",
      "Recognizing equations:  89%|████████▉ | 8/9 [00:21<00:03,  3.37s/it]\n",
      "\u001b[Aify inference:   0%|          | 0/1 [00:00<?, ?it/s]\n",
      "Texify inference: 100%|██████████| 1/1 [00:02<00:00,  2.80s/it]\n",
      "Recognizing equations: 100%|██████████| 9/9 [00:23<00:00,  2.66s/it]\n",
      "Detecting bboxes: 100%|██████████| 1/1 [00:00<00:00,  2.32it/s]\n",
      "Recognizing Text: 100%|██████████| 1/1 [00:00<00:00, 14.62it/s]\n",
      "Recognizing tables: 100%|██████████| 12/12 [00:11<00:00,  1.06it/s]\n"
     ]
    },
    {
     "name": "stdout",
     "output_type": "stream",
     "text": [
      "Processed: eth-2493-02 (1).pdf\n",
      "Duplicate found, skipping: eth-2493-02.pdf\n"
     ]
    },
    {
     "name": "stderr",
     "output_type": "stream",
     "text": [
      "Recognizing layout: 100%|██████████| 17/17 [00:06<00:00,  2.76it/s]\n",
      "100%|██████████| 17/17 [00:00<00:00, 56.57it/s]\n",
      "Detecting bboxes: 0it [00:00, ?it/s]\n",
      "Recognizing equations: 0it [00:00, ?it/s]\n",
      "Detecting bboxes: 0it [00:00, ?it/s]\n",
      "Recognizing tables: 100%|██████████| 4/4 [00:01<00:00,  3.62it/s]\n"
     ]
    },
    {
     "name": "stdout",
     "output_type": "stream",
     "text": [
      "Processed: franz_m.code-generation_on-the-fly_a_key_to_portable_software.en.pdf\n"
     ]
    },
    {
     "name": "stderr",
     "output_type": "stream",
     "text": [
      "Recognizing layout: 100%|██████████| 3/3 [00:02<00:00,  1.42it/s]\n",
      "100%|██████████| 3/3 [00:00<00:00, 57.47it/s]\n",
      "Detecting bboxes: 0it [00:00, ?it/s]\n",
      "Recognizing equations: 0it [00:00, ?it/s]\n",
      "Detecting bboxes: 0it [00:00, ?it/s]\n",
      "Recognizing tables: 100%|██████████| 1/1 [00:00<00:00,  8.13it/s]\n"
     ]
    },
    {
     "name": "stdout",
     "output_type": "stream",
     "text": [
      "Processed: gutknecht_franz_oberon_with_gadgets_a_simple_component_framework.pdf\n"
     ]
    },
    {
     "name": "stderr",
     "output_type": "stream",
     "text": [
      "Recognizing layout: 100%|██████████| 3/3 [00:01<00:00,  1.57it/s]\n",
      "100%|██████████| 3/3 [00:00<00:00, 53.11it/s]\n",
      "Detecting bboxes: 100%|██████████| 3/3 [00:01<00:00,  2.78it/s]\n",
      "Recognizing Text: 100%|██████████| 12/12 [00:12<00:00,  1.06s/it]\n",
      "Recognizing equations: 0it [00:00, ?it/s]\n",
      "Detecting bboxes: 100%|██████████| 1/1 [00:00<00:00,  7.18it/s]\n",
      "Recognizing Text: 100%|██████████| 1/1 [00:00<00:00,  2.35it/s]\n",
      "Recognizing tables: 100%|██████████| 1/1 [00:00<00:00,  2.83it/s]\n"
     ]
    },
    {
     "name": "stdout",
     "output_type": "stream",
     "text": [
      "Processed: gutknecht_franz_oberon_with_gadgets_a_simple_component_framework.ru.pdf\n"
     ]
    },
    {
     "name": "stderr",
     "output_type": "stream",
     "text": [
      "Recognizing layout: 100%|██████████| 3/3 [00:01<00:00,  1.70it/s]\n",
      "100%|██████████| 3/3 [00:00<00:00, 94.08it/s]\n",
      "Detecting bboxes: 0it [00:00, ?it/s]\n",
      "Recognizing equations: 0it [00:00, ?it/s]\n",
      "Detecting bboxes: 0it [00:00, ?it/s]\n",
      "Recognizing tables: 100%|██████████| 1/1 [00:00<00:00,  2.24it/s]\n"
     ]
    },
    {
     "name": "stdout",
     "output_type": "stream",
     "text": [
      "Processed: hunziker_computational_medicine_oberon-based_simulation_control_and_signal_processing.pdf\n"
     ]
    },
    {
     "name": "stderr",
     "output_type": "stream",
     "text": [
      "Recognizing layout: 100%|██████████| 2/2 [00:02<00:00,  1.11s/it]\n",
      "100%|██████████| 2/2 [00:00<00:00, 80.89it/s]\n",
      "Detecting bboxes: 0it [00:00, ?it/s]\n",
      "Recognizing equations: 0it [00:00, ?it/s]\n",
      "Detecting bboxes: 0it [00:00, ?it/s]\n"
     ]
    },
    {
     "name": "stdout",
     "output_type": "stream",
     "text": [
      "Processed: kaegi-trachsel_gutknecht_minos.pdf\n"
     ]
    },
    {
     "name": "stderr",
     "output_type": "stream",
     "text": [
      "Recognizing layout: 100%|██████████| 5/5 [00:02<00:00,  1.96it/s]\n",
      "100%|██████████| 5/5 [00:00<00:00, 138.82it/s]\n",
      "Detecting bboxes: 0it [00:00, ?it/s]\n",
      "Recognizing equations: 0it [00:00, ?it/s]\n",
      "Detecting bboxes: 0it [00:00, ?it/s]\n",
      "Recognizing tables: 100%|██████████| 1/1 [00:00<00:00,  1.97it/s]\n"
     ]
    },
    {
     "name": "stdout",
     "output_type": "stream",
     "text": [
      "Processed: kirk_test_automation_for_the_oberon_and_minos_frameworks.pdf\n"
     ]
    },
    {
     "name": "stderr",
     "output_type": "stream",
     "text": [
      "Recognizing layout: 100%|██████████| 2/2 [00:01<00:00,  1.22it/s]\n",
      "100%|██████████| 2/2 [00:00<00:00, 68.02it/s]\n",
      "Detecting bboxes: 100%|██████████| 3/3 [00:01<00:00,  2.56it/s]\n",
      "Recognizing Text: 100%|██████████| 18/18 [00:15<00:00,  1.13it/s]\n",
      "Recognizing equations: 0it [00:00, ?it/s]\n",
      "Detecting bboxes: 0it [00:00, ?it/s]\n"
     ]
    },
    {
     "name": "stdout",
     "output_type": "stream",
     "text": [
      "Processed: koltashev_i-dr_sistema_it-obrazovaniya_s_tochki_zreniya_rossijskix_nacionalnyx_interesov.pdf\n"
     ]
    },
    {
     "name": "stderr",
     "output_type": "stream",
     "text": [
      "Recognizing layout: 100%|██████████| 1/1 [00:00<00:00,  1.87it/s]\n",
      "100%|██████████| 1/1 [00:00<00:00, 84.66it/s]\n",
      "Detecting bboxes: 100%|██████████| 1/1 [00:00<00:00,  6.71it/s]\n",
      "Recognizing Text: 100%|██████████| 2/2 [00:02<00:00,  1.38s/it]\n",
      "Recognizing equations: 0it [00:00, ?it/s]\n",
      "Detecting bboxes: 0it [00:00, ?it/s]\n"
     ]
    },
    {
     "name": "stdout",
     "output_type": "stream",
     "text": [
      "Processed: kushnir_kuzmiczkij_pattern_proxy_dlya_files.pdf\n"
     ]
    },
    {
     "name": "stderr",
     "output_type": "stream",
     "text": [
      "Recognizing layout: 100%|██████████| 2/2 [00:02<00:00,  1.01s/it]\n",
      "100%|██████████| 2/2 [00:00<00:00, 53.97it/s]\n",
      "Detecting bboxes: 100%|██████████| 2/2 [00:00<00:00,  3.22it/s]\n",
      "Recognizing Text: 100%|██████████| 6/6 [00:08<00:00,  1.34s/it]\n",
      "Recognizing equations: 0it [00:00, ?it/s]\n",
      "Detecting bboxes: 100%|██████████| 1/1 [00:00<00:00,  6.92it/s]\n",
      "Recognizing Text: 100%|██████████| 1/1 [00:00<00:00,  1.18it/s]\n",
      "Recognizing tables: 100%|██████████| 1/1 [00:00<00:00,  7.33it/s]\n"
     ]
    },
    {
     "name": "stdout",
     "output_type": "stream",
     "text": [
      "Processed: kushnir_pattern_mnogoagentnaya_sistema.pdf\n"
     ]
    },
    {
     "name": "stderr",
     "output_type": "stream",
     "text": [
      "Recognizing layout: 100%|██████████| 3/3 [00:01<00:00,  2.66it/s]\n",
      "100%|██████████| 3/3 [00:00<00:00, 255.86it/s]\n",
      "Detecting bboxes: 0it [00:00, ?it/s]\n",
      "Recognizing equations: 0it [00:00, ?it/s]\n",
      "Detecting bboxes: 0it [00:00, ?it/s]\n"
     ]
    },
    {
     "name": "stdout",
     "output_type": "stream",
     "text": [
      "Processed: mcgaw_an_oberon-based_rocket_engine_materials_testing_system.pdf\n"
     ]
    },
    {
     "name": "stderr",
     "output_type": "stream",
     "text": [
      "Recognizing layout: 100%|██████████| 3/3 [00:02<00:00,  1.48it/s]\n",
      "100%|██████████| 3/3 [00:00<00:00, 86.64it/s]\n",
      "Detecting bboxes: 0it [00:00, ?it/s]\n",
      "Recognizing equations: 0it [00:00, ?it/s]\n",
      "Detecting bboxes: 100%|██████████| 1/1 [00:00<00:00,  3.10it/s]\n",
      "Recognizing Text: 100%|██████████| 3/3 [00:02<00:00,  1.05it/s]\n",
      "Recognizing tables: 100%|██████████| 1/1 [00:00<00:00,  1.08it/s]\n"
     ]
    },
    {
     "name": "stdout",
     "output_type": "stream",
     "text": [
      "Processed: mcgaw_oberon_in_real-time_control_applications.pdf\n"
     ]
    },
    {
     "name": "stderr",
     "output_type": "stream",
     "text": [
      "Recognizing layout: 100%|██████████| 2/2 [00:01<00:00,  1.08it/s]\n",
      "100%|██████████| 2/2 [00:00<00:00, 93.51it/s]\n",
      "Detecting bboxes: 100%|██████████| 3/3 [00:01<00:00,  2.21it/s]\n",
      "Recognizing Text: 100%|██████████| 35/35 [00:37<00:00,  1.08s/it]\n",
      "Recognizing equations: 0it [00:00, ?it/s]\n",
      "Detecting bboxes: 100%|██████████| 2/2 [00:00<00:00,  2.67it/s]\n",
      "Recognizing Text: 100%|██████████| 14/14 [00:07<00:00,  1.75it/s]\n",
      "Recognizing tables: 100%|██████████| 2/2 [00:01<00:00,  1.18it/s]\n"
     ]
    },
    {
     "name": "stdout",
     "output_type": "stream",
     "text": [
      "Processed: mf1993b (1).pdf\n",
      "Duplicate found, skipping: mf1993b.pdf\n"
     ]
    },
    {
     "name": "stderr",
     "output_type": "stream",
     "text": [
      "Recognizing layout: 100%|██████████| 2/2 [00:01<00:00,  1.43it/s]\n",
      "100%|██████████| 2/2 [00:00<00:00, 53.69it/s]\n",
      "Detecting bboxes: 0it [00:00, ?it/s]\n",
      "Recognizing equations: 0it [00:00, ?it/s]\n",
      "Detecting bboxes: 0it [00:00, ?it/s]\n"
     ]
    },
    {
     "name": "stdout",
     "output_type": "stream",
     "text": [
      "Processed: moessenboeck_twin_a_design_pattern_for_modeling_multiple_inheritance.pdf\n"
     ]
    },
    {
     "name": "stderr",
     "output_type": "stream",
     "text": [
      "Recognizing layout: 100%|██████████| 1/1 [00:00<00:00,  2.02it/s]\n",
      "100%|██████████| 1/1 [00:00<00:00, 119.96it/s]\n",
      "Detecting bboxes: 0it [00:00, ?it/s]\n",
      "Recognizing equations: 0it [00:00, ?it/s]\n",
      "Detecting bboxes: 0it [00:00, ?it/s]\n"
     ]
    },
    {
     "name": "stdout",
     "output_type": "stream",
     "text": [
      "Processed: moessenboeck_wirth_differences_between_oberon_and_oberon-2 (1).pdf\n",
      "Duplicate found, skipping: moessenboeck_wirth_differences_between_oberon_and_oberon-2.pdf\n"
     ]
    },
    {
     "name": "stderr",
     "output_type": "stream",
     "text": [
      "Recognizing layout: 100%|██████████| 61/61 [00:27<00:00,  2.18it/s]\n",
      "100%|██████████| 61/61 [00:00<00:00, 308.60it/s]\n",
      "Detecting bboxes: 100%|██████████| 91/91 [00:39<00:00,  2.31it/s]\n",
      "Recognizing Text: 100%|██████████| 407/407 [06:12<00:00,  1.09it/s]\n",
      "Recognizing equations:   0%|          | 0/1 [00:00<?, ?it/s]\n",
      "\u001b[Aify inference:   0%|          | 0/1 [00:00<?, ?it/s]\n",
      "Texify inference: 100%|██████████| 1/1 [00:03<00:00,  3.12s/it]\n",
      "Recognizing equations: 100%|██████████| 1/1 [00:03<00:00,  3.13s/it]\n",
      "Detecting bboxes: 100%|██████████| 27/27 [00:11<00:00,  2.40it/s]\n",
      "Recognizing Text: 100%|██████████| 96/96 [01:37<00:00,  1.02s/it]\n",
      "Recognizing tables: 100%|██████████| 16/16 [00:16<00:00,  1.05s/it]\n"
     ]
    },
    {
     "name": "stdout",
     "output_type": "stream",
     "text": [
      "Processed: mros1991.pdf\n"
     ]
    },
    {
     "name": "stderr",
     "output_type": "stream",
     "text": [
      "Recognizing layout: 100%|██████████| 2/2 [00:02<00:00,  1.21s/it]\n",
      "100%|██████████| 2/2 [00:00<00:00, 65.78it/s]\n",
      "Detecting bboxes: 0it [00:00, ?it/s]\n",
      "Recognizing equations:   0%|          | 0/1 [00:00<?, ?it/s]\n",
      "\u001b[Aify inference:   0%|          | 0/1 [00:00<?, ?it/s]\n",
      "Texify inference: 100%|██████████| 1/1 [00:01<00:00,  1.38s/it]\n",
      "Recognizing equations: 100%|██████████| 1/1 [00:01<00:00,  1.39s/it]\n",
      "Detecting bboxes: 0it [00:00, ?it/s]\n"
     ]
    },
    {
     "name": "stdout",
     "output_type": "stream",
     "text": [
      "Processed: n._wirth_-_modula-2_and_oberon_hopl_iii_.pdf\n"
     ]
    },
    {
     "name": "stderr",
     "output_type": "stream",
     "text": [
      "Recognizing layout: 100%|██████████| 4/4 [00:03<00:00,  1.33it/s]\n",
      "100%|██████████| 4/4 [00:00<00:00, 54.30it/s]\n",
      "Detecting bboxes: 0it [00:00, ?it/s]\n",
      "Recognizing equations: 0it [00:00, ?it/s]\n",
      "Detecting bboxes: 0it [00:00, ?it/s]\n",
      "Recognizing tables: 100%|██████████| 1/1 [00:00<00:00,  9.18it/s]\n"
     ]
    },
    {
     "name": "stdout",
     "output_type": "stream",
     "text": [
      "Processed: n._wirth_-_recollections_about_the_development_of_pascal_hopl_ii_.pdf\n"
     ]
    },
    {
     "name": "stderr",
     "output_type": "stream",
     "text": [
      "Recognizing layout: 100%|██████████| 2/2 [00:01<00:00,  1.89it/s]\n",
      "100%|██████████| 2/2 [00:00<00:00, 134.51it/s]\n",
      "Detecting bboxes: 0it [00:00, ?it/s]\n",
      "Recognizing equations: 0it [00:00, ?it/s]\n",
      "Detecting bboxes: 0it [00:00, ?it/s]\n",
      "Recognizing tables: 100%|██████████| 1/1 [00:00<00:00,  6.86it/s]\n"
     ]
    },
    {
     "name": "stdout",
     "output_type": "stream",
     "text": [
      "Processed: nerima-wehrli_oberon_for_natural_language_processing.pdf\n"
     ]
    },
    {
     "name": "stderr",
     "output_type": "stream",
     "text": [
      "Recognizing layout: 100%|██████████| 49/49 [00:25<00:00,  1.90it/s]\n",
      "100%|██████████| 49/49 [00:00<00:00, 54.97it/s]\n",
      "Detecting bboxes: 0it [00:00, ?it/s]\n",
      "Recognizing equations:   0%|          | 0/1 [00:00<?, ?it/s]\n",
      "\u001b[Aify inference:   0%|          | 0/1 [00:00<?, ?it/s]\n",
      "Texify inference: 100%|██████████| 1/1 [00:00<00:00,  2.44it/s]\n",
      "Recognizing equations: 100%|██████████| 1/1 [00:00<00:00,  2.42it/s]\n",
      "Detecting bboxes: 100%|██████████| 1/1 [00:00<00:00,  1.94it/s]\n",
      "Recognizing Text: 100%|██████████| 1/1 [00:00<00:00, 11.50it/s]\n",
      "Recognizing tables: 100%|██████████| 13/13 [00:14<00:00,  1.08s/it]\n"
     ]
    },
    {
     "name": "stdout",
     "output_type": "stream",
     "text": [
      "Processed: Oberon2.pdf\n"
     ]
    },
    {
     "name": "stderr",
     "output_type": "stream",
     "text": [
      "Recognizing layout: 100%|██████████| 2/2 [00:01<00:00,  1.59it/s]\n",
      "100%|██████████| 2/2 [00:00<00:00, 66.10it/s]\n",
      "Detecting bboxes: 100%|██████████| 3/3 [00:01<00:00,  2.79it/s]\n",
      "Recognizing Text: 100%|██████████| 13/13 [00:17<00:00,  1.36s/it]\n",
      "Recognizing equations: 0it [00:00, ?it/s]\n",
      "Detecting bboxes: 0it [00:00, ?it/s]"
     ]
    },
    {
     "name": "stdout",
     "output_type": "stream",
     "text": [
      "Processed: oberontech.pdf\n"
     ]
    },
    {
     "name": "stderr",
     "output_type": "stream",
     "text": [
      "\n",
      "Recognizing layout: 100%|██████████| 7/7 [00:03<00:00,  2.30it/s]\n",
      "100%|██████████| 7/7 [00:00<00:00, 193.26it/s]\n",
      "Detecting bboxes: 0it [00:00, ?it/s]\n",
      "Recognizing equations: 0it [00:00, ?it/s]\n",
      "Detecting bboxes: 0it [00:00, ?it/s]\n"
     ]
    },
    {
     "name": "stdout",
     "output_type": "stream",
     "text": [
      "Processed: pfister_blackbox_an_industrial-strength_oberon_implementation.pdf\n"
     ]
    },
    {
     "name": "stderr",
     "output_type": "stream",
     "text": [
      "Recognizing layout: 100%|██████████| 11/11 [00:10<00:00,  1.09it/s]\n",
      "100%|██████████| 11/11 [00:00<00:00, 56.63it/s]\n",
      "Detecting bboxes: 0it [00:00, ?it/s]\n",
      "Recognizing equations:   0%|          | 0/1 [00:00<?, ?it/s]\n",
      "\u001b[Aify inference:   0%|          | 0/1 [00:00<?, ?it/s]\n",
      "Texify inference: 100%|██████████| 1/1 [00:02<00:00,  2.33s/it]\n",
      "Recognizing equations: 100%|██████████| 1/1 [00:02<00:00,  2.34s/it]\n",
      "Detecting bboxes: 0it [00:00, ?it/s]\n",
      "Recognizing tables: 100%|██████████| 3/3 [00:01<00:00,  1.51it/s]\n"
     ]
    },
    {
     "name": "stdout",
     "output_type": "stream",
     "text": [
      "Processed: PIO (1).pdf\n",
      "Duplicate found, skipping: PIO.pdf\n"
     ]
    },
    {
     "name": "stderr",
     "output_type": "stream",
     "text": [
      "Recognizing layout: 100%|██████████| 15/15 [00:09<00:00,  1.56it/s]\n",
      "100%|██████████| 15/15 [00:00<00:00, 57.23it/s]\n",
      "Detecting bboxes: 0it [00:00, ?it/s]\n",
      "Recognizing equations: 0it [00:00, ?it/s]\n",
      "Detecting bboxes: 0it [00:00, ?it/s]\n",
      "Recognizing tables: 100%|██████████| 10/10 [00:07<00:00,  1.33it/s]\n"
     ]
    },
    {
     "name": "stdout",
     "output_type": "stream",
     "text": [
      "Processed: PO.Applications.pdf\n"
     ]
    },
    {
     "name": "stderr",
     "output_type": "stream",
     "text": [
      "Recognizing layout: 100%|██████████| 4/4 [00:02<00:00,  1.70it/s]\n",
      "100%|██████████| 4/4 [00:00<00:00, 63.15it/s]\n",
      "Detecting bboxes: 0it [00:00, ?it/s]\n",
      "Recognizing equations:   0%|          | 0/1 [00:00<?, ?it/s]\n",
      "\u001b[Aify inference:   0%|          | 0/1 [00:00<?, ?it/s]\n",
      "Texify inference: 100%|██████████| 1/1 [00:07<00:00,  7.24s/it]\n",
      "Recognizing equations: 100%|██████████| 1/1 [00:07<00:00,  7.25s/it]\n",
      "Detecting bboxes: 0it [00:00, ?it/s]\n",
      "Recognizing tables: 100%|██████████| 2/2 [00:01<00:00,  1.07it/s]\n"
     ]
    },
    {
     "name": "stdout",
     "output_type": "stream",
     "text": [
      "Processed: PO.Computer.pdf\n"
     ]
    },
    {
     "name": "stderr",
     "output_type": "stream",
     "text": [
      "Recognizing layout: 100%|██████████| 19/19 [00:12<00:00,  1.47it/s]\n",
      "100%|██████████| 19/19 [00:00<00:00, 54.48it/s]\n",
      "Detecting bboxes: 0it [00:00, ?it/s]\n",
      "Recognizing equations: 0it [00:00, ?it/s]\n",
      "Detecting bboxes: 0it [00:00, ?it/s]\n",
      "Recognizing tables: 100%|██████████| 3/3 [00:02<00:00,  1.49it/s]\n"
     ]
    },
    {
     "name": "stdout",
     "output_type": "stream",
     "text": [
      "Processed: PO.System (1).pdf\n",
      "Duplicate found, skipping: PO.System.pdf\n"
     ]
    },
    {
     "name": "stderr",
     "output_type": "stream",
     "text": [
      "Recognizing layout: 100%|██████████| 57/57 [00:30<00:00,  1.86it/s]\n",
      "100%|██████████| 57/57 [00:00<00:00, 174.01it/s]\n",
      "Detecting bboxes: 100%|██████████| 85/85 [00:35<00:00,  2.42it/s]\n",
      "Recognizing Text: 100%|██████████| 380/380 [05:42<00:00,  1.11it/s]\n",
      "Recognizing equations:   0%|          | 0/6 [00:00<?, ?it/s]\n",
      "\u001b[Aify inference:   0%|          | 0/1 [00:00<?, ?it/s]\n",
      "Texify inference: 100%|██████████| 1/1 [00:01<00:00,  1.46s/it]\n",
      "Recognizing equations:  17%|█▋        | 1/6 [00:01<00:07,  1.46s/it]\n",
      "\u001b[Aify inference:   0%|          | 0/1 [00:00<?, ?it/s]\n",
      "Texify inference: 100%|██████████| 1/1 [00:02<00:00,  2.13s/it]\n",
      "Recognizing equations:  33%|███▎      | 2/6 [00:03<00:07,  1.86s/it]\n",
      "\u001b[Aify inference:   0%|          | 0/1 [00:00<?, ?it/s]\n",
      "Texify inference: 100%|██████████| 1/1 [00:03<00:00,  3.38s/it]\n",
      "Recognizing equations:  50%|█████     | 3/6 [00:06<00:07,  2.55s/it]\n",
      "\u001b[Aify inference:   0%|          | 0/1 [00:00<?, ?it/s]\n",
      "Texify inference: 100%|██████████| 1/1 [00:01<00:00,  1.16s/it]\n",
      "Recognizing equations:  67%|██████▋   | 4/6 [00:08<00:04,  2.00s/it]\n",
      "\u001b[Aify inference:   0%|          | 0/1 [00:00<?, ?it/s]\n",
      "Texify inference: 100%|██████████| 1/1 [00:01<00:00,  1.64s/it]\n",
      "Recognizing equations:  83%|████████▎ | 5/6 [00:09<00:01,  1.87s/it]\n",
      "\u001b[Aify inference:   0%|          | 0/1 [00:00<?, ?it/s]\n",
      "Texify inference: 100%|██████████| 1/1 [00:01<00:00,  1.74s/it]\n",
      "Recognizing equations: 100%|██████████| 6/6 [00:11<00:00,  1.92s/it]\n",
      "Detecting bboxes: 100%|██████████| 21/21 [00:06<00:00,  3.39it/s]\n",
      "Recognizing Text: 100%|██████████| 68/68 [00:49<00:00,  1.38it/s]\n",
      "Recognizing tables: 100%|██████████| 14/14 [00:06<00:00,  2.31it/s]\n"
     ]
    },
    {
     "name": "stdout",
     "output_type": "stream",
     "text": [
      "Processed: ProgInOberonWR (1).pdf\n",
      "Duplicate found, skipping: ProgInOberonWR.pdf\n"
     ]
    },
    {
     "name": "stderr",
     "output_type": "stream",
     "text": [
      "Recognizing layout: 100%|██████████| 74/74 [00:33<00:00,  2.23it/s]\n",
      "100%|██████████| 74/74 [00:01<00:00, 50.33it/s]\n",
      "Detecting bboxes: 0it [00:00, ?it/s]\n",
      "Recognizing equations:   0%|          | 0/1 [00:00<?, ?it/s]\n",
      "\u001b[Aify inference:   0%|          | 0/1 [00:00<?, ?it/s]\n",
      "Texify inference: 100%|██████████| 1/1 [00:02<00:00,  2.78s/it]\n",
      "Recognizing equations: 100%|██████████| 1/1 [00:02<00:00,  2.78s/it]\n",
      "Detecting bboxes: 100%|██████████| 1/1 [00:00<00:00,  1.76it/s]\n",
      "Recognizing Text: 100%|██████████| 5/5 [00:03<00:00,  1.60it/s]\n",
      "Recognizing tables: 100%|██████████| 14/14 [00:11<00:00,  1.19it/s]\n"
     ]
    },
    {
     "name": "stdout",
     "output_type": "stream",
     "text": [
      "Processed: ProjectOberon1992 (1).pdf\n",
      "Duplicate found, skipping: ProjectOberon1992.pdf\n"
     ]
    },
    {
     "name": "stderr",
     "output_type": "stream",
     "text": [
      "Recognizing layout: 100%|██████████| 59/59 [00:33<00:00,  1.75it/s]\n",
      "100%|██████████| 59/59 [00:00<00:00, 243.02it/s]\n",
      "Detecting bboxes: 100%|██████████| 88/88 [00:35<00:00,  2.48it/s]\n",
      "Recognizing Text: 100%|██████████| 495/495 [08:32<00:00,  1.03s/it]\n",
      "Recognizing equations:   0%|          | 0/1 [00:00<?, ?it/s]\n",
      "\u001b[Aify inference:   0%|          | 0/1 [00:00<?, ?it/s]\n",
      "Texify inference: 100%|██████████| 1/1 [00:00<00:00,  1.12it/s]\n",
      "Recognizing equations: 100%|██████████| 1/1 [00:00<00:00,  1.11it/s]\n",
      "Detecting bboxes: 100%|██████████| 12/12 [00:05<00:00,  2.37it/s]\n",
      "Recognizing Text: 100%|██████████| 49/49 [01:21<00:00,  1.67s/it]\n",
      "Recognizing tables: 100%|██████████| 8/8 [00:05<00:00,  1.38it/s]\n"
     ]
    },
    {
     "name": "stdout",
     "output_type": "stream",
     "text": [
      "Processed: pvm1982r.pdf\n"
     ]
    },
    {
     "name": "stderr",
     "output_type": "stream",
     "text": [
      "Recognizing layout: 100%|██████████| 62/62 [00:34<00:00,  1.81it/s]\n",
      "100%|██████████| 62/62 [00:00<00:00, 321.91it/s]\n",
      "Detecting bboxes: 100%|██████████| 93/93 [00:35<00:00,  2.63it/s]\n",
      "Recognizing Text: 100%|██████████| 505/505 [08:26<00:00,  1.00s/it]\n",
      "Recognizing equations:   0%|          | 0/1 [00:00<?, ?it/s]\n",
      "\u001b[Aify inference:   0%|          | 0/1 [00:00<?, ?it/s]\n",
      "Texify inference: 100%|██████████| 1/1 [00:04<00:00,  4.63s/it]\n",
      "Recognizing equations: 100%|██████████| 1/1 [00:04<00:00,  4.63s/it]\n",
      "Detecting bboxes: 100%|██████████| 7/7 [00:03<00:00,  2.23it/s]\n",
      "Recognizing Text: 100%|██████████| 28/28 [00:26<00:00,  1.05it/s]\n",
      "Recognizing tables: 100%|██████████| 5/5 [00:01<00:00,  3.41it/s]\n"
     ]
    },
    {
     "name": "stdout",
     "output_type": "stream",
     "text": [
      "Processed: pvm1989r.pdf\n"
     ]
    },
    {
     "name": "stderr",
     "output_type": "stream",
     "text": [
      "Recognizing layout: 100%|██████████| 4/4 [00:02<00:00,  1.65it/s]\n",
      "100%|██████████| 4/4 [00:00<00:00, 53.15it/s]\n",
      "Detecting bboxes: 0it [00:00, ?it/s]\n",
      "Recognizing equations:   0%|          | 0/1 [00:00<?, ?it/s]\n",
      "\u001b[Aify inference:   0%|          | 0/1 [00:00<?, ?it/s]\n",
      "Texify inference: 100%|██████████| 1/1 [00:05<00:00,  5.38s/it]\n",
      "Recognizing equations: 100%|██████████| 1/1 [00:05<00:00,  5.38s/it]\n",
      "Detecting bboxes: 0it [00:00, ?it/s]\n",
      "Recognizing tables: 100%|██████████| 2/2 [00:01<00:00,  1.73it/s]\n"
     ]
    },
    {
     "name": "stdout",
     "output_type": "stream",
     "text": [
      "Processed: RISC.pdf\n"
     ]
    },
    {
     "name": "stderr",
     "output_type": "stream",
     "text": [
      "Recognizing layout: 100%|██████████| 3/3 [00:01<00:00,  2.35it/s]\n",
      "100%|██████████| 3/3 [00:00<00:00, 97.51it/s]\n",
      "Detecting bboxes: 100%|██████████| 4/4 [00:01<00:00,  2.92it/s]\n",
      "Recognizing Text: 100%|██████████| 9/9 [00:12<00:00,  1.35s/it]\n",
      "Recognizing equations: 0it [00:00, ?it/s]\n",
      "Detecting bboxes: 0it [00:00, ?it/s]\n"
     ]
    },
    {
     "name": "stdout",
     "output_type": "stream",
     "text": [
      "Processed: rohr-sedlacek_oberon_in_industrial_automatic_control_technology.pdf\n"
     ]
    },
    {
     "name": "stderr",
     "output_type": "stream",
     "text": [
      "Recognizing layout: 100%|██████████| 2/2 [00:00<00:00,  2.22it/s]\n",
      "100%|██████████| 2/2 [00:00<00:00, 56.12it/s]\n",
      "Detecting bboxes: 100%|██████████| 1/1 [00:00<00:00,  2.12it/s]\n",
      "Recognizing Text: 100%|██████████| 7/7 [00:08<00:00,  1.16s/it]\n",
      "Recognizing equations: 0it [00:00, ?it/s]\n",
      "Detecting bboxes: 0it [00:00, ?it/s]\n"
     ]
    },
    {
     "name": "stdout",
     "output_type": "stream",
     "text": [
      "Processed: rybin.pdf\n"
     ]
    },
    {
     "name": "stderr",
     "output_type": "stream",
     "text": [
      "Recognizing layout: 100%|██████████| 2/2 [00:00<00:00,  2.55it/s]\n",
      "100%|██████████| 2/2 [00:00<00:00, 70.13it/s]\n",
      "Detecting bboxes: 100%|██████████| 2/2 [00:00<00:00,  2.43it/s]\n",
      "Recognizing Text: 100%|██████████| 14/14 [00:14<00:00,  1.01s/it]\n",
      "Recognizing equations: 0it [00:00, ?it/s]\n",
      "Detecting bboxes: 0it [00:00, ?it/s]\n"
     ]
    },
    {
     "name": "stdout",
     "output_type": "stream",
     "text": [
      "Processed: scratch.pdf\n"
     ]
    },
    {
     "name": "stderr",
     "output_type": "stream",
     "text": [
      "Recognizing layout: 100%|██████████| 3/3 [00:01<00:00,  1.89it/s]\n",
      "100%|██████████| 3/3 [00:00<00:00, 144.81it/s]\n",
      "Detecting bboxes: 0it [00:00, ?it/s]\n",
      "Recognizing equations: 0it [00:00, ?it/s]\n",
      "Detecting bboxes: 0it [00:00, ?it/s]\n"
     ]
    },
    {
     "name": "stdout",
     "output_type": "stream",
     "text": [
      "Processed: skulski_cern_oberonday.pdf\n"
     ]
    },
    {
     "name": "stderr",
     "output_type": "stream",
     "text": [
      "Recognizing layout: 100%|██████████| 66/66 [00:39<00:00,  1.66it/s]\n",
      "100%|██████████| 66/66 [00:00<00:00, 202.98it/s]\n",
      "Detecting bboxes: 100%|██████████| 98/98 [00:40<00:00,  2.44it/s]\n",
      "Recognizing Text: 100%|██████████| 566/566 [09:44<00:00,  1.03s/it]\n",
      "Recognizing equations:   0%|          | 0/1 [00:00<?, ?it/s]\n",
      "\u001b[Aify inference:   0%|          | 0/1 [00:00<?, ?it/s]\n",
      "Texify inference: 100%|██████████| 1/1 [00:04<00:00,  4.64s/it]\n",
      "Recognizing equations: 100%|██████████| 1/1 [00:04<00:00,  4.64s/it]\n",
      "Detecting bboxes: 100%|██████████| 9/9 [00:03<00:00,  2.32it/s]\n",
      "Recognizing Text: 100%|██████████| 43/43 [00:33<00:00,  1.28it/s]\n",
      "Recognizing tables: 100%|██████████| 6/6 [00:06<00:00,  1.15s/it]\n"
     ]
    },
    {
     "name": "stdout",
     "output_type": "stream",
     "text": [
      "Processed: svo1989r.pdf\n"
     ]
    },
    {
     "name": "stderr",
     "output_type": "stream",
     "text": [
      "Recognizing layout: 100%|██████████| 42/42 [00:20<00:00,  2.09it/s]\n",
      "100%|██████████| 42/42 [00:00<00:00, 314.85it/s]\n",
      "Detecting bboxes: 100%|██████████| 62/62 [00:24<00:00,  2.55it/s]\n",
      "Recognizing Text: 100%|██████████| 304/304 [05:12<00:00,  1.03s/it]\n",
      "Recognizing equations: 0it [00:00, ?it/s]\n",
      "Detecting bboxes: 100%|██████████| 3/3 [00:01<00:00,  1.67it/s]\n",
      "Recognizing Text: 100%|██████████| 20/20 [00:17<00:00,  1.12it/s]\n",
      "Recognizing tables: 100%|██████████| 2/2 [00:01<00:00,  1.87it/s]\n"
     ]
    },
    {
     "name": "stdout",
     "output_type": "stream",
     "text": [
      "Processed: szypreski_insight-ethos_on_object-orientation_in_operating_systems.pdf\n"
     ]
    },
    {
     "name": "stderr",
     "output_type": "stream",
     "text": [
      "Recognizing layout: 100%|██████████| 1/1 [00:01<00:00,  1.04s/it]\n",
      "100%|██████████| 1/1 [00:00<00:00, 49.03it/s]\n",
      "Detecting bboxes: 0it [00:00, ?it/s]\n",
      "Recognizing equations: 0it [00:00, ?it/s]\n",
      "Detecting bboxes: 0it [00:00, ?it/s]\n",
      "Recognizing tables: 100%|██████████| 1/1 [00:00<00:00,  2.75it/s]\n"
     ]
    },
    {
     "name": "stdout",
     "output_type": "stream",
     "text": [
      "Processed: templ_a_systematic_approach_to_multiple_inheritance_implementation.pdf\n"
     ]
    },
    {
     "name": "stderr",
     "output_type": "stream",
     "text": [
      "Recognizing layout: 100%|██████████| 3/3 [00:01<00:00,  1.53it/s]\n",
      "100%|██████████| 3/3 [00:00<00:00, 64.68it/s]\n",
      "Detecting bboxes: 0it [00:00, ?it/s]\n",
      "Recognizing equations: 0it [00:00, ?it/s]\n",
      "Detecting bboxes: 0it [00:00, ?it/s]\n"
     ]
    },
    {
     "name": "stdout",
     "output_type": "stream",
     "text": [
      "Processed: templ_fff97.pdf\n"
     ]
    },
    {
     "name": "stderr",
     "output_type": "stream",
     "text": [
      "Recognizing layout: 100%|██████████| 25/25 [00:10<00:00,  2.28it/s]\n",
      "100%|██████████| 25/25 [00:00<00:00, 52.17it/s]\n",
      "Detecting bboxes: 0it [00:00, ?it/s]\n",
      "Recognizing equations: 0it [00:00, ?it/s]\n",
      "Detecting bboxes: 0it [00:00, ?it/s]\n",
      "Recognizing tables: 100%|██████████| 2/2 [00:00<00:00,  2.32it/s]\n"
     ]
    },
    {
     "name": "stdout",
     "output_type": "stream",
     "text": [
      "Processed: templ_metaprogramming_in_oberon.pdf\n"
     ]
    },
    {
     "name": "stderr",
     "output_type": "stream",
     "text": [
      "Recognizing layout: 100%|██████████| 9/9 [00:05<00:00,  1.71it/s]\n",
      "100%|██████████| 9/9 [00:00<00:00, 55.72it/s]\n",
      "Detecting bboxes: 0it [00:00, ?it/s]\n",
      "Recognizing equations: 0it [00:00, ?it/s]\n",
      "Detecting bboxes: 0it [00:00, ?it/s]\n",
      "Recognizing tables: 100%|██████████| 3/3 [00:02<00:00,  1.02it/s]\n"
     ]
    },
    {
     "name": "stdout",
     "output_type": "stream",
     "text": [
      "Processed: the_oakwood_guidelines_for_oberon-2_compiler_developers.pdf\n"
     ]
    },
    {
     "name": "stderr",
     "output_type": "stream",
     "text": [
      "Recognizing layout: 100%|██████████| 5/5 [00:02<00:00,  2.07it/s]\n",
      "100%|██████████| 3/3 [00:00<00:00, 133.61it/s]\n",
      "Detecting bboxes: 0it [00:00, ?it/s]\n",
      "Recognizing equations: 0it [00:00, ?it/s]\n",
      "Detecting bboxes: 0it [00:00, ?it/s]\n"
     ]
    },
    {
     "name": "stdout",
     "output_type": "stream",
     "text": [
      "Processed: tkachov_less_is_more_why_oberon_beats_mainstream.pdf\n"
     ]
    },
    {
     "name": "stderr",
     "output_type": "stream",
     "text": [
      "Recognizing layout: 100%|██████████| 2/2 [00:01<00:00,  1.27it/s]\n",
      "100%|██████████| 2/2 [00:00<00:00, 83.29it/s]\n",
      "Detecting bboxes: 0it [00:00, ?it/s]\n",
      "Recognizing equations: 0it [00:00, ?it/s]\n",
      "Detecting bboxes: 0it [00:00, ?it/s]\n",
      "Recognizing tables: 100%|██████████| 1/1 [00:00<00:00,  8.25it/s]\n"
     ]
    },
    {
     "name": "stdout",
     "output_type": "stream",
     "text": [
      "Processed: tkachov_less_is_more_why_oberon_beats_mainstream_1.pdf\n"
     ]
    },
    {
     "name": "stderr",
     "output_type": "stream",
     "text": [
      "Recognizing layout: 100%|██████████| 2/2 [00:00<00:00,  2.58it/s]\n",
      "100%|██████████| 2/2 [00:00<00:00, 117.72it/s]\n",
      "Detecting bboxes: 0it [00:00, ?it/s]\n",
      "Recognizing equations: 0it [00:00, ?it/s]\n",
      "Detecting bboxes: 0it [00:00, ?it/s]\n",
      "Recognizing tables: 100%|██████████| 1/1 [00:00<00:00,  2.81it/s]"
     ]
    },
    {
     "name": "stdout",
     "output_type": "stream",
     "text": [
      "Processed: tkachov_oberon-new_dimensions_for_design_of_algorithms_for_scientific_applications.pdf\n"
     ]
    },
    {
     "name": "stderr",
     "output_type": "stream",
     "text": [
      "\n",
      "Recognizing layout: 100%|██████████| 6/6 [00:05<00:00,  1.06it/s]\n",
      "100%|██████████| 6/6 [00:00<00:00, 31.21it/s]\n",
      "Detecting bboxes: 100%|██████████| 8/8 [00:03<00:00,  2.17it/s]\n",
      "Recognizing Text: 100%|██████████| 52/52 [00:59<00:00,  1.14s/it]\n",
      "Recognizing equations: 0it [00:00, ?it/s]\n",
      "Detecting bboxes: 0it [00:00, ?it/s]\n"
     ]
    },
    {
     "name": "stdout",
     "output_type": "stream",
     "text": [
      "Processed: tkachov_sistema_obrazovaniya_kak_faktor_nacionalnogo_suvereniteta_v_sfere_it.pdf\n"
     ]
    }
   ],
   "source": [
    "folder_path = 'pdf_files'\n",
    "output_folder = 'txt_files3'\n",
    "process_pdf_folder(folder_path, output_folder)"
   ]
  },
  {
   "cell_type": "code",
   "execution_count": null,
   "id": "d7de733c-8de7-4e5b-afa5-481aa8c44104",
   "metadata": {},
   "outputs": [],
   "source": []
  }
 ],
 "metadata": {
  "kernelspec": {
   "display_name": "Python 3 (ipykernel)",
   "language": "python",
   "name": "python3"
  },
  "language_info": {
   "codemirror_mode": {
    "name": "ipython",
    "version": 3
   },
   "file_extension": ".py",
   "mimetype": "text/x-python",
   "name": "python",
   "nbconvert_exporter": "python",
   "pygments_lexer": "ipython3",
   "version": "3.12.8"
  }
 },
 "nbformat": 4,
 "nbformat_minor": 5
}
