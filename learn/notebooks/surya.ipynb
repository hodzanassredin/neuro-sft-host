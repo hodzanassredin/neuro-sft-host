{
 "cells": [
  {
   "cell_type": "code",
   "execution_count": 2,
   "id": "030871db-8e4a-4523-9a6b-0138ba9b6dd5",
   "metadata": {},
   "outputs": [
    {
     "name": "stdout",
     "output_type": "stream",
     "text": [
      "Requirement already satisfied: surya-ocr in /opt/conda/lib/python3.12/site-packages (0.10.0)\n",
      "Collecting marker-pdf\n",
      "  Downloading marker_pdf-1.3.3-py3-none-any.whl.metadata (22 kB)\n",
      "Requirement already satisfied: click<9.0.0,>=8.1.8 in /opt/conda/lib/python3.12/site-packages (from surya-ocr) (8.1.8)\n",
      "Requirement already satisfied: filetype<2.0.0,>=1.2.0 in /opt/conda/lib/python3.12/site-packages (from surya-ocr) (1.2.0)\n",
      "Requirement already satisfied: opencv-python<5.0.0.0,>=4.9.0.80 in /opt/conda/lib/python3.12/site-packages (from surya-ocr) (4.11.0.86)\n",
      "Requirement already satisfied: pillow<11.0.0,>=10.2.0 in /opt/conda/lib/python3.12/site-packages (from surya-ocr) (10.4.0)\n",
      "Requirement already satisfied: pydantic<3.0.0,>=2.5.3 in /opt/conda/lib/python3.12/site-packages (from surya-ocr) (2.10.6)\n",
      "Requirement already satisfied: pydantic-settings<3.0.0,>=2.1.0 in /opt/conda/lib/python3.12/site-packages (from surya-ocr) (2.7.1)\n",
      "Requirement already satisfied: pypdfium2==4.30.0 in /opt/conda/lib/python3.12/site-packages (from surya-ocr) (4.30.0)\n",
      "Requirement already satisfied: python-dotenv<2.0.0,>=1.0.0 in /opt/conda/lib/python3.12/site-packages (from surya-ocr) (1.0.1)\n",
      "Requirement already satisfied: torch<3.0.0,>=2.4.1 in /opt/conda/lib/python3.12/site-packages (from surya-ocr) (2.5.1)\n",
      "Requirement already satisfied: transformers<5.0.0,>=4.41.0 in /opt/conda/lib/python3.12/site-packages (from surya-ocr) (4.48.0)\n",
      "Collecting ftfy<7.0.0,>=6.1.1 (from marker-pdf)\n",
      "  Downloading ftfy-6.3.1-py3-none-any.whl.metadata (7.3 kB)\n",
      "Collecting google-generativeai<0.9.0,>=0.8.3 (from marker-pdf)\n",
      "  Downloading google_generativeai-0.8.4-py3-none-any.whl.metadata (4.2 kB)\n",
      "Collecting markdown2<3.0.0,>=2.5.2 (from marker-pdf)\n",
      "  Downloading markdown2-2.5.3-py3-none-any.whl.metadata (2.1 kB)\n",
      "Collecting markdownify<0.14.0,>=0.13.1 (from marker-pdf)\n",
      "  Downloading markdownify-0.13.1-py3-none-any.whl.metadata (8.5 kB)\n",
      "Collecting pdftext<0.6.0,>=0.5.1 (from marker-pdf)\n",
      "  Downloading pdftext-0.5.1-py3-none-any.whl.metadata (8.5 kB)\n",
      "Requirement already satisfied: rapidfuzz<4.0.0,>=3.8.1 in /opt/conda/lib/python3.12/site-packages (from marker-pdf) (3.11.0)\n",
      "Requirement already satisfied: regex<2025.0.0,>=2024.4.28 in /opt/conda/lib/python3.12/site-packages (from marker-pdf) (2024.11.6)\n",
      "Requirement already satisfied: scikit-learn<2.0.0,>=1.6.1 in /opt/conda/lib/python3.12/site-packages (from marker-pdf) (1.6.1)\n",
      "Collecting texify<0.3.0,>=0.2.1 (from marker-pdf)\n",
      "  Downloading texify-0.2.1-py3-none-any.whl.metadata (10 kB)\n",
      "Requirement already satisfied: tqdm<5.0.0,>=4.66.1 in /opt/conda/lib/python3.12/site-packages (from marker-pdf) (4.66.5)\n",
      "Requirement already satisfied: wcwidth in /opt/conda/lib/python3.12/site-packages (from ftfy<7.0.0,>=6.1.1->marker-pdf) (0.2.13)\n",
      "Collecting google-ai-generativelanguage==0.6.15 (from google-generativeai<0.9.0,>=0.8.3->marker-pdf)\n",
      "  Downloading google_ai_generativelanguage-0.6.15-py3-none-any.whl.metadata (5.7 kB)\n",
      "Requirement already satisfied: google-api-core in /opt/conda/lib/python3.12/site-packages (from google-generativeai<0.9.0,>=0.8.3->marker-pdf) (2.24.0)\n",
      "Collecting google-api-python-client (from google-generativeai<0.9.0,>=0.8.3->marker-pdf)\n",
      "  Downloading google_api_python_client-2.160.0-py2.py3-none-any.whl.metadata (6.7 kB)\n",
      "Requirement already satisfied: google-auth>=2.15.0 in /opt/conda/lib/python3.12/site-packages (from google-generativeai<0.9.0,>=0.8.3->marker-pdf) (2.38.0)\n",
      "Requirement already satisfied: protobuf in /opt/conda/lib/python3.12/site-packages (from google-generativeai<0.9.0,>=0.8.3->marker-pdf) (5.29.3)\n",
      "Requirement already satisfied: typing-extensions in /opt/conda/lib/python3.12/site-packages (from google-generativeai<0.9.0,>=0.8.3->marker-pdf) (4.12.2)\n",
      "Requirement already satisfied: proto-plus<2.0.0dev,>=1.22.3 in /opt/conda/lib/python3.12/site-packages (from google-ai-generativelanguage==0.6.15->google-generativeai<0.9.0,>=0.8.3->marker-pdf) (1.25.0)\n",
      "Requirement already satisfied: beautifulsoup4<5,>=4.9 in /opt/conda/lib/python3.12/site-packages (from markdownify<0.14.0,>=0.13.1->marker-pdf) (4.12.3)\n",
      "Requirement already satisfied: six<2,>=1.15 in /opt/conda/lib/python3.12/site-packages (from markdownify<0.14.0,>=0.13.1->marker-pdf) (1.17.0)\n",
      "Requirement already satisfied: numpy>=1.21.2 in /opt/conda/lib/python3.12/site-packages (from opencv-python<5.0.0.0,>=4.9.0.80->surya-ocr) (1.26.4)\n",
      "Requirement already satisfied: annotated-types>=0.6.0 in /opt/conda/lib/python3.12/site-packages (from pydantic<3.0.0,>=2.5.3->surya-ocr) (0.7.0)\n",
      "Requirement already satisfied: pydantic-core==2.27.2 in /opt/conda/lib/python3.12/site-packages (from pydantic<3.0.0,>=2.5.3->surya-ocr) (2.27.2)\n",
      "Requirement already satisfied: scipy>=1.6.0 in /opt/conda/lib/python3.12/site-packages (from scikit-learn<2.0.0,>=1.6.1->marker-pdf) (1.15.1)\n",
      "Requirement already satisfied: joblib>=1.2.0 in /opt/conda/lib/python3.12/site-packages (from scikit-learn<2.0.0,>=1.6.1->marker-pdf) (1.4.2)\n",
      "Requirement already satisfied: threadpoolctl>=3.1.0 in /opt/conda/lib/python3.12/site-packages (from scikit-learn<2.0.0,>=1.6.1->marker-pdf) (3.5.0)\n",
      "Requirement already satisfied: filelock in /opt/conda/lib/python3.12/site-packages (from torch<3.0.0,>=2.4.1->surya-ocr) (3.16.1)\n",
      "Requirement already satisfied: networkx in /opt/conda/lib/python3.12/site-packages (from torch<3.0.0,>=2.4.1->surya-ocr) (3.4.2)\n",
      "Requirement already satisfied: jinja2 in /opt/conda/lib/python3.12/site-packages (from torch<3.0.0,>=2.4.1->surya-ocr) (3.1.5)\n",
      "Requirement already satisfied: fsspec in /opt/conda/lib/python3.12/site-packages (from torch<3.0.0,>=2.4.1->surya-ocr) (2024.9.0)\n",
      "Requirement already satisfied: nvidia-cuda-nvrtc-cu12==12.4.127 in /opt/conda/lib/python3.12/site-packages (from torch<3.0.0,>=2.4.1->surya-ocr) (12.4.127)\n",
      "Requirement already satisfied: nvidia-cuda-runtime-cu12==12.4.127 in /opt/conda/lib/python3.12/site-packages (from torch<3.0.0,>=2.4.1->surya-ocr) (12.4.127)\n",
      "Requirement already satisfied: nvidia-cuda-cupti-cu12==12.4.127 in /opt/conda/lib/python3.12/site-packages (from torch<3.0.0,>=2.4.1->surya-ocr) (12.4.127)\n",
      "Requirement already satisfied: nvidia-cudnn-cu12==9.1.0.70 in /opt/conda/lib/python3.12/site-packages (from torch<3.0.0,>=2.4.1->surya-ocr) (9.1.0.70)\n",
      "Requirement already satisfied: nvidia-cublas-cu12==12.4.5.8 in /opt/conda/lib/python3.12/site-packages (from torch<3.0.0,>=2.4.1->surya-ocr) (12.4.5.8)\n",
      "Requirement already satisfied: nvidia-cufft-cu12==11.2.1.3 in /opt/conda/lib/python3.12/site-packages (from torch<3.0.0,>=2.4.1->surya-ocr) (11.2.1.3)\n",
      "Requirement already satisfied: nvidia-curand-cu12==10.3.5.147 in /opt/conda/lib/python3.12/site-packages (from torch<3.0.0,>=2.4.1->surya-ocr) (10.3.5.147)\n",
      "Requirement already satisfied: nvidia-cusolver-cu12==11.6.1.9 in /opt/conda/lib/python3.12/site-packages (from torch<3.0.0,>=2.4.1->surya-ocr) (11.6.1.9)\n",
      "Requirement already satisfied: nvidia-cusparse-cu12==12.3.1.170 in /opt/conda/lib/python3.12/site-packages (from torch<3.0.0,>=2.4.1->surya-ocr) (12.3.1.170)\n",
      "Requirement already satisfied: nvidia-nccl-cu12==2.21.5 in /opt/conda/lib/python3.12/site-packages (from torch<3.0.0,>=2.4.1->surya-ocr) (2.21.5)\n",
      "Requirement already satisfied: nvidia-nvtx-cu12==12.4.127 in /opt/conda/lib/python3.12/site-packages (from torch<3.0.0,>=2.4.1->surya-ocr) (12.4.127)\n",
      "Requirement already satisfied: nvidia-nvjitlink-cu12==12.4.127 in /opt/conda/lib/python3.12/site-packages (from torch<3.0.0,>=2.4.1->surya-ocr) (12.4.127)\n",
      "Requirement already satisfied: triton==3.1.0 in /opt/conda/lib/python3.12/site-packages (from torch<3.0.0,>=2.4.1->surya-ocr) (3.1.0)\n",
      "Requirement already satisfied: setuptools in /opt/conda/lib/python3.12/site-packages (from torch<3.0.0,>=2.4.1->surya-ocr) (75.1.0)\n",
      "Requirement already satisfied: sympy==1.13.1 in /opt/conda/lib/python3.12/site-packages (from torch<3.0.0,>=2.4.1->surya-ocr) (1.13.1)\n",
      "Requirement already satisfied: mpmath<1.4,>=1.1.0 in /opt/conda/lib/python3.12/site-packages (from sympy==1.13.1->torch<3.0.0,>=2.4.1->surya-ocr) (1.3.0)\n",
      "Requirement already satisfied: huggingface-hub<1.0,>=0.24.0 in /opt/conda/lib/python3.12/site-packages (from transformers<5.0.0,>=4.41.0->surya-ocr) (0.27.1)\n",
      "Requirement already satisfied: packaging>=20.0 in /opt/conda/lib/python3.12/site-packages (from transformers<5.0.0,>=4.41.0->surya-ocr) (24.1)\n",
      "Requirement already satisfied: pyyaml>=5.1 in /opt/conda/lib/python3.12/site-packages (from transformers<5.0.0,>=4.41.0->surya-ocr) (6.0.2)\n",
      "Requirement already satisfied: requests in /opt/conda/lib/python3.12/site-packages (from transformers<5.0.0,>=4.41.0->surya-ocr) (2.32.3)\n",
      "Requirement already satisfied: tokenizers<0.22,>=0.21 in /opt/conda/lib/python3.12/site-packages (from transformers<5.0.0,>=4.41.0->surya-ocr) (0.21.0)\n",
      "Requirement already satisfied: safetensors>=0.4.1 in /opt/conda/lib/python3.12/site-packages (from transformers<5.0.0,>=4.41.0->surya-ocr) (0.5.2)\n",
      "Requirement already satisfied: soupsieve>1.2 in /opt/conda/lib/python3.12/site-packages (from beautifulsoup4<5,>=4.9->markdownify<0.14.0,>=0.13.1->marker-pdf) (2.6)\n",
      "Requirement already satisfied: googleapis-common-protos<2.0.dev0,>=1.56.2 in /opt/conda/lib/python3.12/site-packages (from google-api-core->google-generativeai<0.9.0,>=0.8.3->marker-pdf) (1.66.0)\n",
      "Requirement already satisfied: cachetools<6.0,>=2.0.0 in /opt/conda/lib/python3.12/site-packages (from google-auth>=2.15.0->google-generativeai<0.9.0,>=0.8.3->marker-pdf) (5.5.1)\n",
      "Requirement already satisfied: pyasn1-modules>=0.2.1 in /opt/conda/lib/python3.12/site-packages (from google-auth>=2.15.0->google-generativeai<0.9.0,>=0.8.3->marker-pdf) (0.4.1)\n",
      "Requirement already satisfied: rsa<5,>=3.1.4 in /opt/conda/lib/python3.12/site-packages (from google-auth>=2.15.0->google-generativeai<0.9.0,>=0.8.3->marker-pdf) (4.9)\n",
      "Requirement already satisfied: charset-normalizer<4,>=2 in /opt/conda/lib/python3.12/site-packages (from requests->transformers<5.0.0,>=4.41.0->surya-ocr) (3.3.2)\n",
      "Requirement already satisfied: idna<4,>=2.5 in /opt/conda/lib/python3.12/site-packages (from requests->transformers<5.0.0,>=4.41.0->surya-ocr) (3.7)\n",
      "Requirement already satisfied: urllib3<3,>=1.21.1 in /opt/conda/lib/python3.12/site-packages (from requests->transformers<5.0.0,>=4.41.0->surya-ocr) (2.2.3)\n",
      "Requirement already satisfied: certifi>=2017.4.17 in /opt/conda/lib/python3.12/site-packages (from requests->transformers<5.0.0,>=4.41.0->surya-ocr) (2024.8.30)\n",
      "Collecting httplib2<1.dev0,>=0.19.0 (from google-api-python-client->google-generativeai<0.9.0,>=0.8.3->marker-pdf)\n",
      "  Downloading httplib2-0.22.0-py3-none-any.whl.metadata (2.6 kB)\n",
      "Collecting google-auth-httplib2<1.0.0,>=0.2.0 (from google-api-python-client->google-generativeai<0.9.0,>=0.8.3->marker-pdf)\n",
      "  Downloading google_auth_httplib2-0.2.0-py2.py3-none-any.whl.metadata (2.2 kB)\n",
      "Collecting uritemplate<5,>=3.0.1 (from google-api-python-client->google-generativeai<0.9.0,>=0.8.3->marker-pdf)\n",
      "  Downloading uritemplate-4.1.1-py2.py3-none-any.whl.metadata (2.9 kB)\n",
      "Requirement already satisfied: MarkupSafe>=2.0 in /opt/conda/lib/python3.12/site-packages (from jinja2->torch<3.0.0,>=2.4.1->surya-ocr) (3.0.2)\n",
      "Requirement already satisfied: grpcio<2.0dev,>=1.33.2 in /opt/conda/lib/python3.12/site-packages (from google-api-core[grpc]!=2.0.*,!=2.1.*,!=2.10.*,!=2.2.*,!=2.3.*,!=2.4.*,!=2.5.*,!=2.6.*,!=2.7.*,!=2.8.*,!=2.9.*,<3.0.0dev,>=1.34.1->google-ai-generativelanguage==0.6.15->google-generativeai<0.9.0,>=0.8.3->marker-pdf) (1.70.0)\n",
      "Collecting grpcio-status<2.0.dev0,>=1.33.2 (from google-api-core[grpc]!=2.0.*,!=2.1.*,!=2.10.*,!=2.2.*,!=2.3.*,!=2.4.*,!=2.5.*,!=2.6.*,!=2.7.*,!=2.8.*,!=2.9.*,<3.0.0dev,>=1.34.1->google-ai-generativelanguage==0.6.15->google-generativeai<0.9.0,>=0.8.3->marker-pdf)\n",
      "  Downloading grpcio_status-1.70.0-py3-none-any.whl.metadata (1.1 kB)\n",
      "Requirement already satisfied: pyparsing!=3.0.0,!=3.0.1,!=3.0.2,!=3.0.3,<4,>=2.4.2 in /opt/conda/lib/python3.12/site-packages (from httplib2<1.dev0,>=0.19.0->google-api-python-client->google-generativeai<0.9.0,>=0.8.3->marker-pdf) (3.2.1)\n",
      "Requirement already satisfied: pyasn1<0.7.0,>=0.4.6 in /opt/conda/lib/python3.12/site-packages (from pyasn1-modules>=0.2.1->google-auth>=2.15.0->google-generativeai<0.9.0,>=0.8.3->marker-pdf) (0.6.1)\n",
      "Downloading marker_pdf-1.3.3-py3-none-any.whl (129 kB)\n",
      "Downloading ftfy-6.3.1-py3-none-any.whl (44 kB)\n",
      "Downloading google_generativeai-0.8.4-py3-none-any.whl (175 kB)\n",
      "Downloading google_ai_generativelanguage-0.6.15-py3-none-any.whl (1.3 MB)\n",
      "\u001b[2K   \u001b[90m━━━━━━━━━━━━━━━━━━━━━━━━━━━━━━━━━━━━━━━━\u001b[0m \u001b[32m1.3/1.3 MB\u001b[0m \u001b[31m11.3 MB/s\u001b[0m eta \u001b[36m0:00:00\u001b[0m\n",
      "Downloading markdown2-2.5.3-py3-none-any.whl (48 kB)\n",
      "Downloading markdownify-0.13.1-py3-none-any.whl (10 kB)\n",
      "Downloading pdftext-0.5.1-py3-none-any.whl (22 kB)\n",
      "Downloading texify-0.2.1-py3-none-any.whl (29 kB)\n",
      "Downloading google_api_python_client-2.160.0-py2.py3-none-any.whl (12.8 MB)\n",
      "\u001b[2K   \u001b[90m━━━━━━━━━━━━━━━━━━━━━━━━━━━━━━━━━━━━━━━━\u001b[0m \u001b[32m12.8/12.8 MB\u001b[0m \u001b[31m20.5 MB/s\u001b[0m eta \u001b[36m0:00:00\u001b[0m \u001b[36m0:00:01\u001b[0m\n",
      "Downloading google_auth_httplib2-0.2.0-py2.py3-none-any.whl (9.3 kB)\n",
      "Downloading httplib2-0.22.0-py3-none-any.whl (96 kB)\n",
      "Downloading uritemplate-4.1.1-py2.py3-none-any.whl (10 kB)\n",
      "Downloading grpcio_status-1.70.0-py3-none-any.whl (14 kB)\n",
      "Installing collected packages: uritemplate, markdown2, httplib2, ftfy, markdownify, grpcio-status, google-auth-httplib2, pdftext, google-api-python-client, texify, google-ai-generativelanguage, google-generativeai, marker-pdf\n",
      "Successfully installed ftfy-6.3.1 google-ai-generativelanguage-0.6.15 google-api-python-client-2.160.0 google-auth-httplib2-0.2.0 google-generativeai-0.8.4 grpcio-status-1.70.0 httplib2-0.22.0 markdown2-2.5.3 markdownify-0.13.1 marker-pdf-1.3.3 pdftext-0.5.1 texify-0.2.1 uritemplate-4.1.1\n",
      "\u001b[33mWARNING: Running pip as the 'root' user can result in broken permissions and conflicting behaviour with the system package manager, possibly rendering your system unusable.It is recommended to use a virtual environment instead: https://pip.pypa.io/warnings/venv. Use the --root-user-action option if you know what you are doing and want to suppress this warning.\u001b[0m\u001b[33m\n",
      "\u001b[0m\n",
      "\u001b[1m[\u001b[0m\u001b[34;49mnotice\u001b[0m\u001b[1;39;49m]\u001b[0m\u001b[39;49m A new release of pip is available: \u001b[0m\u001b[31;49m24.3.1\u001b[0m\u001b[39;49m -> \u001b[0m\u001b[32;49m25.0\u001b[0m\n",
      "\u001b[1m[\u001b[0m\u001b[34;49mnotice\u001b[0m\u001b[1;39;49m]\u001b[0m\u001b[39;49m To update, run: \u001b[0m\u001b[32;49mpip install --upgrade pip\u001b[0m\n"
     ]
    }
   ],
   "source": [
    "!pip install surya-ocr marker-pdf"
   ]
  },
  {
   "cell_type": "code",
   "execution_count": 1,
   "id": "47039560-5b6b-4a03-8d60-40e30ebe17de",
   "metadata": {},
   "outputs": [
    {
     "name": "stderr",
     "output_type": "stream",
     "text": [
      "/opt/conda/lib/python3.12/site-packages/tqdm/auto.py:21: TqdmWarning: IProgress not found. Please update jupyter and ipywidgets. See https://ipywidgets.readthedocs.io/en/stable/user_install.html\n",
      "  from .autonotebook import tqdm as notebook_tqdm\n"
     ]
    },
    {
     "name": "stdout",
     "output_type": "stream",
     "text": [
      "Loaded layout model datalab-to/surya_layout on device cuda with dtype torch.float16\n",
      "Loaded texify model datalab-to/texify on device cuda with dtype torch.float16\n",
      "Loaded recognition model vikp/surya_rec2 on device cuda with dtype torch.float16\n",
      "Loaded table recognition model datalab-to/surya_tablerec on device cuda with dtype torch.float16\n",
      "Loaded detection model vikp/surya_det3 on device cuda with dtype torch.float16\n"
     ]
    }
   ],
   "source": [
    "from marker.converters.pdf import PdfConverter\n",
    "from marker.models import create_model_dict\n",
    "from marker.output import text_from_rendered\n",
    "\n",
    "converter = PdfConverter(\n",
    "    artifact_dict=create_model_dict(),\n",
    ")\n"
   ]
  },
  {
   "cell_type": "code",
   "execution_count": 2,
   "id": "10a92454-66af-4fa8-ae4a-fc32cb582e87",
   "metadata": {},
   "outputs": [],
   "source": [
    "import os\n",
    "import hashlib\n",
    "\n",
    "\n",
    "def calculate_hash(file_path):\n",
    "    \"\"\"Вычисляет SHA-256 хеш файла.\"\"\"\n",
    "    sha256 = hashlib.sha256()\n",
    "    with open(file_path, 'rb') as f:\n",
    "        while chunk := f.read(8192):\n",
    "            sha256.update(chunk)\n",
    "    return sha256.hexdigest()\n",
    "\n",
    "def process_pdf_folder(folder_path, output_folder):\n",
    "    \"\"\"Обрабатывает папку с PDF файлами, конвертирует их в текст и исключает дубликаты.\"\"\"\n",
    "    if not os.path.exists(output_folder):\n",
    "        os.makedirs(output_folder)\n",
    "\n",
    "    seen_hashes = set()\n",
    "    for filename in os.listdir(folder_path):\n",
    "        if filename.endswith('.pdf'):\n",
    "            file_path = os.path.join(folder_path, filename)\n",
    "            file_hash = calculate_hash(file_path)\n",
    "\n",
    "            if file_hash not in seen_hashes:\n",
    "                seen_hashes.add(file_hash)\n",
    "                text = pdf_to_text(file_path)\n",
    "                output_file_path = os.path.join(output_folder, f\"{os.path.splitext(filename)[0]}.txt\")\n",
    "                with open(output_file_path, 'w', encoding='utf-8') as output_file:\n",
    "                    output_file.write(text)\n",
    "                print(f\"Processed: {filename}\")\n",
    "            else:\n",
    "                print(f\"Duplicate found, skipping: {filename}\")\n",
    "\n",
    "def pdf_to_text(fname):\n",
    "    rendered = converter(fname)\n",
    "    text, _, images = text_from_rendered(rendered)\n",
    "    return text"
   ]
  },
  {
   "cell_type": "code",
   "execution_count": 3,
   "id": "39a06cfe-fcbc-412e-a4a3-666d1ac6feb7",
   "metadata": {},
   "outputs": [
    {
     "name": "stderr",
     "output_type": "stream",
     "text": [
      "Recognizing layout: 100%|██████████| 37/37 [00:13<00:00,  2.65it/s]\n",
      "100%|██████████| 37/37 [00:00<00:00, 57.62it/s]\n",
      "Detecting bboxes: 100%|██████████| 40/40 [00:15<00:00,  2.62it/s]\n",
      "Recognizing Text: 100%|██████████| 208/208 [03:31<00:00,  1.02s/it]\n",
      "Recognizing equations:   0%|          | 0/1 [00:00<?, ?it/s]\n",
      "\u001b[Aify inference:   0%|          | 0/1 [00:00<?, ?it/s]\n",
      "Texify inference: 100%|██████████| 1/1 [00:01<00:00,  1.10s/it]\n",
      "Recognizing equations: 100%|██████████| 1/1 [00:01<00:00,  1.11s/it]\n",
      "Detecting bboxes: 100%|██████████| 1/1 [00:00<00:00,  2.32it/s]\n",
      "Recognizing Text: 100%|██████████| 1/1 [00:00<00:00,  1.66it/s]\n",
      "Recognizing tables: 100%|██████████| 1/1 [00:00<00:00,  1.05it/s]\n"
     ]
    },
    {
     "name": "stdout",
     "output_type": "stream",
     "text": [
      "Processed: Orlov_V_V_Osnovy_filosofii_Ch_1_Obschaya_filosofia_Vyp_1_Perm_2001.pdf\n"
     ]
    }
   ],
   "source": [
    "folder_path = 'tmp'\n",
    "output_folder = 'tmp'\n",
    "process_pdf_folder(folder_path, output_folder)"
   ]
  },
  {
   "cell_type": "code",
   "execution_count": null,
   "id": "d7de733c-8de7-4e5b-afa5-481aa8c44104",
   "metadata": {},
   "outputs": [],
   "source": []
  }
 ],
 "metadata": {
  "kernelspec": {
   "display_name": "Python 3 (ipykernel)",
   "language": "python",
   "name": "python3"
  },
  "language_info": {
   "codemirror_mode": {
    "name": "ipython",
    "version": 3
   },
   "file_extension": ".py",
   "mimetype": "text/x-python",
   "name": "python",
   "nbconvert_exporter": "python",
   "pygments_lexer": "ipython3",
   "version": "3.12.8"
  }
 },
 "nbformat": 4,
 "nbformat_minor": 5
}
