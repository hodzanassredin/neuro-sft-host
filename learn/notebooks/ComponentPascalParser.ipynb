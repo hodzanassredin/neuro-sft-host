{
 "cells": [
  {
   "cell_type": "code",
   "execution_count": 16,
   "id": "2d17f218-3b01-4f20-8213-45123630bebb",
   "metadata": {},
   "outputs": [],
   "source": [
    "from lark import Lark, UnexpectedEOF\n",
    "\n",
    "ebnf_grammar = \"\"\"\n",
    "    document: module ANY\n",
    "    module: \"MODULE\" IDENT \";\" (import_list)? decl_seq (\"BEGIN\" statement_seq)? (\"CLOSE\" statement_seq)? \"END\" IDENT \".\"\n",
    "    import_list: \"IMPORT\" (IDENT \":=\")? IDENT (\",\" (IDENT \":=\")? IDENT)* \";\"\n",
    "    decl_seq: (\"CONST\" (const_decl \";\")* | \"TYPE\" (type_decl \";\")* | \"VAR\" (var_decl \";\")*)* (proc_decl \";\" | forward_decl \";\")*\n",
    "    const_decl: ident_def \"=\" const_expr\n",
    "    type_decl: ident_def \"=\" type\n",
    "    var_decl: ident_list \":\" type\n",
    "    proc_decl: \"PROCEDURE\" (receiver)? ident_def (formal_pars)? meth_attributes (\";\" decl_seq (\"BEGIN\" statement_seq)? \"END\" IDENT)?\n",
    "    meth_attributes: (\",\" \"NEW\")? (\",\" (\"ABSTRACT\" | \"EMPTY\" | \"EXTENSIBLE\"))?\n",
    "    forward_decl: \"PROCEDURE\" \" ^ \" (receiver)? ident_def (formal_pars)? meth_attributes\n",
    "    formal_pars: \"(\" (f_p_section (\";\" f_p_section)*)? \")\" (\":\" type)?\n",
    "    f_p_section: (\"VAR\" | \"IN\" | \"OUT\")? IDENT (\",\" IDENT)* \":\" type\n",
    "    receiver: \"(\" (\"VAR\" | \"IN\")? IDENT \":\" IDENT \")\"\n",
    "    type: qualident | \"ARRAY\" (const_expr (\",\" const_expr)*)? \"OF\" type | (\"ABSTRACT\" | \"EXTENSIBLE\" | \"LIMITED\")? | \"RECORD\" (\"(\" qualident \")\")? field_list (\";\" field_list)* \"END\" | \"POINTER\" \"TO\" type | \"PROCEDURE\" (formal_pars)?\n",
    "    field_list: (ident_list \":\" type)?\n",
    "    statement_seq: statement (\";\" statement)*\n",
    "    statement: (designator \":=\" expr | designator (\"(\" (expr_list)? \")\")? \n",
    "            | \"IF\" expr \"THEN\" statement_seq (\"ELSIF\" expr \"THEN\" statement_seq)* (\"ELSE\" statement_seq)? \"END\" \n",
    "            | \"CASE\" expr \"OF\" case (\"|\" case)* (\"ELSE\" statement_seq)? \"END\" \n",
    "            | \"WHILE\" expr \"DO\" statement_seq \"END\" \n",
    "            | \"REPEAT\" statement_seq \"UNTIL\" expr \n",
    "            | \"FOR\" IDENT \":=\" expr \"TO\" expr (\"BY\" const_expr)? \"DO\" statement_seq \"END\" \n",
    "            | \"LOOP\" statement_seq \"END\" \n",
    "            | \"WITH\" (guard \"DO\" statement_seq)? (\"|\" (guard \"DO\" statement_seq)?)* (\"ELSE\" statement_seq)? \"END\" \n",
    "            | \"EXIT\" \n",
    "            | \"RETURN\" (expr)?)?\n",
    "    case: (case_labels (\",\" case_labels)* \":\" statement_seq)?\n",
    "    case_labels: const_expr (\"..\" const_expr)?\n",
    "    guard: qualident \":\" qualident\n",
    "    const_expr: expr\n",
    "    expr: simple_expr (relation simple_expr)?\n",
    "    simple_expr: (\"+\" | \"-\")? term (add_op term)*\n",
    "    term: factor (mul_op factor)*\n",
    "    factor: designator | NUMBER | CHARACTER | STRING | \"NIL\" | set | \"(\" expr \")\" | \" ~ \" factor\n",
    "    set: \"{\" (element (\",\" element)*)? \"}\"\n",
    "    element: expr (\"..\" expr)?\n",
    "    relation: \"=\" | \"#\" | \"<\" | \"<=\" | \">\" | \">=\" | \"IN\" | \"IS\"\n",
    "    add_op: \"+\" | \"-\" | \"OR\"\n",
    "    mul_op: \" * \" | \"/\" | \"DIV\" | \"MOD\" | \"&\"\n",
    "    designator: qualident (\".\" IDENT | \"[\" expr_list \"]\" | \" ^ \" | \"(\" qualident \")\" | \"(\" (expr_list)? \")\")* (\"$\")?\n",
    "    expr_list: expr (\",\" expr)*\n",
    "    ident_list: ident_def (\",\" ident_def)*\n",
    "    qualident: (IDENT \".\")? IDENT\n",
    "    ident_def: IDENT (\" * \" | \"-\")?\n",
    "\n",
    "    ANY: /[^ ]+/    \n",
    "    IDENT: CNAME\n",
    "    NUMBER: INT | FLOAT | HEX\n",
    "    HEX: /0x[0-9A-Fa-f]+/\n",
    "    CHARACTER: /'[^']*'/\n",
    "    STRING: /\"[^\"]*\"/\n",
    "    \n",
    "    %import common.CNAME\n",
    "    %import common.INT\n",
    "    %import common.FLOAT\n",
    "    %import common.WS\n",
    "    \n",
    "    %ignore WS\n",
    "\"\"\"\n",
    "#COMMENT: \"(*\" /(.|\\n)*?/ \"*)\"\n",
    "#%ignore COMMENT\n",
    "comment_grammar = \"\"\"\n",
    "    COMMENT : \"(*\" /(.|\\n)*?/ \"*)\"\n",
    "    %import common.WS\n",
    "    %ignore WS\n",
    "\"\"\"\n"
   ]
  },
  {
   "cell_type": "code",
   "execution_count": 17,
   "id": "b61841eb-5b19-4018-8d15-c49a612b712f",
   "metadata": {},
   "outputs": [],
   "source": [
    "#, parser='lalr'\n",
    "# lexer='basic', \n",
    "\n",
    "starts = [\n",
    "    \"module\", \n",
    "    \"import_list\",\n",
    "    \"expr\",\n",
    "    \"statement\"\n",
    "]\n",
    "\n",
    "\n",
    "\n"
   ]
  },
  {
   "cell_type": "code",
   "execution_count": 18,
   "id": "79dd86ef-7864-49f0-86f2-9d2b7bbd75a1",
   "metadata": {},
   "outputs": [],
   "source": [
    "def rule_match(grammar, rule, text):\n",
    "    parser = Lark(grammar, start=rule)\n",
    "    try:\n",
    "        tree = parser.parse(code)\n",
    "        return 1\n",
    "    except UnexpectedEOF:\n",
    "        return 2\n",
    "    except:\n",
    "        return 0\n",
    "\n",
    "def is_document(text):\n",
    "    return rule_match(ebnf_grammar, \"document\",text) == 1\n",
    "\n",
    "def is_module(text):\n",
    "    return rule_match(ebnf_grammar, \"module\",text) == 1\n",
    "\n",
    "def is_statement(text):\n",
    "    return rule_match(ebnf_grammar, \"statement\",text) == 1\n",
    "\n",
    "def get_module_text_len(text):\n",
    "    parser = Lark(ebnf_grammar, start=\"document\", propagate_positions=True)\n",
    "    tree = parser.parse(text)\n",
    "    return len(text) - len(tree.children[0].value)\n",
    "    \n",
    "def is_comment(text):\n",
    "    return rule_match(comment_grammar, \"COMMENT\",text) == 1\n",
    "\n",
    "def is_comment_start(text):\n",
    "    return rule_match(comment_grammar, \"COMMENT\",text) == 2\n",
    "\n",
    "\n",
    "\n",
    "def try_module(text, rule):\n",
    "    parser = Lark(ebnf_grammar, start=rule)\n",
    "    try:\n",
    "        tree = parser.parse(code)\n",
    "        return 1\n",
    "    except UnexpectedEOF:\n",
    "        return 2\n",
    "    except:\n",
    "        return 0\n",
    "\n",
    "def load_file(path):\n",
    "   with open(path, 'r', encoding='utf-8') as f:\n",
    "      return f.read()"
   ]
  },
  {
   "cell_type": "code",
   "execution_count": 19,
   "id": "d3e5913c-1eaa-49ce-b9f2-2e0113e99a53",
   "metadata": {},
   "outputs": [
    {
     "data": {
      "text/plain": [
       "1"
      ]
     },
     "execution_count": 19,
     "metadata": {},
     "output_type": "execute_result"
    }
   ],
   "source": [
    "# Пример использования\n",
    "code = \"\"\"\n",
    "MODULE HelloWorld;\n",
    "IMPORT Out;\n",
    "BEGIN\n",
    "  a := b;\n",
    "END HelloWorld.\n",
    "\"\"\"\n",
    "rule_match(ebnf_grammar, \"document\", code)"
   ]
  },
  {
   "cell_type": "code",
   "execution_count": 20,
   "id": "f9d2337c-4b95-4678-b956-9eafdbee1e6c",
   "metadata": {},
   "outputs": [],
   "source": [
    "parser = Lark(ebnf_grammar, start=\"document\", propagate_positions=True)\n",
    "tree = parser.parse(code)"
   ]
  },
  {
   "cell_type": "code",
   "execution_count": 21,
   "id": "aa57443f-1db6-4cdc-9934-db1561b2be30",
   "metadata": {},
   "outputs": [
    {
     "ename": "FileNotFoundError",
     "evalue": "[Errno 2] No such file or directory: '/app/datasets/oberon/docs/bb_ru/Dev/Mod/AlienTool.odc'",
     "output_type": "error",
     "traceback": [
      "\u001b[0;31m---------------------------------------------------------------------------\u001b[0m",
      "\u001b[0;31mFileNotFoundError\u001b[0m                         Traceback (most recent call last)",
      "Cell \u001b[0;32mIn[21], line 1\u001b[0m\n\u001b[0;32m----> 1\u001b[0m text \u001b[38;5;241m=\u001b[39m \u001b[43mload_file\u001b[49m\u001b[43m(\u001b[49m\u001b[38;5;124;43m'\u001b[39;49m\u001b[38;5;124;43m/app/datasets/oberon/docs/bb_ru/Dev/Mod/AlienTool.odc\u001b[39;49m\u001b[38;5;124;43m'\u001b[39;49m\u001b[43m)\u001b[49m\n",
      "Cell \u001b[0;32mIn[18], line 44\u001b[0m, in \u001b[0;36mload_file\u001b[0;34m(path)\u001b[0m\n\u001b[1;32m     43\u001b[0m \u001b[38;5;28;01mdef\u001b[39;00m\u001b[38;5;250m \u001b[39m\u001b[38;5;21mload_file\u001b[39m(path):\n\u001b[0;32m---> 44\u001b[0m    \u001b[38;5;28;01mwith\u001b[39;00m \u001b[38;5;28;43mopen\u001b[39;49m\u001b[43m(\u001b[49m\u001b[43mpath\u001b[49m\u001b[43m,\u001b[49m\u001b[43m \u001b[49m\u001b[38;5;124;43m'\u001b[39;49m\u001b[38;5;124;43mr\u001b[39;49m\u001b[38;5;124;43m'\u001b[39;49m\u001b[43m,\u001b[49m\u001b[43m \u001b[49m\u001b[43mencoding\u001b[49m\u001b[38;5;241;43m=\u001b[39;49m\u001b[38;5;124;43m'\u001b[39;49m\u001b[38;5;124;43mutf-8\u001b[39;49m\u001b[38;5;124;43m'\u001b[39;49m\u001b[43m)\u001b[49m \u001b[38;5;28;01mas\u001b[39;00m f:\n\u001b[1;32m     45\u001b[0m       \u001b[38;5;28;01mreturn\u001b[39;00m f\u001b[38;5;241m.\u001b[39mread()\n",
      "File \u001b[0;32m/opt/conda/lib/python3.12/site-packages/IPython/core/interactiveshell.py:324\u001b[0m, in \u001b[0;36m_modified_open\u001b[0;34m(file, *args, **kwargs)\u001b[0m\n\u001b[1;32m    317\u001b[0m \u001b[38;5;28;01mif\u001b[39;00m file \u001b[38;5;129;01min\u001b[39;00m {\u001b[38;5;241m0\u001b[39m, \u001b[38;5;241m1\u001b[39m, \u001b[38;5;241m2\u001b[39m}:\n\u001b[1;32m    318\u001b[0m     \u001b[38;5;28;01mraise\u001b[39;00m \u001b[38;5;167;01mValueError\u001b[39;00m(\n\u001b[1;32m    319\u001b[0m         \u001b[38;5;124mf\u001b[39m\u001b[38;5;124m\"\u001b[39m\u001b[38;5;124mIPython won\u001b[39m\u001b[38;5;124m'\u001b[39m\u001b[38;5;124mt let you open fd=\u001b[39m\u001b[38;5;132;01m{\u001b[39;00mfile\u001b[38;5;132;01m}\u001b[39;00m\u001b[38;5;124m by default \u001b[39m\u001b[38;5;124m\"\u001b[39m\n\u001b[1;32m    320\u001b[0m         \u001b[38;5;124m\"\u001b[39m\u001b[38;5;124mas it is likely to crash IPython. If you know what you are doing, \u001b[39m\u001b[38;5;124m\"\u001b[39m\n\u001b[1;32m    321\u001b[0m         \u001b[38;5;124m\"\u001b[39m\u001b[38;5;124myou can use builtins\u001b[39m\u001b[38;5;124m'\u001b[39m\u001b[38;5;124m open.\u001b[39m\u001b[38;5;124m\"\u001b[39m\n\u001b[1;32m    322\u001b[0m     )\n\u001b[0;32m--> 324\u001b[0m \u001b[38;5;28;01mreturn\u001b[39;00m \u001b[43mio_open\u001b[49m\u001b[43m(\u001b[49m\u001b[43mfile\u001b[49m\u001b[43m,\u001b[49m\u001b[43m \u001b[49m\u001b[38;5;241;43m*\u001b[39;49m\u001b[43margs\u001b[49m\u001b[43m,\u001b[49m\u001b[43m \u001b[49m\u001b[38;5;241;43m*\u001b[39;49m\u001b[38;5;241;43m*\u001b[39;49m\u001b[43mkwargs\u001b[49m\u001b[43m)\u001b[49m\n",
      "\u001b[0;31mFileNotFoundError\u001b[0m: [Errno 2] No such file or directory: '/app/datasets/oberon/docs/bb_ru/Dev/Mod/AlienTool.odc'"
     ]
    }
   ],
   "source": [
    "text = load_file('/app/datasets/oberon/docs/bb_ru/Dev/Mod/AlienTool.odc')"
   ]
  },
  {
   "cell_type": "code",
   "execution_count": 2,
   "id": "28d067f4-1509-433e-a26d-26acbe5fc5e8",
   "metadata": {},
   "outputs": [
    {
     "ename": "NameError",
     "evalue": "name 'text' is not defined",
     "output_type": "error",
     "traceback": [
      "\u001b[0;31m---------------------------------------------------------------------------\u001b[0m",
      "\u001b[0;31mNameError\u001b[0m                                 Traceback (most recent call last)",
      "Cell \u001b[0;32mIn[2], line 1\u001b[0m\n\u001b[0;32m----> 1\u001b[0m is_document(\u001b[43mtext\u001b[49m)\n",
      "\u001b[0;31mNameError\u001b[0m: name 'text' is not defined"
     ]
    }
   ],
   "source": [
    "is_document(text)"
   ]
  },
  {
   "cell_type": "code",
   "execution_count": 86,
   "id": "a77b248d-0e8f-4a5d-90ae-32c26136e7e1",
   "metadata": {},
   "outputs": [],
   "source": []
  },
  {
   "cell_type": "code",
   "execution_count": 104,
   "id": "3a01ebad-bd15-4974-8c4a-14ca47be322e",
   "metadata": {},
   "outputs": [
    {
     "data": {
      "text/plain": [
       "2"
      ]
     },
     "execution_count": 104,
     "metadata": {},
     "output_type": "execute_result"
    }
   ],
   "source": [
    "rule_match(text, \"document\")"
   ]
  },
  {
   "cell_type": "code",
   "execution_count": null,
   "id": "8f7d95e0-5e92-41c0-9d05-acbf9f17a001",
   "metadata": {},
   "outputs": [],
   "source": []
  }
 ],
 "metadata": {
  "kernelspec": {
   "display_name": "Python 3 (ipykernel)",
   "language": "python",
   "name": "python3"
  },
  "language_info": {
   "codemirror_mode": {
    "name": "ipython",
    "version": 3
   },
   "file_extension": ".py",
   "mimetype": "text/x-python",
   "name": "python",
   "nbconvert_exporter": "python",
   "pygments_lexer": "ipython3",
   "version": "3.12.8"
  }
 },
 "nbformat": 4,
 "nbformat_minor": 5
}
