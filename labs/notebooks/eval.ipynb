{
 "cells": [
  {
   "cell_type": "code",
   "execution_count": 1,
   "id": "c552ef18-d476-4ac1-a932-fe39ae52e36d",
   "metadata": {},
   "outputs": [
    {
     "name": "stdout",
     "output_type": "stream",
     "text": [
      "Mon Feb 24 14:33:09 2025       \n",
      "+-----------------------------------------------------------------------------------------+\n",
      "| NVIDIA-SMI 560.35.02              Driver Version: 560.94         CUDA Version: 12.6     |\n",
      "|-----------------------------------------+------------------------+----------------------+\n",
      "| GPU  Name                 Persistence-M | Bus-Id          Disp.A | Volatile Uncorr. ECC |\n",
      "| Fan  Temp   Perf          Pwr:Usage/Cap |           Memory-Usage | GPU-Util  Compute M. |\n",
      "|                                         |                        |               MIG M. |\n",
      "|=========================================+========================+======================|\n",
      "|   0  NVIDIA GeForce RTX 4060 Ti     On  |   00000000:01:00.0  On |                  N/A |\n",
      "|  0%   37C    P8              5W /  165W |    5621MiB /  16380MiB |     13%      Default |\n",
      "|                                         |                        |                  N/A |\n",
      "+-----------------------------------------+------------------------+----------------------+\n",
      "                                                                                         \n",
      "+-----------------------------------------------------------------------------------------+\n",
      "| Processes:                                                                              |\n",
      "|  GPU   GI   CI        PID   Type   Process name                              GPU Memory |\n",
      "|        ID   ID                                                               Usage      |\n",
      "|=========================================================================================|\n",
      "|  No running processes found                                                             |\n",
      "+-----------------------------------------------------------------------------------------+\n"
     ]
    }
   ],
   "source": [
    "!nvidia-smi"
   ]
  },
  {
   "cell_type": "code",
   "execution_count": 2,
   "id": "05e04ccb-e0e0-4c48-a9c8-efb88642a788",
   "metadata": {},
   "outputs": [],
   "source": [
    "import os\n",
    "import torch\n",
    "import transformers\n",
    "import peft\n",
    "import datasets\n",
    "import evaluate\n",
    "import time\n",
    "assert torch.cuda.is_available(), \"you need cuda for this part\"\n",
    "device = torch.device('cuda:0' if torch.cuda.is_available() else 'cpu')"
   ]
  },
  {
   "cell_type": "code",
   "execution_count": 3,
   "id": "6278fc09-ac11-4db4-9b35-f1191285d8d5",
   "metadata": {},
   "outputs": [
    {
     "data": {
      "text/plain": [
       "device(type='cuda', index=0)"
      ]
     },
     "execution_count": 3,
     "metadata": {},
     "output_type": "execute_result"
    }
   ],
   "source": [
    "device"
   ]
  },
  {
   "cell_type": "code",
   "execution_count": 6,
   "id": "055ff20d-43e1-4f7d-8722-441da81abb19",
   "metadata": {},
   "outputs": [],
   "source": [
    "base_model_name = \"Qwen/Qwen2.5-Coder-3B-Instruct\"\n",
    "model_name = \"hodza/BlackBox-Coder-3B\"\n"
   ]
  },
  {
   "cell_type": "code",
   "execution_count": 12,
   "id": "10faa754-675f-49fa-af89-9e2376c3b9fa",
   "metadata": {},
   "outputs": [
    {
     "data": {
      "application/vnd.jupyter.widget-view+json": {
       "model_id": "e3cb99b588f04f9594aad466847142fe",
       "version_major": 2,
       "version_minor": 0
      },
      "text/plain": [
       "Loading checkpoint shards:   0%|          | 0/2 [00:00<?, ?it/s]"
      ]
     },
     "metadata": {},
     "output_type": "display_data"
    },
    {
     "data": {
      "application/vnd.jupyter.widget-view+json": {
       "model_id": "81b78e4cbf2b448da28cb5a36418c750",
       "version_major": 2,
       "version_minor": 0
      },
      "text/plain": [
       "Loading checkpoint shards:   0%|          | 0/2 [00:00<?, ?it/s]"
      ]
     },
     "metadata": {},
     "output_type": "display_data"
    }
   ],
   "source": [
    "tokenizer = transformers.AutoTokenizer.from_pretrained(base_model_name)\n",
    "bnb_config = transformers.BitsAndBytesConfig(\n",
    "        load_in_4bit=True,\n",
    "        bnb_4bit_quant_type=\"nf4\",\n",
    "        bnb_4bit_use_double_quant=True,\n",
    "        bnb_4bit_compute_dtype=torch.bfloat16\n",
    "    )\n",
    "base_model = transformers.AutoModelForCausalLM.from_pretrained(base_model_name, device_map=device,quantization_config=bnb_config,)\n",
    "model = peft.PeftModel.from_pretrained(base_model, model_name)\n",
    "base_model = transformers.AutoModelForCausalLM.from_pretrained(base_model_name, device_map=device,quantization_config=bnb_config,)"
   ]
  },
  {
   "cell_type": "code",
   "execution_count": 13,
   "id": "0226c3f9-1c41-4010-b00b-0fa0e125839f",
   "metadata": {},
   "outputs": [],
   "source": [
    "from IPython.display import HTML, display\n",
    "table_template = \"\"\"<table style=\"border:1px solid black\" >\n",
    "  <tr>\n",
    "    <th style=\"text-align: center; border:1px solid black\">PROMPT</th>\n",
    "    <th style=\"text-align: center; border:1px solid black\">BEFORE</th>\n",
    "    <th style=\"text-align: center; border:1px solid black\">AFTER</th>\n",
    "  </tr>\n",
    "{}\n",
    "</table>\"\"\"\n",
    "\n",
    "row_template = '''  <tr>\n",
    "    <td style=\"width:20%; border:1px solid black\"><pre align=\"left\">`{}`</pre></td>\n",
    "    <td style=\"width:40%; border:1px solid black\"><pre align=\"left\">{}</pre></td>\n",
    "    <td style=\"width:40%; border:1px solid black\"><pre align=\"left\">{}</pre></td>\n",
    "  </tr>'''\n",
    "\n",
    "def prompt_to_chat(prompt):\n",
    "    messages = [\n",
    "        {\"role\": \"user\", \"content\": prompt}\n",
    "    ]\n",
    "    text = tokenizer.apply_chat_template(\n",
    "        messages,\n",
    "        tokenize=False,\n",
    "        add_generation_prompt=True\n",
    "    )\n",
    "    return text\n",
    "\n",
    "def infer(model, prompt, l=100, use_chat = True, temperature=0.4, top_p = 0.8):\n",
    "    if use_chat:\n",
    "        prompt = prompt_to_chat(prompt)\n",
    "    model_inputs = tokenizer([prompt], return_tensors=\"pt\").to(model.device)\n",
    "\n",
    "    generated_ids = model.generate(\n",
    "        **model_inputs,\n",
    "        max_new_tokens=l,\n",
    "        temperature=temperature, \n",
    "        top_p=top_p,\n",
    "        do_sample=True ,  \n",
    "    )\n",
    "    generated_ids = [\n",
    "        output_ids[len(input_ids):] for input_ids, output_ids in zip(model_inputs.input_ids, generated_ids)\n",
    "    ]\n",
    "    \n",
    "    response = tokenizer.batch_decode(generated_ids, skip_special_tokens=False)[0]\n",
    "    return response\n",
    "\n",
    "\n",
    "prompts =  [\n",
    "    'Как в BlackBox можно вывести данные на консоль?', \n",
    "    'Какой тип данных в Component Pascal используется для хранения целых чисел?', \n",
    "    'МОДУЛЬ i21егэDemo2010C4ru;', \n",
    "    'Component Pascal is Oberon microsystems refinement of?', \n",
    "    'Log.String(', \n",
    "    'Типом целой константы является?'\n",
    "]  # feel free to add a few more that are not 100% assiciated with Python"
   ]
  },
  {
   "cell_type": "code",
   "execution_count": 14,
   "id": "c5d4b9ec-9c96-4b55-b7d2-b4a1d8e1ddcb",
   "metadata": {},
   "outputs": [],
   "source": [
    "def draw_diff(use_chat,l):\n",
    "    print(f\"USING CHAT TEMPLATE = {use_chat}\")\n",
    "        \n",
    "    baseline = [infer(base_model, p, l = l, use_chat=use_chat) for p in prompts]\n",
    "    check = [infer(model, p, l = l, use_chat=use_chat) for p in prompts]\n",
    "    rows = []\n",
    "    for i, prompt in enumerate(prompts):\n",
    "        # replace placeholders in the format() arguments\n",
    "        rows.append(row_template.format(prompt, baseline[i], check[i]))\n",
    "    display(HTML(table_template.format('\\n'.join(rows))))"
   ]
  },
  {
   "cell_type": "code",
   "execution_count": 16,
   "id": "d62e1c1d-9778-4fe4-85dd-05053174412e",
   "metadata": {},
   "outputs": [
    {
     "name": "stdout",
     "output_type": "stream",
     "text": [
      "USING CHAT TEMPLATE = True\n"
     ]
    },
    {
     "data": {
      "text/html": [
       "<table style=\"border:1px solid black\" >\n",
       "  <tr>\n",
       "    <th style=\"text-align: center; border:1px solid black\">PROMPT</th>\n",
       "    <th style=\"text-align: center; border:1px solid black\">BEFORE</th>\n",
       "    <th style=\"text-align: center; border:1px solid black\">AFTER</th>\n",
       "  </tr>\n",
       "  <tr>\n",
       "    <td style=\"width:20%; border:1px solid black\"><pre align=\"left\">`Как в BlackBox можно вывести данные на консоль?`</pre></td>\n",
       "    <td style=\"width:40%; border:1px solid black\"><pre align=\"left\">В BlackBox (также известном как Ansible) вы можете выводить данные на консоль с помощью различных методов. Вот несколько распространенных способов:\n",
       "\n",
       "1. **Использование `debug` модуля:**\n",
       "   ```yaml\n",
       "   - name: Print message to console\n",
       "    </pre></td>\n",
       "    <td style=\"width:40%; border:1px solid black\"><pre align=\"left\">В BlackBox Component Builder есть несколько способов вывода текста на консоль. Один из них - это процедура StdLog. В частности, можно использовать следующий пример:\n",
       "\n",
       "PROCEDURE Log* (IN s: ARRAY OF CHAR);\n",
       "\tBEGIN\n",
       "\t\tStdLog.String(s);  Std</pre></td>\n",
       "  </tr>\n",
       "  <tr>\n",
       "    <td style=\"width:20%; border:1px solid black\"><pre align=\"left\">`Какой тип данных в Component Pascal используется для хранения целых чисел?`</pre></td>\n",
       "    <td style=\"width:40%; border:1px solid black\"><pre align=\"left\">В Component Pascal используется тип данных `Integer` для хранения целых чисел.<|im_end|></pre></td>\n",
       "    <td style=\"width:40%; border:1px solid black\"><pre align=\"left\">В Component Pascal целые числа представлены типом INTEGER.<|im_end|></pre></td>\n",
       "  </tr>\n",
       "  <tr>\n",
       "    <td style=\"width:20%; border:1px solid black\"><pre align=\"left\">`МОДУЛЬ i21егэDemo2010C4ru;`</pre></td>\n",
       "    <td style=\"width:40%; border:1px solid black\"><pre align=\"left\"> It looks like you've provided a module name in a format that might be specific to a certain programming language or framework. However, without more context, I'm not able to provide a detailed explanation or help with the module.\n",
       "\n",
       "If you're looking for information on a specific module or library, please provide more details about what</pre></td>\n",
       "    <td style=\"width:40%; border:1px solid black\"><pre align=\"left\">Модуль создан для демонстрации возможностей Блэкбокса в учебных целях.<|im_end|></pre></td>\n",
       "  </tr>\n",
       "  <tr>\n",
       "    <td style=\"width:20%; border:1px solid black\"><pre align=\"left\">`Component Pascal is Oberon microsystems refinement of?`</pre></td>\n",
       "    <td style=\"width:40%; border:1px solid black\"><pre align=\"left\">Component Pascal is a programming language developed by Oberon Microsystems as an extension of the Oberon programming language. It was designed to provide a more structured and object-oriented approach to software development, with features such as components, interfaces, and encapsulation.\n",
       "\n",
       "Component Pascal is not a direct refinement of any other programming language, but rather</pre></td>\n",
       "    <td style=\"width:40%; border:1px solid black\"><pre align=\"left\">Component Pascal is an extension of the language Oberon.<|im_end|></pre></td>\n",
       "  </tr>\n",
       "  <tr>\n",
       "    <td style=\"width:20%; border:1px solid black\"><pre align=\"left\">`Log.String(`</pre></td>\n",
       "    <td style=\"width:40%; border:1px solid black\"><pre align=\"left\"> It looks like you're trying to log a string using the `Log` method. However, without more context, it's not clear what specific library or framework you're using. Could you please provide more information about the context in which you're using this method? This will help me give you a more accurate and helpful</pre></td>\n",
       "    <td style=\"width:40%; border:1px solid black\"><pre align=\"left\">Log is the standard log writer used by BlackBox.<|im_end|></pre></td>\n",
       "  </tr>\n",
       "  <tr>\n",
       "    <td style=\"width:20%; border:1px solid black\"><pre align=\"left\">`Типом целой константы является?`</pre></td>\n",
       "    <td style=\"width:40%; border:1px solid black\"><pre align=\"left\">Типом целой константы в большинстве языков программирования является:\n",
       "\n",
       "1. **Целочисленный тип** (например, `int` в C, Java, Python, и т.д.)\n",
       "\n",
       "2. **Беззнаковый целочисленный тип** (например</pre></td>\n",
       "    <td style=\"width:40%; border:1px solid black\"><pre align=\"left\">Типом целой константы является INTEGER.<|im_end|></pre></td>\n",
       "  </tr>\n",
       "</table>"
      ],
      "text/plain": [
       "<IPython.core.display.HTML object>"
      ]
     },
     "metadata": {},
     "output_type": "display_data"
    }
   ],
   "source": [
    "draw_diff(True, 64)"
   ]
  },
  {
   "cell_type": "code",
   "execution_count": null,
   "id": "9f3f53ac-401f-4e1b-8bdb-70eb10b6adbb",
   "metadata": {},
   "outputs": [],
   "source": []
  }
 ],
 "metadata": {
  "kernelspec": {
   "display_name": "Python 3 (ipykernel)",
   "language": "python",
   "name": "python3"
  },
  "language_info": {
   "codemirror_mode": {
    "name": "ipython",
    "version": 3
   },
   "file_extension": ".py",
   "mimetype": "text/x-python",
   "name": "python",
   "nbconvert_exporter": "python",
   "pygments_lexer": "ipython3",
   "version": "3.11.11"
  }
 },
 "nbformat": 4,
 "nbformat_minor": 5
}
