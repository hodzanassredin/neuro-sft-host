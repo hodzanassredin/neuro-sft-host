{
 "cells": [
  {
   "cell_type": "code",
   "execution_count": 1,
   "id": "f4a00af6-417f-4ed9-a8ce-ccd6cb8158ae",
   "metadata": {},
   "outputs": [
    {
     "name": "stdout",
     "output_type": "stream",
     "text": [
      "ClearML Task: created new task id=153a25c889fc4147b801becd4f2a1577\n",
      "2025-03-05 09:38:05,911 - clearml.Task - INFO - Storing jupyter notebook directly as code\n",
      "ClearML results page: https://app.clear.ml/projects/7de6a9063e5c438ba607ed3b01246bf1/experiments/153a25c889fc4147b801becd4f2a1577/output/log\n",
      "ClearML Monitor: Could not detect iteration reporting, falling back to iterations as seconds-from-start\n"
     ]
    }
   ],
   "source": [
    "import os\n",
    "import torch\n",
    "import transformers\n",
    "import peft\n",
    "import datasets\n",
    "import evaluate\n",
    "import time\n",
    "import logging\n",
    "import math\n",
    "import argparse\n",
    "import numpy as np\n",
    "from clearml import Task\n",
    "\n",
    "# Set up logging\n",
    "datasets.logging.set_verbosity_warning()\n",
    "logging.basicConfig(level=logging.WARNING, format='%(asctime)s %(message)s')\n",
    "\n",
    "# Ensure CUDA is available\n",
    "assert torch.cuda.is_available(), \"CUDA is required for this script\"\n",
    "\n",
    "# Set device\n",
    "device = torch.device('cuda:0')\n",
    "task = Task.init(project_name=\"BlackBoxCoder\", task_name=\"Train\")"
   ]
  },
  {
   "cell_type": "code",
   "execution_count": 2,
   "id": "2d809daf-aa7a-48aa-9b63-83b83b28f07c",
   "metadata": {},
   "outputs": [],
   "source": [
    "\n",
    "\n",
    "# Constants\n",
    "BLOCK_SIZE = 512\n",
    "STRIDE = 32\n",
    "\n",
    "def tokenize_with_stride(texts, tokenizer, block_size=BLOCK_SIZE, stride=STRIDE):\n",
    "    tokenized_data = tokenizer(\n",
    "        texts,\n",
    "        max_length=block_size,\n",
    "        truncation=True,\n",
    "        stride=stride,\n",
    "        return_overflowing_tokens=True,\n",
    "        padding=\"max_length\",\n",
    "        return_tensors=\"pt\",\n",
    "        add_special_tokens=False,\n",
    "    )\n",
    "    tokenized_data[\"labels\"] = tokenized_data[\"input_ids\"]\n",
    "    return datasets.Dataset.from_dict(tokenized_data).train_test_split(test_size=0.1, shuffle=False)\n",
    "\n",
    "def load_model_and_tokenizer(model_name, device, bnb_config, peft_config):\n",
    "    tokenizer = transformers.AutoTokenizer.from_pretrained(model_name)\n",
    "    model = transformers.AutoModelForCausalLM.from_pretrained(model_name, device_map=device, quantization_config=bnb_config)\n",
    "    model._hf_peft_config_loaded = True  # silence a warning from HF trainer\n",
    "    model = peft.get_peft_model(model, peft_config)\n",
    "    model.print_trainable_parameters()\n",
    "    return model, tokenizer\n",
    "\n",
    "\n"
   ]
  },
  {
   "cell_type": "code",
   "execution_count": 3,
   "id": "6c880381-de99-484c-b318-fc5bacd63b7d",
   "metadata": {},
   "outputs": [],
   "source": [
    "class AttrDict(dict):\n",
    "    def __init__(self, *args, **kwargs):\n",
    "        super(AttrDict, self).__init__(*args, **kwargs)\n",
    "        self.__dict__ = self\n",
    "args = AttrDict({\n",
    "    \"model_name\" : \"Qwen/Qwen2.5-Coder-3B-Instruct\",\n",
    "    \"dataset_path\" : \"hodza/BlackBox.Shkola.2014\",\n",
    "    \"output_dir\" : \"./out\",\n",
    "    \"epochs\" : 7,\n",
    "    \"models_path\" : \"./models\"\n",
    "})"
   ]
  },
  {
   "cell_type": "code",
   "execution_count": 4,
   "id": "881ed7ef-2a3c-469a-a963-1365dc0b6f07",
   "metadata": {},
   "outputs": [
    {
     "name": "stderr",
     "output_type": "stream",
     "text": [
      "Sliding Window Attention is enabled but not implemented for `sdpa`; unexpected results may be encountered.\n"
     ]
    },
    {
     "data": {
      "application/vnd.jupyter.widget-view+json": {
       "model_id": "f135e369279e480b8fc99021c0640091",
       "version_major": 2,
       "version_minor": 0
      },
      "text/plain": [
       "Loading checkpoint shards:   0%|          | 0/2 [00:00<?, ?it/s]"
      ]
     },
     "metadata": {},
     "output_type": "display_data"
    },
    {
     "name": "stdout",
     "output_type": "stream",
     "text": [
      "trainable params: 29,933,568 || all params: 3,115,872,256 || trainable%: 0.9607\n"
     ]
    }
   ],
   "source": [
    "\n",
    "# Configuration for BitsAndBytes and PEFT\n",
    "bnb_config = transformers.BitsAndBytesConfig(\n",
    "    load_in_4bit=True,\n",
    "    bnb_4bit_quant_type=\"nf4\",\n",
    "    bnb_4bit_use_double_quant=True,\n",
    "    bnb_4bit_compute_dtype=torch.bfloat16\n",
    ")\n",
    "peft_config = peft.LoraConfig(\n",
    "    r=16,\n",
    "    lora_alpha=32,\n",
    "    target_modules=[\n",
    "        \"mlp.down_proj\",\n",
    "        \"self_attn.k_proj\",\n",
    "        \"self_attn.o_proj\",\n",
    "        \"mlp.up_proj\",\n",
    "        \"self_attn.v_proj\",\n",
    "        \"mlp.gate_proj\",\n",
    "        \"self_attn.q_proj\"\n",
    "    ],\n",
    "    lora_dropout=0.1,\n",
    "    bias=\"none\",\n",
    "    task_type=peft.TaskType.CAUSAL_LM\n",
    ")\n",
    "\n",
    "# Load model and tokenizer\n",
    "model, tokenizer = load_model_and_tokenizer(args.model_name, device, bnb_config, peft_config)\n",
    "\n",
    "dataset_name = os.path.basename(args.dataset_path)\n",
    "only_model_name = args.model_name.split(\"/\")[-1].replace(':', \"_\")"
   ]
  },
  {
   "cell_type": "code",
   "execution_count": 5,
   "id": "9aa6b775-8e31-4d87-9a7a-72bff8d5c954",
   "metadata": {},
   "outputs": [],
   "source": [
    "# Prepare dataset\n",
    "dataset = datasets.load_dataset(args.dataset_path)"
   ]
  },
  {
   "cell_type": "code",
   "execution_count": 6,
   "id": "694242e5-12a0-4841-be01-a9b8a7810562",
   "metadata": {},
   "outputs": [],
   "source": [
    "texts = dataset[\"train\"][\"texts\"]\n",
    "\n",
    "lm_datasets = tokenize_with_stride(texts, tokenizer)"
   ]
  },
  {
   "cell_type": "code",
   "execution_count": 7,
   "id": "48a5e26c-8ada-4675-b0f2-8edef3575f65",
   "metadata": {},
   "outputs": [],
   "source": [
    "bleu_metric = evaluate.load(\"bleu\")\n",
    "rouge_metric = evaluate.load(\"rouge\")\n",
    "\n",
    "def preprocess_logits_for_metrics(logits, labels):\n",
    "    if isinstance(logits, tuple):\n",
    "        logits = logits[0]\n",
    "    return logits.argmax(dim=-1)\n",
    "    \n",
    "def compute_metrics(eval_preds):\n",
    "    preds, labels = eval_preds\n",
    "\n",
    "    if isinstance(preds, tuple):\n",
    "        preds = preds[0]\n",
    "\n",
    "    # Replace -100 in the preds as we can't decode them\n",
    "    preds = np.where(preds != -100, preds, tokenizer.pad_token_id)\n",
    "\n",
    "    # Decode generated summaries into text\n",
    "    decoded_preds = tokenizer.batch_decode(preds, skip_special_tokens=True)\n",
    "\n",
    "    # Replace -100 in the labels as we can't decode them\n",
    "    labels = np.where(labels != -100, labels, tokenizer.pad_token_id)\n",
    "    # Decode reference summaries into text\n",
    "    decoded_labels = tokenizer.batch_decode(labels, skip_special_tokens=True)\n",
    "    # ROUGE expects a newline after each sentence\n",
    "    decoded_preds = [\"\\n\".join(pred.strip()) for pred in decoded_preds]\n",
    "\n",
    "    decoded_labels = [\"\\n\".join(label.strip()) for label in decoded_labels]\n",
    "    # Extract the median scores\n",
    "    resultb = bleu_metric.compute(predictions=decoded_preds, references=decoded_labels)\n",
    "    resultr = rouge_metric.compute(predictions=decoded_preds, references=decoded_labels)\n",
    "    f1 = 2 * (resultb[\"bleu\"] * resultr['rougeL']) / (resultb[\"bleu\"] + resultr['rougeL'])\n",
    "    return {\n",
    "        # Bleu measures precision\n",
    "        \"bleu\": resultb[\"bleu\"], \n",
    "        # Rouge measures recall\n",
    "        \"rouge1\": resultr[\"rouge1\"],\n",
    "        \"rouge2\": resultr[\"rouge2\"],\n",
    "        # valuates the match of the longest common subsequences (LCS).\n",
    "        # Suitable for tasks where preserving the order and structure of the text is important.\n",
    "        \"rougeL\": resultr[\"rougeL\"],\n",
    "        \"f1\" : f1}"
   ]
  },
  {
   "cell_type": "code",
   "execution_count": 8,
   "id": "47bdbba7-b2fd-44b4-bb6d-e39c7d52d087",
   "metadata": {},
   "outputs": [
    {
     "name": "stderr",
     "output_type": "stream",
     "text": [
      "No label_names provided for model class `PeftModelForCausalLM`. Since `PeftModel` hides base models input arguments, if label_names is not given, label_names can't be set automatically within `Trainer`. Note that empty label_names list will be used instead.\n"
     ]
    }
   ],
   "source": [
    "# Training arguments\n",
    "timestr = time.strftime(\"%Y%m%d-%H%M%S\")\n",
    "data_collator = transformers.DataCollatorForLanguageModeling(tokenizer=tokenizer, mlm=False)\n",
    "training_args = transformers.TrainingArguments(\n",
    "    output_dir=f\"{args.output_dir}/{dataset_name}_{only_model_name}/{timestr}/\",\n",
    "    eval_strategy=\"epoch\",\n",
    "    save_strategy=\"epoch\",\n",
    "    learning_rate=2e-5,\n",
    "    per_device_train_batch_size=2,\n",
    "    per_device_eval_batch_size=1,\n",
    "    bf16=torch.cuda.get_device_capability(torch.cuda.current_device())[0] >= 8,\n",
    "    gradient_accumulation_steps=4,\n",
    "    num_train_epochs=args.epochs,\n",
    "    weight_decay=0.01, # regularisation\n",
    "    logging_dir='./logs',\n",
    "    logging_steps=32,\n",
    "    warmup_steps=100,\n",
    ")\n",
    "\n",
    "# Trainer\n",
    "trainer = transformers.Trainer(\n",
    "    model=model,\n",
    "    args=training_args,\n",
    "    train_dataset=lm_datasets[\"train\"],\n",
    "    eval_dataset=lm_datasets[\"test\"],\n",
    "    data_collator=data_collator,\n",
    "    compute_metrics=compute_metrics,\n",
    "    preprocess_logits_for_metrics = preprocess_logits_for_metrics,\n",
    ")\n",
    "\n",
    "\n",
    "\n",
    "\n"
   ]
  },
  {
   "cell_type": "code",
   "execution_count": null,
   "id": "2dd5d6d1-26fa-4153-bff5-37218fabb49a",
   "metadata": {},
   "outputs": [
    {
     "name": "stdout",
     "output_type": "stream",
     "text": [
      "2025-03-05 09:38:24,308 - clearml.Task - WARNING - Parameters must be of builtin type (Transformers/accelerator_config[AcceleratorConfig])\n"
     ]
    },
    {
     "data": {
      "text/html": [
       "\n",
       "    <div>\n",
       "      \n",
       "      <progress value='748' max='5222' style='width:300px; height:20px; vertical-align: middle;'></progress>\n",
       "      [ 748/5222 57:59 < 5:47:49, 0.21 it/s, Epoch 1/7]\n",
       "    </div>\n",
       "    <table border=\"1\" class=\"dataframe\">\n",
       "  <thead>\n",
       " <tr style=\"text-align: left;\">\n",
       "      <th>Epoch</th>\n",
       "      <th>Training Loss</th>\n",
       "      <th>Validation Loss</th>\n",
       "    </tr>\n",
       "  </thead>\n",
       "  <tbody>\n",
       "  </tbody>\n",
       "</table><p>\n",
       "    <div>\n",
       "      \n",
       "      <progress value='664' max='664' style='width:300px; height:20px; vertical-align: middle;'></progress>\n",
       "      [664/664 03:41]\n",
       "    </div>\n",
       "    "
      ],
      "text/plain": [
       "<IPython.core.display.HTML object>"
      ]
     },
     "metadata": {},
     "output_type": "display_data"
    }
   ],
   "source": [
    "# Train the model\n",
    "trainer.train()"
   ]
  },
  {
   "cell_type": "code",
   "execution_count": null,
   "id": "a06602c8-a931-4284-98df-7e191ae06c86",
   "metadata": {},
   "outputs": [],
   "source": [
    "# Evaluate the model\n",
    "eval_results = trainer.evaluate()\n",
    "print(f\"Perplexity: {math.exp(eval_results['eval_loss']):.2f}\")"
   ]
  },
  {
   "cell_type": "code",
   "execution_count": null,
   "id": "d7089482-2668-4415-a020-2e7880cfa41a",
   "metadata": {},
   "outputs": [],
   "source": [
    "eval_results"
   ]
  },
  {
   "cell_type": "code",
   "execution_count": null,
   "id": "93ff061e-d5fd-4f01-97e8-a3d912a3571e",
   "metadata": {},
   "outputs": [],
   "source": [
    "final_path = os.path.join(args.models_path, f\"{dataset_name}_{only_model_name}_{timestr}\")\n",
    "# Save the model\n",
    "model.save_pretrained(final_path)\n",
    "tokenizer.save_pretrained(final_path)"
   ]
  }
 ],
 "metadata": {
  "kernelspec": {
   "display_name": "Python 3 (ipykernel)",
   "language": "python",
   "name": "python3"
  },
  "language_info": {
   "codemirror_mode": {
    "name": "ipython",
    "version": 3
   },
   "file_extension": ".py",
   "mimetype": "text/x-python",
   "name": "python",
   "nbconvert_exporter": "python",
   "pygments_lexer": "ipython3",
   "version": "3.11.11"
  }
 },
 "nbformat": 4,
 "nbformat_minor": 5
}
