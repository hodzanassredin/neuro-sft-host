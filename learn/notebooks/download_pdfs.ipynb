{
 "cells": [
  {
   "cell_type": "code",
   "execution_count": 16,
   "id": "beabd325-3f8c-4cd9-a8c3-74e6ffef4487",
   "metadata": {},
   "outputs": [
    {
     "name": "stdout",
     "output_type": "stream",
     "text": [
      "Collecting wget\n",
      "  Downloading wget-3.2.zip (10 kB)\n",
      "  Preparing metadata (setup.py) ... \u001b[?25ldone\n",
      "\u001b[?25hBuilding wheels for collected packages: wget\n",
      "  Building wheel for wget (setup.py) ... \u001b[?25ldone\n",
      "\u001b[?25h  Created wheel for wget: filename=wget-3.2-py3-none-any.whl size=9656 sha256=a8246263614319fe664287332cfa866ca011eb77174759d9ef61a93227b15a10\n",
      "  Stored in directory: /root/.cache/pip/wheels/01/46/3b/e29ffbe4ebe614ff224bad40fc6a5773a67a163251585a13a9\n",
      "Successfully built wget\n",
      "Installing collected packages: wget\n",
      "Successfully installed wget-3.2\n",
      "\u001b[33mWARNING: Running pip as the 'root' user can result in broken permissions and conflicting behaviour with the system package manager, possibly rendering your system unusable.It is recommended to use a virtual environment instead: https://pip.pypa.io/warnings/venv. Use the --root-user-action option if you know what you are doing and want to suppress this warning.\u001b[0m\u001b[33m\n",
      "\u001b[0m\n",
      "\u001b[1m[\u001b[0m\u001b[34;49mnotice\u001b[0m\u001b[1;39;49m]\u001b[0m\u001b[39;49m A new release of pip is available: \u001b[0m\u001b[31;49m24.3.1\u001b[0m\u001b[39;49m -> \u001b[0m\u001b[32;49m25.0\u001b[0m\n",
      "\u001b[1m[\u001b[0m\u001b[34;49mnotice\u001b[0m\u001b[1;39;49m]\u001b[0m\u001b[39;49m To update, run: \u001b[0m\u001b[32;49mpip install --upgrade pip\u001b[0m\n"
     ]
    }
   ],
   "source": [
    "!pip install wget"
   ]
  },
  {
   "cell_type": "code",
   "execution_count": 18,
   "id": "111ecb1b-5434-4a49-ac32-8fc5d70fb1fd",
   "metadata": {},
   "outputs": [],
   "source": [
    "import os\n",
    "import requests\n",
    "import wget\n",
    "from bs4 import BeautifulSoup\n",
    "import urllib.request\n",
    "\n",
    "def extract_links(url):\n",
    "    # Отправляем HTTP-запрос к указанному URL\n",
    "    response = requests.get(url, verify=False)\n",
    "\n",
    "    # Проверяем, что запрос был успешным\n",
    "    if response.status_code == 200:\n",
    "        # Парсим содержимое страницы с помощью BeautifulSoup\n",
    "        soup = BeautifulSoup(response.content, 'html.parser')\n",
    "\n",
    "        # Находим все теги <a>\n",
    "        links = soup.find_all('a')\n",
    "\n",
    "        # Извлекаем ссылки, которые ведут на PDF-файлы\n",
    "        links = [link.get('href') for link in links if link.get('href') and link.get('href')]\n",
    "\n",
    "        return links\n",
    "    else:\n",
    "        print(f\"Не удалось получить доступ к странице. Код состояния: {response.status_code}\")\n",
    "        return []\n",
    "\n",
    "\n",
    "def only_pdf_links(links):\n",
    "    return [l for l in links if l.endswith('.pdf')]\n",
    "\n",
    "def download_links(pdf_links):\n",
    "    # Загружаем и сохраняем все PDF-файлы\n",
    "    for link in pdf_links:\n",
    "        # Проверяем, что ссылка является полным URL\n",
    "        try:\n",
    "            wget.download(link, out=folder)\n",
    "            print(f'downloaded {link}')\n",
    "        except:\n",
    "            print(f'cant download {link}')"
   ]
  },
  {
   "cell_type": "code",
   "execution_count": 3,
   "id": "4d90aca2-b932-404f-924c-e39521bd09cd",
   "metadata": {},
   "outputs": [
    {
     "name": "stderr",
     "output_type": "stream",
     "text": [
      "/opt/conda/lib/python3.12/site-packages/urllib3/connectionpool.py:1099: InsecureRequestWarning: Unverified HTTPS request is being made to host 'en.wikibooks.org'. Adding certificate verification is strongly advised. See: https://urllib3.readthedocs.io/en/latest/advanced-usage.html#tls-warnings\n",
      "  warnings.warn(\n"
     ]
    }
   ],
   "source": []
  },
  {
   "cell_type": "code",
   "execution_count": 8,
   "id": "0e704977-5f09-4a86-8a19-b1729b8c16bf",
   "metadata": {},
   "outputs": [],
   "source": [
    "\n",
    "\n",
    "# Папка для сохранения PDF-файлов\n",
    "folder = 'pdf_files'\n",
    "# Создаем папку, если она не существует\n",
    "if not os.path.exists(folder):\n",
    "    os.makedirs(folder)\n",
    "\n",
    "\n"
   ]
  },
  {
   "cell_type": "code",
   "execution_count": null,
   "id": "a1737e39-3e6c-48f9-9a48-05702c452eab",
   "metadata": {},
   "outputs": [],
   "source": [
    "# Пример использования функции\n",
    "url = 'https://en.wikibooks.org/wiki/Oberon/Bibliography'\n",
    "pdf_links = only_pdf_links(extract_links(url))\n",
    "download_links(pdf_links)"
   ]
  },
  {
   "cell_type": "code",
   "execution_count": null,
   "id": "b8b23a61-1a73-4bfc-8418-6ad96d7ed607",
   "metadata": {},
   "outputs": [],
   "source": [
    "download_pdf('ftp://ftp.inf.ethz.ch/doc/tech-reports/2xx/203.pdf', '203.pdf')"
   ]
  },
  {
   "cell_type": "code",
   "execution_count": 15,
   "id": "41f84955-d37d-4bce-abb2-1c4ed7e51fa2",
   "metadata": {},
   "outputs": [
    {
     "name": "stderr",
     "output_type": "stream",
     "text": [
      "/opt/conda/lib/python3.12/site-packages/urllib3/connectionpool.py:1099: InsecureRequestWarning: Unverified HTTPS request is being made to host 'oberoncore.ru'. Adding certificate verification is strongly advised. See: https://urllib3.readthedocs.io/en/latest/advanced-usage.html#tls-warnings\n",
      "  warnings.warn(\n"
     ]
    }
   ],
   "source": [
    "start = 'https://oberoncore.ru/library/start'\n",
    "page_links = extract_links(start)\n",
    "pages = ['https://oberoncore.ru' + l for l in page_links if l.startswith('/library/')]"
   ]
  },
  {
   "cell_type": "code",
   "execution_count": 20,
   "id": "a718fc4d-087b-466f-906b-b956052ab91c",
   "metadata": {},
   "outputs": [
    {
     "name": "stdout",
     "output_type": "stream",
     "text": [
      "proccessing https://oberoncore.ru/library/\n"
     ]
    },
    {
     "name": "stderr",
     "output_type": "stream",
     "text": [
      "/opt/conda/lib/python3.12/site-packages/urllib3/connectionpool.py:1099: InsecureRequestWarning: Unverified HTTPS request is being made to host 'oberoncore.ru'. Adding certificate verification is strongly advised. See: https://urllib3.readthedocs.io/en/latest/advanced-usage.html#tls-warnings\n",
      "  warnings.warn(\n",
      "/opt/conda/lib/python3.12/site-packages/urllib3/connectionpool.py:1099: InsecureRequestWarning: Unverified HTTPS request is being made to host 'oberoncore.ru'. Adding certificate verification is strongly advised. See: https://urllib3.readthedocs.io/en/latest/advanced-usage.html#tls-warnings\n",
      "  warnings.warn(\n"
     ]
    },
    {
     "name": "stdout",
     "output_type": "stream",
     "text": [
      "downloaded https://oberoncore.ru/_media/library/rybin.pdf\n",
      "downloaded https://oberoncore.ru/_media/library/dijkstra.pdf\n",
      "downloaded https://oberoncore.ru/_media/library/ae1983.pdf\n",
      "downloaded https://oberoncore.ru/_media/library/designideas.pdf\n",
      "downloaded https://oberoncore.ru/_media/library/oberontech.pdf\n",
      "downloaded https://oberoncore.ru/_media/library/pvm1982r.pdf\n",
      "downloaded https://oberoncore.ru/_media/library/pvm1989r.pdf\n",
      "downloaded https://oberoncore.ru/_media/library/svo1989r.pdf\n",
      "proccessing https://oberoncore.ru/library/wirth_gutknecht_project_oberon_the_design_of_an_operating_system_and_compiler\n"
     ]
    },
    {
     "name": "stderr",
     "output_type": "stream",
     "text": [
      "/opt/conda/lib/python3.12/site-packages/urllib3/connectionpool.py:1099: InsecureRequestWarning: Unverified HTTPS request is being made to host 'oberoncore.ru'. Adding certificate verification is strongly advised. See: https://urllib3.readthedocs.io/en/latest/advanced-usage.html#tls-warnings\n",
      "  warnings.warn(\n"
     ]
    },
    {
     "name": "stdout",
     "output_type": "stream",
     "text": [
      "cant download https://oberoncore.ruhttp://www.inf.ethz.ch/personal/wirth/ProjectOberon/PO.System.pdf\n",
      "downloaded https://oberoncore.ru/_media/library/wirth_gutknecht_project_oberon_system.pdf\n",
      "cant download https://oberoncore.ruhttp://www.inf.ethz.ch/personal/wirth/ProjectOberon/PO.Applications.pdf\n",
      "downloaded https://oberoncore.ru/_media/library/wirth_gutknecht_project_oberon_applications.pdf\n",
      "cant download https://oberoncore.ruhttp://www.inf.ethz.ch/personal/wirth/ProjectOberon/PO.Computer.pdf\n",
      "downloaded https://oberoncore.ru/_media/library/wirth_gutknecht_project_oberon_computer.pdf\n",
      "cant download https://oberoncore.ruhttp://www.ethoberon.ethz.ch/WirthPubl/ProjectOberon.pdf\n",
      "downloaded https://oberoncore.ru/_media/library/wirth_gutknecht_project_oberon.pdf\n",
      "cant download https://oberoncore.ruhttp://www.inf.ethz.ch/personal/wirth/ProjectOberon1992.pdf\n",
      "cant download https://oberoncore.ruhttp://oberon2005.oberoncore.ru/paper/scratch.pdf\n",
      "proccessing https://oberoncore.ru/library/wirth_experiments_in_computer_system_design\n",
      "cant download https://oberoncore.ruhttp://e-collection.library.ethz.ch/eserv/eth:5112/eth-5112-01.pdf\n"
     ]
    },
    {
     "name": "stderr",
     "output_type": "stream",
     "text": [
      "/opt/conda/lib/python3.12/site-packages/urllib3/connectionpool.py:1099: InsecureRequestWarning: Unverified HTTPS request is being made to host 'oberoncore.ru'. Adding certificate verification is strongly advised. See: https://urllib3.readthedocs.io/en/latest/advanced-usage.html#tls-warnings\n",
      "  warnings.warn(\n"
     ]
    },
    {
     "name": "stdout",
     "output_type": "stream",
     "text": [
      "downloaded https://oberoncore.ru/_media/library/computersystemdesign.pdf\n",
      "cant download https://oberoncore.ruhttp://www.inf.ethz.ch/personal/wirth/FPGA-relatedWork/ComputerSystemDesign.pdf\n",
      "proccessing https://oberoncore.ru/library/wirth_the_design_of_a_risc_architecture_and_its_implementation_with_an_fpga\n",
      "cant download https://oberoncore.ruhttp://www.inf.ethz.ch/personal/wirth/FPGA-relatedWork/RISC.pdf\n"
     ]
    },
    {
     "name": "stderr",
     "output_type": "stream",
     "text": [
      "/opt/conda/lib/python3.12/site-packages/urllib3/connectionpool.py:1099: InsecureRequestWarning: Unverified HTTPS request is being made to host 'oberoncore.ru'. Adding certificate verification is strongly advised. See: https://urllib3.readthedocs.io/en/latest/advanced-usage.html#tls-warnings\n",
      "  warnings.warn(\n"
     ]
    },
    {
     "name": "stdout",
     "output_type": "stream",
     "text": [
      "downloaded https://oberoncore.ru/_media/library/wirth_the_design_of_a_risc_architecture_and_its_implementation_with_an_fpga.pdf\n",
      "proccessing https://oberoncore.ru/library/wirth_recollections_about_the_development_of_pascal\n"
     ]
    },
    {
     "name": "stderr",
     "output_type": "stream",
     "text": [
      "/opt/conda/lib/python3.12/site-packages/urllib3/connectionpool.py:1099: InsecureRequestWarning: Unverified HTTPS request is being made to host 'oberoncore.ru'. Adding certificate verification is strongly advised. See: https://urllib3.readthedocs.io/en/latest/advanced-usage.html#tls-warnings\n",
      "  warnings.warn(\n"
     ]
    },
    {
     "name": "stdout",
     "output_type": "stream",
     "text": [
      "downloaded https://oberoncore.ru/_media/library/n._wirth_-_recollections_about_the_development_of_pascal_hopl_ii_.pdf\n",
      "proccessing https://oberoncore.ru/library/wirth_modula-2_and_oberon\n"
     ]
    },
    {
     "name": "stderr",
     "output_type": "stream",
     "text": [
      "/opt/conda/lib/python3.12/site-packages/urllib3/connectionpool.py:1099: InsecureRequestWarning: Unverified HTTPS request is being made to host 'oberoncore.ru'. Adding certificate verification is strongly advised. See: https://urllib3.readthedocs.io/en/latest/advanced-usage.html#tls-warnings\n",
      "  warnings.warn(\n"
     ]
    },
    {
     "name": "stdout",
     "output_type": "stream",
     "text": [
      "cant download https://oberoncore.ruhttp://www.inf.ethz.ch/personal/wirth/Articles/Modula-Oberon-June.pdf\n",
      "downloaded https://oberoncore.ru/_media/library/wirth_modula-oberon-june.pdf\n",
      "downloaded https://oberoncore.ru/_media/library/n._wirth_-_modula-2_and_oberon_hopl_iii_.pdf\n",
      "proccessing https://oberoncore.ru/library/wirth_sets\n"
     ]
    },
    {
     "name": "stderr",
     "output_type": "stream",
     "text": [
      "/opt/conda/lib/python3.12/site-packages/urllib3/connectionpool.py:1099: InsecureRequestWarning: Unverified HTTPS request is being made to host 'oberoncore.ru'. Adding certificate verification is strongly advised. See: https://urllib3.readthedocs.io/en/latest/advanced-usage.html#tls-warnings\n",
      "  warnings.warn(\n"
     ]
    },
    {
     "name": "stdout",
     "output_type": "stream",
     "text": [
      "cant download https://oberoncore.ruhttp://www.inf.ethz.ch/personal/wirth/Oberon/SETs.pdf\n",
      "downloaded https://oberoncore.ru/_media/library/wirth_sets.pdf\n",
      "proccessing https://oberoncore.ru/library/reiser_the_oberon_system_user_guide_and_programmers_manual\n"
     ]
    },
    {
     "name": "stderr",
     "output_type": "stream",
     "text": [
      "/opt/conda/lib/python3.12/site-packages/urllib3/connectionpool.py:1099: InsecureRequestWarning: Unverified HTTPS request is being made to host 'oberoncore.ru'. Adding certificate verification is strongly advised. See: https://urllib3.readthedocs.io/en/latest/advanced-usage.html#tls-warnings\n",
      "  warnings.warn(\n"
     ]
    },
    {
     "name": "stdout",
     "output_type": "stream",
     "text": [
      "downloaded https://oberoncore.ru/_media/library/mros1991.pdf\n",
      "proccessing https://oberoncore.ru/library/op2_a_portable_oberon_2_compiler\n"
     ]
    },
    {
     "name": "stderr",
     "output_type": "stream",
     "text": [
      "/opt/conda/lib/python3.12/site-packages/urllib3/connectionpool.py:1099: InsecureRequestWarning: Unverified HTTPS request is being made to host 'oberoncore.ru'. Adding certificate verification is strongly advised. See: https://urllib3.readthedocs.io/en/latest/advanced-usage.html#tls-warnings\n",
      "  warnings.warn(\n"
     ]
    },
    {
     "name": "stdout",
     "output_type": "stream",
     "text": [
      "downloaded https://oberoncore.ru/_media/library/crelier_r.op2_a_portable_oberon_2_compiler.en.pdf\n",
      "cant download https://oberoncore.ruftp://ftp.inf.ethz.ch/pub/publications/tech-reports/1xx/125.pdf\n",
      "downloaded https://oberoncore.ru/_media/library/crelier_r.eth_technical_report_125.pdf\n",
      "proccessing https://oberoncore.ru/library/the_oakwood_guidelines_for_oberon-2_compiler_developers\n"
     ]
    },
    {
     "name": "stderr",
     "output_type": "stream",
     "text": [
      "/opt/conda/lib/python3.12/site-packages/urllib3/connectionpool.py:1099: InsecureRequestWarning: Unverified HTTPS request is being made to host 'oberoncore.ru'. Adding certificate verification is strongly advised. See: https://urllib3.readthedocs.io/en/latest/advanced-usage.html#tls-warnings\n",
      "  warnings.warn(\n"
     ]
    },
    {
     "name": "stdout",
     "output_type": "stream",
     "text": [
      "downloaded https://oberoncore.ru/_media/library/the_oakwood_guidelines_for_oberon-2_compiler_developers.pdf\n",
      "proccessing https://oberoncore.ru/library/code-generation_on-the-fly_a_key_to_portable_software\n"
     ]
    },
    {
     "name": "stderr",
     "output_type": "stream",
     "text": [
      "/opt/conda/lib/python3.12/site-packages/urllib3/connectionpool.py:1099: InsecureRequestWarning: Unverified HTTPS request is being made to host 'oberoncore.ru'. Adding certificate verification is strongly advised. See: https://urllib3.readthedocs.io/en/latest/advanced-usage.html#tls-warnings\n",
      "  warnings.warn(\n"
     ]
    },
    {
     "name": "stdout",
     "output_type": "stream",
     "text": [
      "downloaded https://oberoncore.ru/_media/library/franz_m.code-generation_on-the-fly_a_key_to_portable_software.en.pdf\n",
      "cant download https://oberoncore.ruhttp://oberon2005.oberoncore.ru/paper/obe_java3.pdf\n",
      "proccessing https://oberoncore.ru/library/gutknecht_franz_oberon_with_gadgets_a_simple_component_framework\n"
     ]
    },
    {
     "name": "stderr",
     "output_type": "stream",
     "text": [
      "/opt/conda/lib/python3.12/site-packages/urllib3/connectionpool.py:1099: InsecureRequestWarning: Unverified HTTPS request is being made to host 'oberoncore.ru'. Adding certificate verification is strongly advised. See: https://urllib3.readthedocs.io/en/latest/advanced-usage.html#tls-warnings\n",
      "  warnings.warn(\n"
     ]
    },
    {
     "name": "stdout",
     "output_type": "stream",
     "text": [
      "cant download https://oberoncore.ruhttp://www.ics.uci.edu/~franz/Site/pubs-pdf/BC02.pdf\n",
      "downloaded https://oberoncore.ru/_media/library/gutknecht_franz_oberon_with_gadgets_a_simple_component_framework.pdf\n",
      "cant download https://oberoncore.ruhttp://maxandreev.narod.ru/oberon/OberonWithGadgets_RUS.pdf\n",
      "downloaded https://oberoncore.ru/_media/library/gutknecht_franz_oberon_with_gadgets_a_simple_component_framework.ru.pdf\n",
      "proccessing https://oberoncore.ru/library/szypreski_insight-ethos_on_object-orientation_in_operating_systems\n"
     ]
    },
    {
     "name": "stderr",
     "output_type": "stream",
     "text": [
      "/opt/conda/lib/python3.12/site-packages/urllib3/connectionpool.py:1099: InsecureRequestWarning: Unverified HTTPS request is being made to host 'oberoncore.ru'. Adding certificate verification is strongly advised. See: https://urllib3.readthedocs.io/en/latest/advanced-usage.html#tls-warnings\n",
      "  warnings.warn(\n"
     ]
    },
    {
     "name": "stdout",
     "output_type": "stream",
     "text": [
      "cant download https://oberoncore.ruhttp://e-collection.library.ethz.ch/eserv/eth:38713/eth-38713-02.pdf\n",
      "downloaded https://oberoncore.ru/_media/library/szypreski_insight-ethos_on_object-orientation_in_operating_systems.pdf\n",
      "proccessing https://oberoncore.ru/library/szypreski_component_software_beyond_object-oriented_programming\n"
     ]
    },
    {
     "name": "stderr",
     "output_type": "stream",
     "text": [
      "/opt/conda/lib/python3.12/site-packages/urllib3/connectionpool.py:1099: InsecureRequestWarning: Unverified HTTPS request is being made to host 'oberoncore.ru'. Adding certificate verification is strongly advised. See: https://urllib3.readthedocs.io/en/latest/advanced-usage.html#tls-warnings\n",
      "  warnings.warn(\n",
      "/opt/conda/lib/python3.12/site-packages/urllib3/connectionpool.py:1099: InsecureRequestWarning: Unverified HTTPS request is being made to host 'oberoncore.ru'. Adding certificate verification is strongly advised. See: https://urllib3.readthedocs.io/en/latest/advanced-usage.html#tls-warnings\n",
      "  warnings.warn(\n"
     ]
    },
    {
     "name": "stdout",
     "output_type": "stream",
     "text": [
      "proccessing https://oberoncore.ru/library/leigh_make_way_for_oberon-f\n",
      "proccessing https://oberoncore.ru/library/component_soft\n"
     ]
    },
    {
     "name": "stderr",
     "output_type": "stream",
     "text": [
      "/opt/conda/lib/python3.12/site-packages/urllib3/connectionpool.py:1099: InsecureRequestWarning: Unverified HTTPS request is being made to host 'oberoncore.ru'. Adding certificate verification is strongly advised. See: https://urllib3.readthedocs.io/en/latest/advanced-usage.html#tls-warnings\n",
      "  warnings.warn(\n"
     ]
    },
    {
     "name": "stdout",
     "output_type": "stream",
     "text": [
      "downloaded https://oberoncore.ru/_media/library/c_pfister_component_software.pdf\n",
      "proccessing https://oberoncore.ru/library/templ_a_systematic_approach_to_multiple_inheritance_implementation\n"
     ]
    },
    {
     "name": "stderr",
     "output_type": "stream",
     "text": [
      "/opt/conda/lib/python3.12/site-packages/urllib3/connectionpool.py:1099: InsecureRequestWarning: Unverified HTTPS request is being made to host 'oberoncore.ru'. Adding certificate verification is strongly advised. See: https://urllib3.readthedocs.io/en/latest/advanced-usage.html#tls-warnings\n",
      "  warnings.warn(\n"
     ]
    },
    {
     "name": "stdout",
     "output_type": "stream",
     "text": [
      "downloaded https://oberoncore.ru/_media/library/templ_a_systematic_approach_to_multiple_inheritance_implementation.pdf\n",
      "proccessing https://oberoncore.ru/library/templ_metaprogramming_in_oberon\n"
     ]
    },
    {
     "name": "stderr",
     "output_type": "stream",
     "text": [
      "/opt/conda/lib/python3.12/site-packages/urllib3/connectionpool.py:1099: InsecureRequestWarning: Unverified HTTPS request is being made to host 'oberoncore.ru'. Adding certificate verification is strongly advised. See: https://urllib3.readthedocs.io/en/latest/advanced-usage.html#tls-warnings\n",
      "  warnings.warn(\n"
     ]
    },
    {
     "name": "stdout",
     "output_type": "stream",
     "text": [
      "cant download https://oberoncore.ruhttp://www.software-templ.com/papers/Diss_Josef_Templ_ETH_No_10655.pdf\n",
      "downloaded https://oberoncore.ru/_media/library/templ_metaprogramming_in_oberon.pdf\n",
      "proccessing https://oberoncore.ru/library/templ_fff97\n"
     ]
    },
    {
     "name": "stderr",
     "output_type": "stream",
     "text": [
      "/opt/conda/lib/python3.12/site-packages/urllib3/connectionpool.py:1099: InsecureRequestWarning: Unverified HTTPS request is being made to host 'oberoncore.ru'. Adding certificate verification is strongly advised. See: https://urllib3.readthedocs.io/en/latest/advanced-usage.html#tls-warnings\n",
      "  warnings.warn(\n"
     ]
    },
    {
     "name": "stdout",
     "output_type": "stream",
     "text": [
      "cant download https://oberoncore.ruhttp://www.software-templ.com/papers/fff97.pdf\n",
      "downloaded https://oberoncore.ru/_media/library/templ_fff97.pdf\n",
      "proccessing https://oberoncore.ru/library/mossenbock_coco_r-a_generator_for_fast_compiler_front-ends\n",
      "proccessing https://oberoncore.ru/library/mossenbock_twin_a_design_pattern_for_modeling_multiple_inheritance\n"
     ]
    },
    {
     "name": "stderr",
     "output_type": "stream",
     "text": [
      "/opt/conda/lib/python3.12/site-packages/urllib3/connectionpool.py:1099: InsecureRequestWarning: Unverified HTTPS request is being made to host 'oberoncore.ru'. Adding certificate verification is strongly advised. See: https://urllib3.readthedocs.io/en/latest/advanced-usage.html#tls-warnings\n",
      "  warnings.warn(\n",
      "/opt/conda/lib/python3.12/site-packages/urllib3/connectionpool.py:1099: InsecureRequestWarning: Unverified HTTPS request is being made to host 'oberoncore.ru'. Adding certificate verification is strongly advised. See: https://urllib3.readthedocs.io/en/latest/advanced-usage.html#tls-warnings\n",
      "  warnings.warn(\n"
     ]
    },
    {
     "name": "stdout",
     "output_type": "stream",
     "text": [
      "downloaded https://oberoncore.ru/_media/library/moessenboeck_twin_a_design_pattern_for_modeling_multiple_inheritance.pdf\n",
      "proccessing https://oberoncore.ru/library/mossenbock_object-oriented_programming_in_oberon-2\n",
      "cant download https://oberoncore.ruhttp://ssw.jku.at/Research/Books/Oberon2.pdf\n"
     ]
    },
    {
     "name": "stderr",
     "output_type": "stream",
     "text": [
      "/opt/conda/lib/python3.12/site-packages/urllib3/connectionpool.py:1099: InsecureRequestWarning: Unverified HTTPS request is being made to host 'oberoncore.ru'. Adding certificate verification is strongly advised. See: https://urllib3.readthedocs.io/en/latest/advanced-usage.html#tls-warnings\n",
      "  warnings.warn(\n"
     ]
    },
    {
     "name": "stdout",
     "output_type": "stream",
     "text": [
      "cant download https://oberoncore.ruhttp://ssw.jku.at/Research/Books/DesignPatterns.pdf\n",
      "downloaded https://oberoncore.ru/_media/library/design_patterns_in_oberon-2_and_component_pascal_c9_ru.pdf\n",
      "proccessing https://oberoncore.ru/library/metzeler_amadeus-an_object_oriented_framework_for_oberon-2\n"
     ]
    },
    {
     "name": "stderr",
     "output_type": "stream",
     "text": [
      "/opt/conda/lib/python3.12/site-packages/urllib3/connectionpool.py:1099: InsecureRequestWarning: Unverified HTTPS request is being made to host 'oberoncore.ru'. Adding certificate verification is strongly advised. See: https://urllib3.readthedocs.io/en/latest/advanced-usage.html#tls-warnings\n",
      "  warnings.warn(\n"
     ]
    },
    {
     "name": "stdout",
     "output_type": "stream",
     "text": [
      "downloaded https://oberoncore.ru/_media/library/amadeus-3.pdf\n",
      "proccessing https://oberoncore.ru/library/kaegi-trachsel_gutknecht_minos\n"
     ]
    },
    {
     "name": "stderr",
     "output_type": "stream",
     "text": [
      "/opt/conda/lib/python3.12/site-packages/urllib3/connectionpool.py:1099: InsecureRequestWarning: Unverified HTTPS request is being made to host 'oberoncore.ru'. Adding certificate verification is strongly advised. See: https://urllib3.readthedocs.io/en/latest/advanced-usage.html#tls-warnings\n",
      "  warnings.warn(\n"
     ]
    },
    {
     "name": "stdout",
     "output_type": "stream",
     "text": [
      "cant download https://oberoncore.ruhttp://www.proceedings2008.imcsit.org/pliks/85.pdf\n",
      "downloaded https://oberoncore.ru/_media/library/kaegi-trachsel_gutknecht_minos.pdf\n",
      "proccessing https://oberoncore.ru/library/algorithms_and_data_structures\n"
     ]
    },
    {
     "name": "stderr",
     "output_type": "stream",
     "text": [
      "/opt/conda/lib/python3.12/site-packages/urllib3/connectionpool.py:1099: InsecureRequestWarning: Unverified HTTPS request is being made to host 'oberoncore.ru'. Adding certificate verification is strongly advised. See: https://urllib3.readthedocs.io/en/latest/advanced-usage.html#tls-warnings\n",
      "  warnings.warn(\n"
     ]
    },
    {
     "name": "stdout",
     "output_type": "stream",
     "text": [
      "cant download https://oberoncore.ruhttp://www.inr.ac.ru/~info21/ADen/AD2012.pdf\n",
      "downloaded https://oberoncore.ru/_media/library/wirth.algorithms_and_data_structures.en.pdf\n",
      "proccessing https://oberoncore.ru/library/compiler_construction\n",
      "cant download https://oberoncore.ruhttps://www.inf.ethz.ch/personal/wirth/CompilerConstruction/CompilerConstruction1.pdf\n"
     ]
    },
    {
     "name": "stderr",
     "output_type": "stream",
     "text": [
      "/opt/conda/lib/python3.12/site-packages/urllib3/connectionpool.py:1099: InsecureRequestWarning: Unverified HTTPS request is being made to host 'oberoncore.ru'. Adding certificate verification is strongly advised. See: https://urllib3.readthedocs.io/en/latest/advanced-usage.html#tls-warnings\n",
      "  warnings.warn(\n"
     ]
    },
    {
     "name": "stdout",
     "output_type": "stream",
     "text": [
      "downloaded https://oberoncore.ru/_media/library/wirth.compiler_construction_1-8.en.pdf\n",
      "cant download https://oberoncore.ruhttps://www.inf.ethz.ch/personal/wirth/CompilerConstruction/CompilerConstruction2.pdf\n",
      "downloaded https://oberoncore.ru/_media/library/wirth.compiler_construction_9-16.en.pdf\n",
      "proccessing https://oberoncore.ru/library/systematic_programming\n"
     ]
    },
    {
     "name": "stderr",
     "output_type": "stream",
     "text": [
      "/opt/conda/lib/python3.12/site-packages/urllib3/connectionpool.py:1099: InsecureRequestWarning: Unverified HTTPS request is being made to host 'oberoncore.ru'. Adding certificate verification is strongly advised. See: https://urllib3.readthedocs.io/en/latest/advanced-usage.html#tls-warnings\n",
      "  warnings.warn(\n"
     ]
    },
    {
     "name": "stdout",
     "output_type": "stream",
     "text": [
      "downloaded https://oberoncore.ru/_media/library/wirth_n.sistematicheskoe_programmirovanie._vvedenie.ru.pdf\n",
      "proccessing https://oberoncore.ru/library/wirth_programming_in_oberon\n"
     ]
    },
    {
     "name": "stderr",
     "output_type": "stream",
     "text": [
      "/opt/conda/lib/python3.12/site-packages/urllib3/connectionpool.py:1099: InsecureRequestWarning: Unverified HTTPS request is being made to host 'oberoncore.ru'. Adding certificate verification is strongly advised. See: https://urllib3.readthedocs.io/en/latest/advanced-usage.html#tls-warnings\n",
      "  warnings.warn(\n"
     ]
    },
    {
     "name": "stdout",
     "output_type": "stream",
     "text": [
      "cant download https://oberoncore.ruhttp://www.inf.ethz.ch/personal/wirth/Oberon/PIO.pdf\n",
      "downloaded https://oberoncore.ru/_media/library/wirth_programming_in_oberon_tutorial.pdf\n",
      "cant download https://oberoncore.ruhttp://www.inf.ethz.ch/personal/wirth/ProgInOberon.pdf\n",
      "downloaded https://oberoncore.ru/_media/library/wirth_programming_in_oberon.pdf\n",
      "proccessing https://oberoncore.ru/library/sovremennoe_programmirovanie_s_nulya\n",
      "proccessing https://oberoncore.ru/library/iskusstvo_algoritmizacii\n"
     ]
    },
    {
     "name": "stderr",
     "output_type": "stream",
     "text": [
      "/opt/conda/lib/python3.12/site-packages/urllib3/connectionpool.py:1099: InsecureRequestWarning: Unverified HTTPS request is being made to host 'oberoncore.ru'. Adding certificate verification is strongly advised. See: https://urllib3.readthedocs.io/en/latest/advanced-usage.html#tls-warnings\n",
      "  warnings.warn(\n",
      "/opt/conda/lib/python3.12/site-packages/urllib3/connectionpool.py:1099: InsecureRequestWarning: Unverified HTTPS request is being made to host 'oberoncore.ru'. Adding certificate verification is strongly advised. See: https://urllib3.readthedocs.io/en/latest/advanced-usage.html#tls-warnings\n",
      "  warnings.warn(\n"
     ]
    },
    {
     "name": "stdout",
     "output_type": "stream",
     "text": [
      "proccessing https://oberoncore.ru/library/hallett_developing_programs_with_blackbox_oberon\n"
     ]
    },
    {
     "name": "stderr",
     "output_type": "stream",
     "text": [
      "/opt/conda/lib/python3.12/site-packages/urllib3/connectionpool.py:1099: InsecureRequestWarning: Unverified HTTPS request is being made to host 'oberoncore.ru'. Adding certificate verification is strongly advised. See: https://urllib3.readthedocs.io/en/latest/advanced-usage.html#tls-warnings\n",
      "  warnings.warn(\n"
     ]
    },
    {
     "name": "stdout",
     "output_type": "stream",
     "text": [
      "downloaded https://oberoncore.ru/_media/library/developinginblackbox.pdf\n",
      "proccessing https://oberoncore.ru/library/warford_programming_with_blackbox\n",
      "proccessing https://oberoncore.ru/library/ae1983\n"
     ]
    },
    {
     "name": "stderr",
     "output_type": "stream",
     "text": [
      "/opt/conda/lib/python3.12/site-packages/urllib3/connectionpool.py:1099: InsecureRequestWarning: Unverified HTTPS request is being made to host 'oberoncore.ru'. Adding certificate verification is strongly advised. See: https://urllib3.readthedocs.io/en/latest/advanced-usage.html#tls-warnings\n",
      "  warnings.warn(\n",
      "/opt/conda/lib/python3.12/site-packages/urllib3/connectionpool.py:1099: InsecureRequestWarning: Unverified HTTPS request is being made to host 'oberoncore.ru'. Adding certificate verification is strongly advised. See: https://urllib3.readthedocs.io/en/latest/advanced-usage.html#tls-warnings\n",
      "  warnings.warn(\n"
     ]
    },
    {
     "name": "stdout",
     "output_type": "stream",
     "text": [
      "proccessing https://oberoncore.ru/library/gubanov_sekrety_modulnyh_sistem\n"
     ]
    },
    {
     "name": "stderr",
     "output_type": "stream",
     "text": [
      "/opt/conda/lib/python3.12/site-packages/urllib3/connectionpool.py:1099: InsecureRequestWarning: Unverified HTTPS request is being made to host 'oberoncore.ru'. Adding certificate verification is strongly advised. See: https://urllib3.readthedocs.io/en/latest/advanced-usage.html#tls-warnings\n",
      "  warnings.warn(\n"
     ]
    },
    {
     "name": "stdout",
     "output_type": "stream",
     "text": [
      "proccessing https://oberoncore.ru/library/yazy_ki_programmirovaniya_i_texnologii_oberon_perspektivy_dlya_industrii_i_obrazovaniya\n"
     ]
    },
    {
     "name": "stderr",
     "output_type": "stream",
     "text": [
      "/opt/conda/lib/python3.12/site-packages/urllib3/connectionpool.py:1099: InsecureRequestWarning: Unverified HTTPS request is being made to host 'oberoncore.ru'. Adding certificate verification is strongly advised. See: https://urllib3.readthedocs.io/en/latest/advanced-usage.html#tls-warnings\n",
      "  warnings.warn(\n"
     ]
    },
    {
     "name": "stdout",
     "output_type": "stream",
     "text": [
      "downloaded https://oberoncore.ru/_media/library/yazy_ki_programmirovaniya_i_texnologii_oberon_perspektivy_dlya_industrii_i_obrazovaniya.pdf\n",
      "proccessing https://oberoncore.ru/library/kushnir_pattern_mnogoagentnaya_sistema\n"
     ]
    },
    {
     "name": "stderr",
     "output_type": "stream",
     "text": [
      "/opt/conda/lib/python3.12/site-packages/urllib3/connectionpool.py:1099: InsecureRequestWarning: Unverified HTTPS request is being made to host 'oberoncore.ru'. Adding certificate verification is strongly advised. See: https://urllib3.readthedocs.io/en/latest/advanced-usage.html#tls-warnings\n",
      "  warnings.warn(\n"
     ]
    },
    {
     "name": "stdout",
     "output_type": "stream",
     "text": [
      "downloaded https://oberoncore.ru/_media/library/kushnir_pattern_mnogoagentnaya_sistema.pdf\n",
      "proccessing https://oberoncore.ru/library/kushnir_kuzmiczkij_pattern_proxy_dlya_files\n"
     ]
    },
    {
     "name": "stderr",
     "output_type": "stream",
     "text": [
      "/opt/conda/lib/python3.12/site-packages/urllib3/connectionpool.py:1099: InsecureRequestWarning: Unverified HTTPS request is being made to host 'oberoncore.ru'. Adding certificate verification is strongly advised. See: https://urllib3.readthedocs.io/en/latest/advanced-usage.html#tls-warnings\n",
      "  warnings.warn(\n"
     ]
    },
    {
     "name": "stdout",
     "output_type": "stream",
     "text": [
      "downloaded https://oberoncore.ru/_media/library/kushnir_kuzmiczkij_pattern_proxy_dlya_files.pdf\n",
      "proccessing https://oberoncore.ru/library/temir_comp-soft_text-ui_bb-ex\n"
     ]
    },
    {
     "name": "stderr",
     "output_type": "stream",
     "text": [
      "/opt/conda/lib/python3.12/site-packages/urllib3/connectionpool.py:1099: InsecureRequestWarning: Unverified HTTPS request is being made to host 'oberoncore.ru'. Adding certificate verification is strongly advised. See: https://urllib3.readthedocs.io/en/latest/advanced-usage.html#tls-warnings\n",
      "  warnings.warn(\n",
      "/opt/conda/lib/python3.12/site-packages/urllib3/connectionpool.py:1099: InsecureRequestWarning: Unverified HTTPS request is being made to host 'oberoncore.ru'. Adding certificate verification is strongly advised. See: https://urllib3.readthedocs.io/en/latest/advanced-usage.html#tls-warnings\n",
      "  warnings.warn(\n"
     ]
    },
    {
     "name": "stdout",
     "output_type": "stream",
     "text": [
      "proccessing https://oberoncore.ru/library/tkachov_sistema_obrazovaniya_kak_faktor_nacionalnogo_suvereniteta_v_sfere_it\n",
      "cant download https://oberoncore.ruhttp://www.inr.ac.ru/~info21/texts/2006-09-SFO/v2public.pdf\n",
      "downloaded https://oberoncore.ru/_media/library/tkachov_sistema_obrazovaniya_kak_faktor_nacionalnogo_suvereniteta_v_sfere_it.pdf\n",
      "proccessing https://oberoncore.ru/library/ermakov_problema_podgotovki_it-professionalov\n"
     ]
    },
    {
     "name": "stderr",
     "output_type": "stream",
     "text": [
      "/opt/conda/lib/python3.12/site-packages/urllib3/connectionpool.py:1099: InsecureRequestWarning: Unverified HTTPS request is being made to host 'oberoncore.ru'. Adding certificate verification is strongly advised. See: https://urllib3.readthedocs.io/en/latest/advanced-usage.html#tls-warnings\n",
      "  warnings.warn(\n"
     ]
    },
    {
     "name": "stdout",
     "output_type": "stream",
     "text": [
      "proccessing https://oberoncore.ru/library/koltashev_i-dr_sistema_it-obrazovaniya_s_tochki_zreniya_rossijskix_nacionalnyx_interesov\n"
     ]
    },
    {
     "name": "stderr",
     "output_type": "stream",
     "text": [
      "/opt/conda/lib/python3.12/site-packages/urllib3/connectionpool.py:1099: InsecureRequestWarning: Unverified HTTPS request is being made to host 'oberoncore.ru'. Adding certificate verification is strongly advised. See: https://urllib3.readthedocs.io/en/latest/advanced-usage.html#tls-warnings\n",
      "  warnings.warn(\n"
     ]
    },
    {
     "name": "stdout",
     "output_type": "stream",
     "text": [
      "cant download https://oberoncore.ruhttp://www.inr.ac.ru/~info21/texts/2006-06-Ershov/info21.pdf\n",
      "downloaded https://oberoncore.ru/_media/library/koltashev_i-dr_sistema_it-obrazovaniya_s_tochki_zreniya_rossijskix_nacionalnyx_interesov.pdf\n",
      "proccessing https://oberoncore.ru/library/kuzmiczkij_sozdayom_tetris_v_srede_blackbox\n"
     ]
    },
    {
     "name": "stderr",
     "output_type": "stream",
     "text": [
      "/opt/conda/lib/python3.12/site-packages/urllib3/connectionpool.py:1099: InsecureRequestWarning: Unverified HTTPS request is being made to host 'oberoncore.ru'. Adding certificate verification is strongly advised. See: https://urllib3.readthedocs.io/en/latest/advanced-usage.html#tls-warnings\n",
      "  warnings.warn(\n"
     ]
    },
    {
     "name": "stdout",
     "output_type": "stream",
     "text": [
      "proccessing https://oberoncore.ru/library/temir_sets\n",
      "proccessing https://oberoncore.ru/library/pfister_blackbox_an_industrial-strength_oberon_implementation\n"
     ]
    },
    {
     "name": "stderr",
     "output_type": "stream",
     "text": [
      "/opt/conda/lib/python3.12/site-packages/urllib3/connectionpool.py:1099: InsecureRequestWarning: Unverified HTTPS request is being made to host 'oberoncore.ru'. Adding certificate verification is strongly advised. See: https://urllib3.readthedocs.io/en/latest/advanced-usage.html#tls-warnings\n",
      "  warnings.warn(\n",
      "/opt/conda/lib/python3.12/site-packages/urllib3/connectionpool.py:1099: InsecureRequestWarning: Unverified HTTPS request is being made to host 'oberoncore.ru'. Adding certificate verification is strongly advised. See: https://urllib3.readthedocs.io/en/latest/advanced-usage.html#tls-warnings\n",
      "  warnings.warn(\n"
     ]
    },
    {
     "name": "stdout",
     "output_type": "stream",
     "text": [
      "cant download https://oberoncore.ruhttp://www.inr.ac.ru/~blackbox/Oberon.Day/talks/pfister.pdf\n",
      "downloaded https://oberoncore.ru/_media/library/pfister_blackbox_an_industrial-strength_oberon_implementation.pdf\n",
      "proccessing https://oberoncore.ru/library/nerima-wehrli_oberon_for_natural_language_processing\n",
      "cant download https://oberoncore.ruhttp://www.inr.ac.ru/~blackbox/Oberon.Day/talks/nerima-wehrli.pdf\n"
     ]
    },
    {
     "name": "stderr",
     "output_type": "stream",
     "text": [
      "/opt/conda/lib/python3.12/site-packages/urllib3/connectionpool.py:1099: InsecureRequestWarning: Unverified HTTPS request is being made to host 'oberoncore.ru'. Adding certificate verification is strongly advised. See: https://urllib3.readthedocs.io/en/latest/advanced-usage.html#tls-warnings\n",
      "  warnings.warn(\n"
     ]
    },
    {
     "name": "stdout",
     "output_type": "stream",
     "text": [
      "downloaded https://oberoncore.ru/_media/library/nerima-wehrli_oberon_for_natural_language_processing.pdf\n",
      "proccessing https://oberoncore.ru/library/wirth_make_it_as_simple_as_possible_but_not_simpler-oberon\n"
     ]
    },
    {
     "name": "stderr",
     "output_type": "stream",
     "text": [
      "/opt/conda/lib/python3.12/site-packages/urllib3/connectionpool.py:1099: InsecureRequestWarning: Unverified HTTPS request is being made to host 'oberoncore.ru'. Adding certificate verification is strongly advised. See: https://urllib3.readthedocs.io/en/latest/advanced-usage.html#tls-warnings\n",
      "  warnings.warn(\n"
     ]
    },
    {
     "name": "stdout",
     "output_type": "stream",
     "text": [
      "cant download https://oberoncore.ruhttp://www.inr.ac.ru/~blackbox/Oberon.Day/talks/wirth.pdf\n",
      "downloaded https://oberoncore.ru/_media/library/wirth_make_it_as_simple_as_possible_but_not_simpler-oberon.pdf\n",
      "proccessing https://oberoncore.ru/library/brega_reliability_in_real-time_why_strong-typed_programming_languages_matter\n"
     ]
    },
    {
     "name": "stderr",
     "output_type": "stream",
     "text": [
      "/opt/conda/lib/python3.12/site-packages/urllib3/connectionpool.py:1099: InsecureRequestWarning: Unverified HTTPS request is being made to host 'oberoncore.ru'. Adding certificate verification is strongly advised. See: https://urllib3.readthedocs.io/en/latest/advanced-usage.html#tls-warnings\n",
      "  warnings.warn(\n"
     ]
    },
    {
     "name": "stdout",
     "output_type": "stream",
     "text": [
      "cant download https://oberoncore.ruhttp://homepage.mac.com/roberto.brega/cern_oberonday_rb.pdf\n",
      "downloaded https://oberoncore.ru/_media/library/brega_reliability_in_real-time_why_strong-typed_programming_languages_matter.pdf\n",
      "proccessing https://oberoncore.ru/library/skulski_cern_oberonday\n",
      "cant download https://oberoncore.ruhttp://www.pas.rochester.edu/~skulski/Presentations/CERN_OberonDay.pdf\n"
     ]
    },
    {
     "name": "stderr",
     "output_type": "stream",
     "text": [
      "/opt/conda/lib/python3.12/site-packages/urllib3/connectionpool.py:1099: InsecureRequestWarning: Unverified HTTPS request is being made to host 'oberoncore.ru'. Adding certificate verification is strongly advised. See: https://urllib3.readthedocs.io/en/latest/advanced-usage.html#tls-warnings\n",
      "  warnings.warn(\n"
     ]
    },
    {
     "name": "stdout",
     "output_type": "stream",
     "text": [
      "downloaded https://oberoncore.ru/_media/library/skulski_cern_oberonday.pdf\n",
      "proccessing https://oberoncore.ru/library/campbell_industrial_experience_with_an_engineering_perspective\n",
      "cant download https://oberoncore.ruhttp://www.inr.ac.ru/~blackbox/Oberon.Day/talks/campbell.pdf\n"
     ]
    },
    {
     "name": "stderr",
     "output_type": "stream",
     "text": [
      "/opt/conda/lib/python3.12/site-packages/urllib3/connectionpool.py:1099: InsecureRequestWarning: Unverified HTTPS request is being made to host 'oberoncore.ru'. Adding certificate verification is strongly advised. See: https://urllib3.readthedocs.io/en/latest/advanced-usage.html#tls-warnings\n",
      "  warnings.warn(\n"
     ]
    },
    {
     "name": "stdout",
     "output_type": "stream",
     "text": [
      "downloaded https://oberoncore.ru/_media/library/campbell_industrial_experience_with_an_engineering_perspective.pdf\n",
      "proccessing https://oberoncore.ru/library/tkachov_oberon-new_dimensions_for_design_of_algorithms_for_scientific_applications\n"
     ]
    },
    {
     "name": "stderr",
     "output_type": "stream",
     "text": [
      "/opt/conda/lib/python3.12/site-packages/urllib3/connectionpool.py:1099: InsecureRequestWarning: Unverified HTTPS request is being made to host 'oberoncore.ru'. Adding certificate verification is strongly advised. See: https://urllib3.readthedocs.io/en/latest/advanced-usage.html#tls-warnings\n",
      "  warnings.warn(\n"
     ]
    },
    {
     "name": "stdout",
     "output_type": "stream",
     "text": [
      "cant download https://oberoncore.ruhttp://www.inr.ac.ru/~blackbox/Oberon.Day/talks/ftkachov.pdf\n",
      "downloaded https://oberoncore.ru/_media/library/tkachov_oberon-new_dimensions_for_design_of_algorithms_for_scientific_applications.pdf\n",
      "proccessing https://oberoncore.ru/library/skulski_blackbox_for_scientists_and_engineers\n"
     ]
    },
    {
     "name": "stderr",
     "output_type": "stream",
     "text": [
      "/opt/conda/lib/python3.12/site-packages/urllib3/connectionpool.py:1099: InsecureRequestWarning: Unverified HTTPS request is being made to host 'oberoncore.ru'. Adding certificate verification is strongly advised. See: https://urllib3.readthedocs.io/en/latest/advanced-usage.html#tls-warnings\n",
      "  warnings.warn(\n"
     ]
    },
    {
     "name": "stdout",
     "output_type": "stream",
     "text": [
      "cant download https://oberoncore.ruhttp://www.pas.rochester.edu/~skulski/Presentations/BB_Class.pdf\n",
      "downloaded https://oberoncore.ru/_media/library/bb_class.pdf\n",
      "proccessing https://oberoncore.ru/library/rohr-sedlacek_oberon_in_industrial_automatic_control_technology\n"
     ]
    },
    {
     "name": "stderr",
     "output_type": "stream",
     "text": [
      "/opt/conda/lib/python3.12/site-packages/urllib3/connectionpool.py:1099: InsecureRequestWarning: Unverified HTTPS request is being made to host 'oberoncore.ru'. Adding certificate verification is strongly advised. See: https://urllib3.readthedocs.io/en/latest/advanced-usage.html#tls-warnings\n",
      "  warnings.warn(\n"
     ]
    },
    {
     "name": "stdout",
     "output_type": "stream",
     "text": [
      "downloaded https://oberoncore.ru/_media/library/rohr-sedlacek_oberon_in_industrial_automatic_control_technology.pdf\n",
      "proccessing https://oberoncore.ru/library/mcgaw_oberon_in_real-time_control_applications\n"
     ]
    },
    {
     "name": "stderr",
     "output_type": "stream",
     "text": [
      "/opt/conda/lib/python3.12/site-packages/urllib3/connectionpool.py:1099: InsecureRequestWarning: Unverified HTTPS request is being made to host 'oberoncore.ru'. Adding certificate verification is strongly advised. See: https://urllib3.readthedocs.io/en/latest/advanced-usage.html#tls-warnings\n",
      "  warnings.warn(\n"
     ]
    },
    {
     "name": "stdout",
     "output_type": "stream",
     "text": [
      "downloaded https://oberoncore.ru/_media/library/mcgaw_oberon_in_real-time_control_applications.pdf\n",
      "proccessing https://oberoncore.ru/library/hunziker_computational_medicine_oberon-based_simulation_control_and_signal_processing\n"
     ]
    },
    {
     "name": "stderr",
     "output_type": "stream",
     "text": [
      "/opt/conda/lib/python3.12/site-packages/urllib3/connectionpool.py:1099: InsecureRequestWarning: Unverified HTTPS request is being made to host 'oberoncore.ru'. Adding certificate verification is strongly advised. See: https://urllib3.readthedocs.io/en/latest/advanced-usage.html#tls-warnings\n",
      "  warnings.warn(\n"
     ]
    },
    {
     "name": "stdout",
     "output_type": "stream",
     "text": [
      "downloaded https://oberoncore.ru/_media/library/hunziker_computational_medicine_oberon-based_simulation_control_and_signal_processing.pdf\n",
      "proccessing https://oberoncore.ru/library/chapuis_oberon-based_autopilots_for_unmanned_aerial_vehicles\n"
     ]
    },
    {
     "name": "stderr",
     "output_type": "stream",
     "text": [
      "/opt/conda/lib/python3.12/site-packages/urllib3/connectionpool.py:1099: InsecureRequestWarning: Unverified HTTPS request is being made to host 'oberoncore.ru'. Adding certificate verification is strongly advised. See: https://urllib3.readthedocs.io/en/latest/advanced-usage.html#tls-warnings\n",
      "  warnings.warn(\n"
     ]
    },
    {
     "name": "stdout",
     "output_type": "stream",
     "text": [
      "downloaded https://oberoncore.ru/_media/library/chapuis_oberon-based_autopilots_for_unmanned_aerial_vehicles.pdf\n",
      "proccessing https://oberoncore.ru/library/kirk_test_automation_for_the_oberon_and_minos_frameworks\n"
     ]
    },
    {
     "name": "stderr",
     "output_type": "stream",
     "text": [
      "/opt/conda/lib/python3.12/site-packages/urllib3/connectionpool.py:1099: InsecureRequestWarning: Unverified HTTPS request is being made to host 'oberoncore.ru'. Adding certificate verification is strongly advised. See: https://urllib3.readthedocs.io/en/latest/advanced-usage.html#tls-warnings\n",
      "  warnings.warn(\n"
     ]
    },
    {
     "name": "stdout",
     "output_type": "stream",
     "text": [
      "downloaded https://oberoncore.ru/_media/library/kirk_test_automation_for_the_oberon_and_minos_frameworks.pdf\n",
      "proccessing https://oberoncore.ru/library/buregio_component_architecture_component_frameworks\n",
      "proccessing https://oberoncore.ru/library/mcgaw_an_oberon-based_rocket_engine_materials_testing_system\n"
     ]
    },
    {
     "name": "stderr",
     "output_type": "stream",
     "text": [
      "/opt/conda/lib/python3.12/site-packages/urllib3/connectionpool.py:1099: InsecureRequestWarning: Unverified HTTPS request is being made to host 'oberoncore.ru'. Adding certificate verification is strongly advised. See: https://urllib3.readthedocs.io/en/latest/advanced-usage.html#tls-warnings\n",
      "  warnings.warn(\n",
      "/opt/conda/lib/python3.12/site-packages/urllib3/connectionpool.py:1099: InsecureRequestWarning: Unverified HTTPS request is being made to host 'oberoncore.ru'. Adding certificate verification is strongly advised. See: https://urllib3.readthedocs.io/en/latest/advanced-usage.html#tls-warnings\n",
      "  warnings.warn(\n"
     ]
    },
    {
     "name": "stdout",
     "output_type": "stream",
     "text": [
      "cant download https://oberoncore.ruhttp://www.oberonday2011.ethz.ch/talks/rocketengine.pdf\n",
      "downloaded https://oberoncore.ru/_media/library/mcgaw_an_oberon-based_rocket_engine_materials_testing_system.pdf\n",
      "proccessing https://oberoncore.ru/library/burrows_arm_embedded_development_using_oberon-07\n"
     ]
    },
    {
     "name": "stderr",
     "output_type": "stream",
     "text": [
      "/opt/conda/lib/python3.12/site-packages/urllib3/connectionpool.py:1099: InsecureRequestWarning: Unverified HTTPS request is being made to host 'oberoncore.ru'. Adding certificate verification is strongly advised. See: https://urllib3.readthedocs.io/en/latest/advanced-usage.html#tls-warnings\n",
      "  warnings.warn(\n"
     ]
    },
    {
     "name": "stdout",
     "output_type": "stream",
     "text": [
      "cant download https://oberoncore.ruhttp://www.oberonday2011.ethz.ch/talks/armembedded.pdf\n",
      "downloaded https://oberoncore.ru/_media/library/burrows_arm_embedded_development_using_oberon-07.pdf\n",
      "proccessing https://oberoncore.ru/library/wirth_ceres_and_oberon-then_and_now\n",
      "cant download https://oberoncore.ruhttp://www.oberonday2011.ethz.ch/talks/ceresandoberon.pdf\n"
     ]
    },
    {
     "name": "stderr",
     "output_type": "stream",
     "text": [
      "/opt/conda/lib/python3.12/site-packages/urllib3/connectionpool.py:1099: InsecureRequestWarning: Unverified HTTPS request is being made to host 'oberoncore.ru'. Adding certificate verification is strongly advised. See: https://urllib3.readthedocs.io/en/latest/advanced-usage.html#tls-warnings\n",
      "  warnings.warn(\n"
     ]
    },
    {
     "name": "stdout",
     "output_type": "stream",
     "text": [
      "downloaded https://oberoncore.ru/_media/library/wirth_ceres_and_oberon-then_and_now.pdf\n",
      "proccessing https://oberoncore.ru/library/denisov_razrabotka_komponentnogo_programmnogo_obespecheniya_dlya_nauchnogo_modelirovaniya_i_inzhenerii\n"
     ]
    },
    {
     "name": "stderr",
     "output_type": "stream",
     "text": [
      "/opt/conda/lib/python3.12/site-packages/urllib3/connectionpool.py:1099: InsecureRequestWarning: Unverified HTTPS request is being made to host 'oberoncore.ru'. Adding certificate verification is strongly advised. See: https://urllib3.readthedocs.io/en/latest/advanced-usage.html#tls-warnings\n",
      "  warnings.warn(\n"
     ]
    },
    {
     "name": "stdout",
     "output_type": "stream",
     "text": [
      "cant download https://oberoncore.ruhttp://molpit.com/files/114_MakeIT.pdf\n",
      "downloaded https://oberoncore.ru/_media/library/denisov_razrabotka_komponentnogo_programmnogo_obespecheniya_dlya_nauchnogo_modelirovaniya_i_inzhenerii.pdf\n",
      "proccessing https://oberoncore.ru/library/tkachov_less_is_more_why_oberon_beats_mainstream\n"
     ]
    },
    {
     "name": "stderr",
     "output_type": "stream",
     "text": [
      "/opt/conda/lib/python3.12/site-packages/urllib3/connectionpool.py:1099: InsecureRequestWarning: Unverified HTTPS request is being made to host 'oberoncore.ru'. Adding certificate verification is strongly advised. See: https://urllib3.readthedocs.io/en/latest/advanced-usage.html#tls-warnings\n",
      "  warnings.warn(\n"
     ]
    },
    {
     "name": "stdout",
     "output_type": "stream",
     "text": [
      "downloaded https://oberoncore.ru/_media/library/tkachov_less_is_more_why_oberon_beats_mainstream_1.pdf\n",
      "downloaded https://oberoncore.ru/_media/library/tkachov_less_is_more_why_oberon_beats_mainstream.pdf\n",
      "proccessing https://oberoncore.ru/library/full\n"
     ]
    },
    {
     "name": "stderr",
     "output_type": "stream",
     "text": [
      "/opt/conda/lib/python3.12/site-packages/urllib3/connectionpool.py:1099: InsecureRequestWarning: Unverified HTTPS request is being made to host 'oberoncore.ru'. Adding certificate verification is strongly advised. See: https://urllib3.readthedocs.io/en/latest/advanced-usage.html#tls-warnings\n",
      "  warnings.warn(\n"
     ]
    }
   ],
   "source": [
    "for page_link in pages:\n",
    "    print(f'proccessing {page_link}')\n",
    "    pdf_links = ['https://oberoncore.ru' + l for l in only_pdf_links(extract_links(page_link))]\n",
    "    download_links(pdf_links)"
   ]
  },
  {
   "cell_type": "code",
   "execution_count": null,
   "id": "19d3a108-f5c7-4fe6-adcd-c593b476efaf",
   "metadata": {},
   "outputs": [],
   "source": []
  }
 ],
 "metadata": {
  "kernelspec": {
   "display_name": "Python 3 (ipykernel)",
   "language": "python",
   "name": "python3"
  },
  "language_info": {
   "codemirror_mode": {
    "name": "ipython",
    "version": 3
   },
   "file_extension": ".py",
   "mimetype": "text/x-python",
   "name": "python",
   "nbconvert_exporter": "python",
   "pygments_lexer": "ipython3",
   "version": "3.12.8"
  }
 },
 "nbformat": 4,
 "nbformat_minor": 5
}
