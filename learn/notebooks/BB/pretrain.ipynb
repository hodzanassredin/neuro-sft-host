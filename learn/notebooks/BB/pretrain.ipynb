{
 "cells": [
  {
   "cell_type": "code",
   "execution_count": 1,
   "id": "c552ef18-d476-4ac1-a932-fe39ae52e36d",
   "metadata": {},
   "outputs": [
    {
     "name": "stdout",
     "output_type": "stream",
     "text": [
      "Sat Jan 25 16:17:10 2025       \n",
      "+-----------------------------------------------------------------------------------------+\n",
      "| NVIDIA-SMI 565.57.02              Driver Version: 566.03         CUDA Version: 12.7     |\n",
      "|-----------------------------------------+------------------------+----------------------+\n",
      "| GPU  Name                 Persistence-M | Bus-Id          Disp.A | Volatile Uncorr. ECC |\n",
      "| Fan  Temp   Perf          Pwr:Usage/Cap |           Memory-Usage | GPU-Util  Compute M. |\n",
      "|                                         |                        |               MIG M. |\n",
      "|=========================================+========================+======================|\n",
      "|   0  NVIDIA GeForce RTX 4060 Ti     On  |   00000000:01:00.0  On |                  N/A |\n",
      "|  0%   41C    P8              5W /  165W |     611MiB /  16380MiB |     18%      Default |\n",
      "|                                         |                        |                  N/A |\n",
      "+-----------------------------------------+------------------------+----------------------+\n",
      "                                                                                         \n",
      "+-----------------------------------------------------------------------------------------+\n",
      "| Processes:                                                                              |\n",
      "|  GPU   GI   CI        PID   Type   Process name                              GPU Memory |\n",
      "|        ID   ID                                                               Usage      |\n",
      "|=========================================================================================|\n",
      "|  No running processes found                                                             |\n",
      "+-----------------------------------------------------------------------------------------+\n"
     ]
    }
   ],
   "source": [
    "!nvidia-smi"
   ]
  },
  {
   "cell_type": "code",
   "execution_count": 1,
   "id": "05e04ccb-e0e0-4c48-a9c8-efb88642a788",
   "metadata": {},
   "outputs": [
    {
     "name": "stderr",
     "output_type": "stream",
     "text": [
      "/opt/conda/lib/python3.12/site-packages/tqdm/auto.py:21: TqdmWarning: IProgress not found. Please update jupyter and ipywidgets. See https://ipywidgets.readthedocs.io/en/stable/user_install.html\n",
      "  from .autonotebook import tqdm as notebook_tqdm\n"
     ]
    }
   ],
   "source": [
    "import os\n",
    "import torch\n",
    "import transformers\n",
    "import peft\n",
    "import datasets\n",
    "import evaluate\n",
    "import time\n",
    "assert torch.cuda.is_available(), \"you need cuda for this part\"\n",
    "device = torch.device('cuda:0' if torch.cuda.is_available() else 'cpu')"
   ]
  },
  {
   "cell_type": "code",
   "execution_count": 2,
   "id": "6278fc09-ac11-4db4-9b35-f1191285d8d5",
   "metadata": {},
   "outputs": [
    {
     "data": {
      "text/plain": [
       "device(type='cuda', index=0)"
      ]
     },
     "execution_count": 2,
     "metadata": {},
     "output_type": "execute_result"
    }
   ],
   "source": [
    "device"
   ]
  },
  {
   "cell_type": "code",
   "execution_count": 3,
   "id": "055ff20d-43e1-4f7d-8722-441da81abb19",
   "metadata": {},
   "outputs": [],
   "source": [
    "dataset_path = \"/app/datasets/oberon/docs/bb_ru\"\n",
    "model_name = \"Qwen/Qwen2.5-Coder-3B-Instruct\"\n",
    "#model_name = 'MTSAIR/Cotype-Nano'\n",
    "\n",
    "EPOCHS = 7\n",
    "PACKED=False"
   ]
  },
  {
   "cell_type": "code",
   "execution_count": 4,
   "id": "10faa754-675f-49fa-af89-9e2376c3b9fa",
   "metadata": {},
   "outputs": [],
   "source": [
    "only_model_name = model_name.split(\"/\")[-1].replace(':', \"_\")\n",
    "dataset_name = dataset_path.split(\"/\")[-1]\n",
    "sft_model_path = f\"/app/models/{dataset_name}_{only_model_name}\""
   ]
  },
  {
   "cell_type": "code",
   "execution_count": 5,
   "id": "b1ee4c9c-0b68-4bd9-ad3a-b59b9bfad4cb",
   "metadata": {},
   "outputs": [],
   "source": [
    "bnb_config = transformers.BitsAndBytesConfig(\n",
    "    load_in_4bit=True,\n",
    "    bnb_4bit_quant_type=\"nf4\",\n",
    "    bnb_4bit_use_double_quant=True,\n",
    "    bnb_4bit_compute_dtype=torch.bfloat16\n",
    ")\n",
    "peft_config = peft.LoraConfig(\n",
    "    r=16,\n",
    "    lora_alpha=32,\n",
    "    target_modules=[\n",
    "        \"mlp.down_proj\",\n",
    "        \"self_attn.k_proj\",\n",
    "        \"self_attn.o_proj\",\n",
    "        \"mlp.up_proj\",\n",
    "        \"self_attn.v_proj\",\n",
    "        \"mlp.gate_proj\",\n",
    "        \"self_attn.q_proj\"],\n",
    "    lora_dropout=0.1,\n",
    "    bias=\"none\",\n",
    "    task_type=peft.TaskType.CAUSAL_LM\n",
    ")\n"
   ]
  },
  {
   "cell_type": "code",
   "execution_count": 6,
   "id": "61beaedd-5d90-43a1-8b76-ffd9b9a8e6a3",
   "metadata": {},
   "outputs": [],
   "source": [
    "tokenizer = transformers.AutoTokenizer.from_pretrained(model_name)"
   ]
  },
  {
   "cell_type": "code",
   "execution_count": 7,
   "id": "00042bcc-14f2-49c4-af7d-ae4a73113d01",
   "metadata": {},
   "outputs": [],
   "source": [
    "def load_texts():\n",
    "    file_names = [] \n",
    "    for subdir, dirs, files in os.walk(dataset_path):\n",
    "        if \"/Rsrc/\" in subdir:\n",
    "            continue\n",
    "        for file in files:\n",
    "            file_names.append(os.path.join(subdir, file))\n",
    "    texts = []\n",
    "    for f in file_names:\n",
    "        with open(f, 'r', encoding='utf-8') as file:\n",
    "            texts.append(file.read() + tokenizer.eos_token)\n",
    "    return file_names,texts\n",
    "names, texts = load_texts()\n",
    "\n"
   ]
  },
  {
   "cell_type": "code",
   "execution_count": 8,
   "id": "61245f8b-57cf-4c3d-8f14-612dfd9d6baf",
   "metadata": {},
   "outputs": [],
   "source": [
    "#names = [n[len(dataset_path)+1:] for n in names]\n",
    "#text_dataset = datasets.Dataset.from_dict({\"texts\":texts,\"names\" : names})\n",
    "\n",
    "#text_dataset.push_to_hub('hodza/BlackBox.Shkola.2014')"
   ]
  },
  {
   "cell_type": "code",
   "execution_count": 16,
   "id": "b02ab931-2403-411e-a760-99f39b7fa17a",
   "metadata": {},
   "outputs": [
    {
     "data": {
      "text/plain": [
       "DatasetDict({\n",
       "    train: Dataset({\n",
       "        features: ['input_ids', 'attention_mask', 'overflow_to_sample_mapping', 'labels'],\n",
       "        num_rows: 5986\n",
       "    })\n",
       "    test: Dataset({\n",
       "        features: ['input_ids', 'attention_mask', 'overflow_to_sample_mapping', 'labels'],\n",
       "        num_rows: 666\n",
       "    })\n",
       "})"
      ]
     },
     "execution_count": 16,
     "metadata": {},
     "output_type": "execute_result"
    }
   ],
   "source": [
    "block_size = 512  # Максимальная длина последовательности\n",
    "stride = 32      # Шаг перекрытия    \n",
    "def tokenize_with_stride(texts):\n",
    "    tokenized_data = tokenizer(\n",
    "        texts,\n",
    "        max_length=block_size,\n",
    "        truncation=True,\n",
    "        stride=stride,\n",
    "        return_overflowing_tokens=True,\n",
    "        padding=\"max_length\",  # Дополняем до block_size\n",
    "        return_tensors=\"pt\",   # Возвращаем тензоры PyTorch\n",
    "        add_special_tokens = False,\n",
    "    )\n",
    "    tokenized_data[\"labels\"] = tokenized_data[\"input_ids\"]\n",
    "    return datasets.Dataset.from_dict(tokenized_data).train_test_split(test_size=0.1,shuffle=False)\n",
    "    \n",
    "lm_datasets = tokenize_with_stride(texts)\n",
    "lm_datasets"
   ]
  },
  {
   "cell_type": "code",
   "execution_count": 17,
   "id": "c32575a6-319b-4b12-8d09-d6b4f124e3d9",
   "metadata": {},
   "outputs": [
    {
     "name": "stdout",
     "output_type": "stream",
     "text": [
      "Сборка Блэкбокса для школьных уроков информатики\n",
      "\n",
      "«Блэкбокс  практически идеальная среда для обучения программированию.»\n",
      "Т.Евсикова, научный сотрудник, \n",
      "Институт математики и информатики, Вильнюс, Литва\n",
      "\n",
      "«... школьная сборка  это блестящая работа, лучше я еще не видел. \n",
      "Для меня главное, что показан путь, каким надо двигаться в рамках моих учебных дел. \n",
      "Это очень ценно и для развивающихся учителей: они сами будут достраивать <сборку> \n",
      "в нужном направлении. Никаких специальных институтов не нужно.»\n",
      "В.В.Лаптев, профессор, \n",
      "Астраханский гос. тех. университет\n",
      "\n",
      "«... скачал вашу сборку и как в сказку попал ... \n",
      "Ввод через любое выделение в документе, дружелюбная гипернавигация, \n",
      "<ключевые> слова <можно писать> на русском, мастер нового приложения с подсказками ...»\n",
      "Александр Шостак, студент,\n",
      "специальность \"экономическая информатика\"\n",
      "\n",
      "Основа школьной сборки  уникальная современная бесплатная и открытая среда программирования Блэкбокс (BlackBox Component Builder), воплотившая полувековой (считая с Алгола-60) опыт разработки технологий и методов программирования (школа Никлауса Вирта в цюрихском университете ETH, исследовательская лаборатория Xerox Palo Alto Research Center и др.).\n",
      "\n",
      "Система Блэкбокс реализует в широко доступном виде идеи проекта Оберон легендарного Никлауса Вирта и его соратника Юрга Гуткнехта (см. книгу «Проект Оберон», ДМК Пресс, 2012), а также предшественников (системы Lilith/ETHZ и Mesa/Xerox PARC).\n",
      "\u000eЯзык программирования, используемый в Блэкбок\n"
     ]
    }
   ],
   "source": [
    "print(tokenizer.decode(lm_datasets[\"train\"][3][\"input_ids\"], skip_special_tokens=False))"
   ]
  },
  {
   "cell_type": "code",
   "execution_count": 11,
   "id": "06627dbd-c8f8-4b09-942d-58439e3cfcd2",
   "metadata": {},
   "outputs": [
    {
     "name": "stderr",
     "output_type": "stream",
     "text": [
      "Loading checkpoint shards: 100%|██████████| 2/2 [00:45<00:00, 22.56s/it]\n"
     ]
    }
   ],
   "source": [
    "model = transformers.AutoModelForCausalLM.from_pretrained(model_name, device_map=device,quantization_config=bnb_config,)\n",
    "model._hf_peft_config_loaded = True  # silence a warning from HF trainer"
   ]
  },
  {
   "cell_type": "code",
   "execution_count": 12,
   "id": "e45a2f70-9a12-4316-a57b-7815bb33e07c",
   "metadata": {},
   "outputs": [
    {
     "name": "stdout",
     "output_type": "stream",
     "text": [
      "trainable params: 29,933,568 || all params: 3,115,872,256 || trainable%: 0.9607\n"
     ]
    }
   ],
   "source": [
    "model = peft.get_peft_model(model, peft_config)\n",
    "model.print_trainable_parameters()"
   ]
  },
  {
   "cell_type": "code",
   "execution_count": 13,
   "id": "93b6e086-af49-4f73-b5dd-c15772e989a2",
   "metadata": {},
   "outputs": [],
   "source": [
    "import logging\n",
    "logging.basicConfig(level=logging.DEBUG, format='%(asctime)s %(message)s')"
   ]
  },
  {
   "cell_type": "code",
   "execution_count": 15,
   "id": "b852f7f4-46a7-4f41-9e5e-3e8eabacb6e1",
   "metadata": {},
   "outputs": [
    {
     "name": "stderr",
     "output_type": "stream",
     "text": [
      "2025-01-25 16:20:52,081 Starting new HTTPS connection (1): s3.amazonaws.com:443\n",
      "2025-01-25 16:20:52,725 https://s3.amazonaws.com:443 \"HEAD /datasets.huggingface.co/datasets/metrics/evaluate-metric/bleu/evaluate-metric/bleu.py HTTP/11\" 404 0\n",
      "2025-01-25 16:20:52,731 Starting new HTTPS connection (1): huggingface.co:443\n",
      "2025-01-25 16:20:53,078 https://huggingface.co:443 \"HEAD /spaces/evaluate-metric/bleu/resolve/v0.4.3/bleu.py HTTP/11\" 404 0\n",
      "2025-01-25 16:20:53,082 Starting new HTTPS connection (1): huggingface.co:443\n",
      "2025-01-25 16:20:53,438 https://huggingface.co:443 \"HEAD /spaces/evaluate-metric/bleu/resolve/main/bleu.py HTTP/11\" 200 0\n",
      "2025-01-25 16:20:53,461 Starting new HTTPS connection (1): github.com:443\n",
      "2025-01-25 16:20:53,856 https://github.com:443 \"HEAD /tensorflow/nmt/raw/master/nmt/scripts/bleu.py HTTP/11\" 302 0\n",
      "2025-01-25 16:20:53,857 Starting new HTTPS connection (1): raw.githubusercontent.com:443\n",
      "2025-01-25 16:20:54,159 https://raw.githubusercontent.com:443 \"HEAD /tensorflow/nmt/master/nmt/scripts/bleu.py HTTP/11\" 200 0\n",
      "2025-01-25 16:20:54,177 Starting new HTTPS connection (1): huggingface.co:443\n",
      "2025-01-25 16:20:54,500 https://huggingface.co:443 \"HEAD /spaces/evaluate-metric/bleu/resolve/main/tokenizer_13a.py HTTP/11\" 200 0\n",
      "2025-01-25 16:20:54,535 Attempting to acquire lock 139615758432112 on /hf/modules/evaluate_modules/metrics/evaluate-metric--bleu.lock\n",
      "2025-01-25 16:20:54,542 Lock 139615758432112 acquired on /hf/modules/evaluate_modules/metrics/evaluate-metric--bleu.lock\n",
      "2025-01-25 16:20:54,553 Attempting to release lock 139615758432112 on /hf/modules/evaluate_modules/metrics/evaluate-metric--bleu.lock\n",
      "2025-01-25 16:20:54,554 Lock 139615758432112 released on /hf/modules/evaluate_modules/metrics/evaluate-metric--bleu.lock\n"
     ]
    }
   ],
   "source": [
    "metric = evaluate.load(\"bleu\")\n",
    "\n",
    "def compute_metrics(eval_pred):\n",
    "    logits, labels = eval_pred\n",
    "    predictions = np.argmax(logits, axis=-1)\n",
    "    return metric.compute(predictions=predictions, references=labels)"
   ]
  },
  {
   "cell_type": "code",
   "execution_count": 18,
   "id": "efa722e4-6baa-4cdd-913e-23afa5159987",
   "metadata": {},
   "outputs": [],
   "source": [
    "timestr = time.strftime(\"%Y%m%d-%H%M%S\")\n",
    "data_collator = transformers.DataCollatorForLanguageModeling(tokenizer=tokenizer, mlm=False)\n",
    "training_args = transformers.TrainingArguments(\n",
    "    output_dir=f\"./results/{dataset_name}_{only_model_name}/{timestr}/\",\n",
    "    eval_strategy=\"epoch\",\n",
    "    save_strategy=\"epoch\",\n",
    "    learning_rate=2e-5,\n",
    "    per_device_train_batch_size=2,\n",
    "    per_device_eval_batch_size=2,\n",
    "    bf16=torch.cuda.get_device_capability(torch.cuda.current_device())[0] >= 8,  \n",
    "    gradient_accumulation_steps=4,\n",
    "    num_train_epochs=EPOCHS,\n",
    "    weight_decay=0.01,\n",
    "    #save_total_limit=2,\n",
    "    logging_dir='./logs',\n",
    "    logging_steps=32,\n",
    "    warmup_steps=100, \n",
    "    #eval_steps=32, \n",
    "    #max_steps=512,\n",
    "    \n",
    "    #load_best_model_at_end=True,\n",
    ")\n",
    "trainer = transformers.Trainer(\n",
    "    model=model,\n",
    "    args=training_args,\n",
    "    train_dataset=lm_datasets[\"train\"],\n",
    "    eval_dataset=lm_datasets[\"test\"],\n",
    "    data_collator=data_collator,\n",
    "    #compute_metrics=compute_metrics,\n",
    ")"
   ]
  },
  {
   "cell_type": "code",
   "execution_count": 19,
   "id": "16d30406-4ef7-458d-af63-69a5e6576979",
   "metadata": {},
   "outputs": [
    {
     "data": {
      "text/html": [
       "\n",
       "    <div>\n",
       "      \n",
       "      <progress value='5236' max='5236' style='width:300px; height:20px; vertical-align: middle;'></progress>\n",
       "      [5236/5236 6:37:47, Epoch 6/7]\n",
       "    </div>\n",
       "    <table border=\"1\" class=\"dataframe\">\n",
       "  <thead>\n",
       " <tr style=\"text-align: left;\">\n",
       "      <th>Epoch</th>\n",
       "      <th>Training Loss</th>\n",
       "      <th>Validation Loss</th>\n",
       "    </tr>\n",
       "  </thead>\n",
       "  <tbody>\n",
       "    <tr>\n",
       "      <td>1</td>\n",
       "      <td>5.272000</td>\n",
       "      <td>0.587909</td>\n",
       "    </tr>\n",
       "    <tr>\n",
       "      <td>2</td>\n",
       "      <td>5.084700</td>\n",
       "      <td>0.571427</td>\n",
       "    </tr>\n",
       "    <tr>\n",
       "      <td>3</td>\n",
       "      <td>4.613000</td>\n",
       "      <td>0.571101</td>\n",
       "    </tr>\n",
       "    <tr>\n",
       "      <td>4</td>\n",
       "      <td>4.506400</td>\n",
       "      <td>0.577788</td>\n",
       "    </tr>\n",
       "    <tr>\n",
       "      <td>5</td>\n",
       "      <td>4.435900</td>\n",
       "      <td>0.583531</td>\n",
       "    </tr>\n",
       "    <tr>\n",
       "      <td>6</td>\n",
       "      <td>4.036400</td>\n",
       "      <td>0.594543</td>\n",
       "    </tr>\n",
       "  </tbody>\n",
       "</table><p>"
      ],
      "text/plain": [
       "<IPython.core.display.HTML object>"
      ]
     },
     "metadata": {},
     "output_type": "display_data"
    },
    {
     "name": "stderr",
     "output_type": "stream",
     "text": [
      "2025-01-25 22:23:05,415 Resetting dropped connection: huggingface.co\n",
      "2025-01-25 22:23:05,833 https://huggingface.co:443 \"HEAD /Qwen/Qwen2.5-Coder-3B-Instruct/resolve/main/config.json HTTP/11\" 200 0\n",
      "2025-01-25 22:23:06,015 https://huggingface.co:443 \"HEAD /Qwen/Qwen2.5-Coder-3B-Instruct/resolve/main/config.json HTTP/11\" 200 0\n",
      "2025-01-25 23:20:05,059 Resetting dropped connection: huggingface.co\n",
      "2025-01-25 23:20:05,405 https://huggingface.co:443 \"HEAD /Qwen/Qwen2.5-Coder-3B-Instruct/resolve/main/config.json HTTP/11\" 200 0\n",
      "2025-01-25 23:20:05,565 https://huggingface.co:443 \"HEAD /Qwen/Qwen2.5-Coder-3B-Instruct/resolve/main/config.json HTTP/11\" 200 0\n",
      "2025-01-26 00:16:55,934 Resetting dropped connection: huggingface.co\n",
      "2025-01-26 00:16:56,320 https://huggingface.co:443 \"HEAD /Qwen/Qwen2.5-Coder-3B-Instruct/resolve/main/config.json HTTP/11\" 200 0\n",
      "2025-01-26 00:16:56,480 https://huggingface.co:443 \"HEAD /Qwen/Qwen2.5-Coder-3B-Instruct/resolve/main/config.json HTTP/11\" 200 0\n",
      "2025-01-26 01:13:46,497 Resetting dropped connection: huggingface.co\n",
      "2025-01-26 01:13:47,089 https://huggingface.co:443 \"HEAD /Qwen/Qwen2.5-Coder-3B-Instruct/resolve/main/config.json HTTP/11\" 200 0\n",
      "2025-01-26 01:13:47,473 https://huggingface.co:443 \"HEAD /Qwen/Qwen2.5-Coder-3B-Instruct/resolve/main/config.json HTTP/11\" 200 0\n",
      "2025-01-26 02:10:38,169 Resetting dropped connection: huggingface.co\n",
      "2025-01-26 02:10:38,613 https://huggingface.co:443 \"HEAD /Qwen/Qwen2.5-Coder-3B-Instruct/resolve/main/config.json HTTP/11\" 200 0\n",
      "2025-01-26 02:10:38,796 https://huggingface.co:443 \"HEAD /Qwen/Qwen2.5-Coder-3B-Instruct/resolve/main/config.json HTTP/11\" 200 0\n",
      "2025-01-26 03:07:28,625 Resetting dropped connection: huggingface.co\n",
      "2025-01-26 03:07:29,018 https://huggingface.co:443 \"HEAD /Qwen/Qwen2.5-Coder-3B-Instruct/resolve/main/config.json HTTP/11\" 200 0\n",
      "2025-01-26 03:07:29,178 https://huggingface.co:443 \"HEAD /Qwen/Qwen2.5-Coder-3B-Instruct/resolve/main/config.json HTTP/11\" 200 0\n",
      "2025-01-26 04:00:57,751 Resetting dropped connection: huggingface.co\n",
      "2025-01-26 04:00:58,110 https://huggingface.co:443 \"HEAD /Qwen/Qwen2.5-Coder-3B-Instruct/resolve/main/config.json HTTP/11\" 200 0\n",
      "2025-01-26 04:00:58,283 https://huggingface.co:443 \"HEAD /Qwen/Qwen2.5-Coder-3B-Instruct/resolve/main/config.json HTTP/11\" 200 0\n",
      "2025-01-26 04:03:54,146 https://huggingface.co:443 \"HEAD /Qwen/Qwen2.5-Coder-3B-Instruct/resolve/main/config.json HTTP/11\" 200 0\n",
      "2025-01-26 04:03:54,325 https://huggingface.co:443 \"HEAD /Qwen/Qwen2.5-Coder-3B-Instruct/resolve/main/config.json HTTP/11\" 200 0\n"
     ]
    },
    {
     "data": {
      "text/plain": [
       "TrainOutput(global_step=5236, training_loss=4.567691858348453, metrics={'train_runtime': 23871.8997, 'train_samples_per_second': 1.755, 'train_steps_per_second': 0.219, 'total_flos': 3.605993812729528e+17, 'train_loss': 4.567691858348453, 'epoch': 6.99164717674574})"
      ]
     },
     "execution_count": 19,
     "metadata": {},
     "output_type": "execute_result"
    }
   ],
   "source": [
    "trainer.train()\n",
    "#trainer.evaluate()"
   ]
  },
  {
   "cell_type": "code",
   "execution_count": 125,
   "id": "44e3bbe0-ea00-44d9-b532-48a5862bf6d7",
   "metadata": {},
   "outputs": [
    {
     "data": {
      "text/html": [
       "\n",
       "    <div>\n",
       "      \n",
       "      <progress value='513' max='513' style='width:300px; height:20px; vertical-align: middle;'></progress>\n",
       "      [513/513 01:52]\n",
       "    </div>\n",
       "    "
      ],
      "text/plain": [
       "<IPython.core.display.HTML object>"
      ]
     },
     "metadata": {},
     "output_type": "display_data"
    },
    {
     "name": "stdout",
     "output_type": "stream",
     "text": [
      "Perplexity: 5.12\n"
     ]
    }
   ],
   "source": [
    "import math\n",
    "eval_results = trainer.evaluate()\n",
    "print(f\"Perplexity: {math.exp(eval_results['eval_loss']):.2f}\")"
   ]
  },
  {
   "cell_type": "code",
   "execution_count": 66,
   "id": "bcf1c380-ca65-47f0-8ba2-86ca5b777572",
   "metadata": {},
   "outputs": [
    {
     "name": "stderr",
     "output_type": "stream",
     "text": [
      "2025-01-26 09:43:34,014 Resetting dropped connection: huggingface.co\n",
      "2025-01-26 09:43:34,376 https://huggingface.co:443 \"HEAD /Qwen/Qwen2.5-Coder-3B-Instruct/resolve/main/config.json HTTP/11\" 200 0\n",
      "2025-01-26 09:43:34,568 https://huggingface.co:443 \"HEAD /Qwen/Qwen2.5-Coder-3B-Instruct/resolve/main/config.json HTTP/11\" 200 0\n"
     ]
    },
    {
     "data": {
      "text/plain": [
       "('/app/models/bb_ru_Qwen2.5-Coder-3B-Instruct_20250125-212602/tokenizer_config.json',\n",
       " '/app/models/bb_ru_Qwen2.5-Coder-3B-Instruct_20250125-212602/special_tokens_map.json',\n",
       " '/app/models/bb_ru_Qwen2.5-Coder-3B-Instruct_20250125-212602/vocab.json',\n",
       " '/app/models/bb_ru_Qwen2.5-Coder-3B-Instruct_20250125-212602/merges.txt',\n",
       " '/app/models/bb_ru_Qwen2.5-Coder-3B-Instruct_20250125-212602/added_tokens.json',\n",
       " '/app/models/bb_ru_Qwen2.5-Coder-3B-Instruct_20250125-212602/tokenizer.json')"
      ]
     },
     "execution_count": 66,
     "metadata": {},
     "output_type": "execute_result"
    }
   ],
   "source": [
    "final_path = sft_model_path + f\"_{timestr}\"\n",
    "model.save_pretrained(final_path)\n",
    "tokenizer.save_pretrained(final_path)"
   ]
  },
  {
   "cell_type": "code",
   "execution_count": 67,
   "id": "d6b8fd17-3cfa-4b8b-8277-083b69c57850",
   "metadata": {},
   "outputs": [
    {
     "data": {
      "text/plain": [
       "'/app/models/bb_ru_Qwen2.5-Coder-3B-Instruct_20250125-212602'"
      ]
     },
     "execution_count": 67,
     "metadata": {},
     "output_type": "execute_result"
    }
   ],
   "source": [
    "final_path"
   ]
  },
  {
   "cell_type": "code",
   "execution_count": 68,
   "id": "8d8aa123-881c-4af1-bf8a-f44fd6631057",
   "metadata": {},
   "outputs": [
    {
     "name": "stderr",
     "output_type": "stream",
     "text": [
      "2025-01-26 09:43:42,866 https://huggingface.co:443 \"HEAD /Qwen/Qwen2.5-Coder-3B-Instruct/resolve/main/config.json HTTP/11\" 200 0\n",
      "Loading checkpoint shards: 100%|██████████| 2/2 [00:45<00:00, 22.79s/it]\n",
      "2025-01-26 09:44:28,932 https://huggingface.co:443 \"HEAD /Qwen/Qwen2.5-Coder-3B-Instruct/resolve/main/generation_config.json HTTP/11\" 200 0\n"
     ]
    }
   ],
   "source": [
    "reference_model = transformers.AutoModelForCausalLM.from_pretrained(model_name, device_map=device,quantization_config=bnb_config,)"
   ]
  },
  {
   "cell_type": "code",
   "execution_count": 69,
   "id": "0226c3f9-1c41-4010-b00b-0fa0e125839f",
   "metadata": {},
   "outputs": [],
   "source": [
    "from IPython.display import HTML, display\n",
    "table_template = \"\"\"<table style=\"border:1px solid black\" >\n",
    "  <tr>\n",
    "    <th style=\"text-align: center; border:1px solid black\">PROMPT</th>\n",
    "    <th style=\"text-align: center; border:1px solid black\">BEFORE</th>\n",
    "    <th style=\"text-align: center; border:1px solid black\">AFTER</th>\n",
    "  </tr>\n",
    "{}\n",
    "</table>\"\"\"\n",
    "\n",
    "row_template = '''  <tr>\n",
    "    <td style=\"width:20%; border:1px solid black\"><pre align=\"left\">`{}`</pre></td>\n",
    "    <td style=\"width:40%; border:1px solid black\"><pre align=\"left\">{}</pre></td>\n",
    "    <td style=\"width:40%; border:1px solid black\"><pre align=\"left\">{}</pre></td>\n",
    "  </tr>'''\n",
    "\n",
    "def prompt_to_chat(prompt):\n",
    "    messages = [\n",
    "        {\"role\": \"user\", \"content\": prompt}\n",
    "    ]\n",
    "    text = tokenizer.apply_chat_template(\n",
    "        messages,\n",
    "        tokenize=False,\n",
    "        add_generation_prompt=True\n",
    "    )\n",
    "    return text\n",
    "\n",
    "def infer(model, prompt, l=100, use_chat = True, temperature=0.4, top_p = 0.8):\n",
    "    if use_chat:\n",
    "        prompt = prompt_to_chat(prompt)\n",
    "    model_inputs = tokenizer([prompt], return_tensors=\"pt\").to(model.device)\n",
    "\n",
    "    generated_ids = model.generate(\n",
    "        **model_inputs,\n",
    "        max_new_tokens=l,\n",
    "        temperature=temperature, \n",
    "        top_p=top_p,\n",
    "        do_sample=True ,  \n",
    "    )\n",
    "    generated_ids = [\n",
    "        output_ids[len(input_ids):] for input_ids, output_ids in zip(model_inputs.input_ids, generated_ids)\n",
    "    ]\n",
    "    \n",
    "    response = tokenizer.batch_decode(generated_ids, skip_special_tokens=False)[0]\n",
    "    return response\n",
    "\n",
    "\n",
    "prompts =  [\n",
    "    'Как в BlackBox можно вывести данные на консоль?', \n",
    "    'Какой тип данных в Component Pascal используется для хранения целых чисел?', \n",
    "    'МОДУЛЬ i21егэDemo2010C4ru;', \n",
    "    'Component Pascal is Oberon microsystems refinement of?', \n",
    "    'Log.String(', \n",
    "    'Типом целой константы является'\n",
    "]  # feel free to add a few more that are not 100% assiciated with Python"
   ]
  },
  {
   "cell_type": "code",
   "execution_count": 70,
   "id": "c5d4b9ec-9c96-4b55-b7d2-b4a1d8e1ddcb",
   "metadata": {},
   "outputs": [],
   "source": [
    "def draw_diff(use_chat,l):\n",
    "    print(f\"USING CHAT TEMPLATE = {use_chat}\")\n",
    "        \n",
    "    baseline = [infer(reference_model, p, l = l, use_chat=use_chat) for p in prompts]\n",
    "    check = [infer(model, p, l = l, use_chat=use_chat) for p in prompts]\n",
    "    rows = []\n",
    "    for i, prompt in enumerate(prompts):\n",
    "        # replace placeholders in the format() arguments\n",
    "        rows.append(row_template.format(prompt, baseline[i], check[i]))\n",
    "    display(HTML(table_template.format('\\n'.join(rows))))"
   ]
  },
  {
   "cell_type": "code",
   "execution_count": 71,
   "id": "d62e1c1d-9778-4fe4-85dd-05053174412e",
   "metadata": {},
   "outputs": [
    {
     "name": "stdout",
     "output_type": "stream",
     "text": [
      "USING CHAT TEMPLATE = True\n"
     ]
    },
    {
     "data": {
      "text/html": [
       "<table style=\"border:1px solid black\" >\n",
       "  <tr>\n",
       "    <th style=\"text-align: center; border:1px solid black\">PROMPT</th>\n",
       "    <th style=\"text-align: center; border:1px solid black\">BEFORE</th>\n",
       "    <th style=\"text-align: center; border:1px solid black\">AFTER</th>\n",
       "  </tr>\n",
       "  <tr>\n",
       "    <td style=\"width:20%; border:1px solid black\"><pre align=\"left\">`Как в BlackBox можно вывести данные на консоль?`</pre></td>\n",
       "    <td style=\"width:40%; border:1px solid black\"><pre align=\"left\">В BlackBox (который похож на Ansible) вы можете выводить данные на консоль с помощью различных методов. Вот несколько распространенных способов:\n",
       "\n",
       "1. **Использование `stdout` модуля:**\n",
       "   Вы можете использовать модуль `stdout` для вывода данных на консоль. Например:\n",
       "   ```yaml\n",
       "   - name: Print message to stdout\n",
       "     debug:\n",
       "       msg: \"Hello, World!\"\n",
       "   ```\n",
       "\n",
       "2. **Использование `shell` модуля:**\n",
       "   Вы можете использовать модуль `shell` для выполнения команд и вывода их результатов на консоль. Например:\n",
       "   ```yaml\n",
       "   - name: Execute command and print output\n",
       "     shell: echo \"Hello, World!\"\n",
       "   ```\n",
       "\n",
       "3. **Использование `command` модуля:**\n",
       "   Similar to `shell`, but it is generally preferred for executing commands that do not require input/output redirection.\n",
       "   ```yaml\n",
       "   - name: Execute command and print output\n",
       "     command: echo \"Hello, World!\"\n",
       "   ```\n",
       "\n",
       "4. **Использование `set_fact` модуля:**\n",
       "   You can set facts and then use the `debug` module</pre></td>\n",
       "    <td style=\"width:40%; border:1px solid black\"><pre align=\"left\">В BlackBox Component Builder есть несколько способов вывода информации в консоль. Для этого используется модуль StdLog. В следующем примере показано, как можно использовать его для вывода текста в консоль:\n",
       "\n",
       "MODULE LogExample;\n",
       "\n",
       "\tIMPORT StdLog;\n",
       "\n",
       "BEGIN\n",
       "\tStdLog.String('Hello World');\t(* записываем \"Hello World\" в консоль *)\n",
       "\tStdLog.Ln;\t\t\t\t\t\t\t(* перевод строки *)\n",
       "\tStdLog.Int(123456);\t\t\t\t\t(* записываем целое число 123456 в консоль *)\n",
       "\tStdLog.Real(3.14159);\t\t\t\t(* записываем вещественное число 3.14159 в консоль *)\n",
       "\tStdLog.Real(3.14159E-2);\t\t\t(* записываем вещественное число 0.314159 в консоль *)\n",
       "\tStdLog.Real(3.14159E+2);\t\t\t(* записываем вещественное число 314.159 в консоль *)\n",
       "\tStdLog.Real(3.14159E-2, 0,</pre></td>\n",
       "  </tr>\n",
       "  <tr>\n",
       "    <td style=\"width:20%; border:1px solid black\"><pre align=\"left\">`Какой тип данных в Component Pascal используется для хранения целых чисел?`</pre></td>\n",
       "    <td style=\"width:40%; border:1px solid black\"><pre align=\"left\">В Component Pascal используется тип данных `Integer` для хранения целых чисел.<|im_end|></pre></td>\n",
       "    <td style=\"width:40%; border:1px solid black\"><pre align=\"left\">В Component Pascal целые числа представлены типом INTEGER.<|im_end|></pre></td>\n",
       "  </tr>\n",
       "  <tr>\n",
       "    <td style=\"width:20%; border:1px solid black\"><pre align=\"left\">`МОДУЛЬ i21егэDemo2010C4ru;`</pre></td>\n",
       "    <td style=\"width:40%; border:1px solid black\"><pre align=\"left\"> It looks like you've provided a module name `i21egDemo2010C4ru`. However, without more context or information about what this module is supposed to do, I can't provide a detailed explanation or help with it.\n",
       "\n",
       "If you're trying to create or use a module in a programming language like C#, Java, Python, etc., please provide more details about the module's purpose and any specific functionality you need assistance with. This will help me give you more targeted advice and support.<|im_end|></pre></td>\n",
       "    <td style=\"width:40%; border:1px solid black\"><pre align=\"left\">Модуль создан 2010-09-05, последний редактированный 2010-09-05, последняя версия 1.<|im_end|></pre></td>\n",
       "  </tr>\n",
       "  <tr>\n",
       "    <td style=\"width:20%; border:1px solid black\"><pre align=\"left\">`Component Pascal is Oberon microsystems refinement of?`</pre></td>\n",
       "    <td style=\"width:40%; border:1px solid black\"><pre align=\"left\">Component Pascal is an extension of the Oberon programming language developed by Oberon Microsystems. It was designed to provide a more structured and object-oriented approach to software development, while still retaining the simplicity and efficiency of the original Oberon language.\n",
       "\n",
       "Some key features of Component Pascal include:\n",
       "\n",
       "1. Object-oriented programming: Component Pascal supports object-oriented concepts such as classes, inheritance, and polymorphism.\n",
       "2. Components: Components are reusable building blocks that encapsulate related functionality.\n",
       "3. Interfaces: Interfaces define the contract for components, allowing them to interact with each other.\n",
       "4. Dynamic binding: Component Pascal uses dynamic binding to resolve method calls at runtime.\n",
       "\n",
       "Component Pascal was developed in the early 1980s and was used in various applications, including embedded systems, real-time operating systems, and multimedia applications. It has since been replaced by other languages such as C++ and Java, but it remains an important language in the history of programming.<|im_end|></pre></td>\n",
       "    <td style=\"width:40%; border:1px solid black\"><pre align=\"left\">Component Pascal is a variant of the Oberon programming language.<|im_end|></pre></td>\n",
       "  </tr>\n",
       "  <tr>\n",
       "    <td style=\"width:20%; border:1px solid black\"><pre align=\"left\">`Log.String(`</pre></td>\n",
       "    <td style=\"width:40%; border:1px solid black\"><pre align=\"left\"> It looks like you're trying to log a string in a programming context. However, the specific syntax and library used can vary depending on the programming language you're working with. Below are examples of how you might log a string in some common languages:\n",
       "\n",
       "### Python\n",
       "In Python, you can use the `print` function to log a string.\n",
       "\n",
       "```python\n",
       "import logging\n",
       "\n",
       "# Set up logging\n",
       "logging.basicConfig(level=logging.INFO)\n",
       "\n",
       "# Log a string\n",
       "logging.info(\"Hello, World!\")\n",
       "```\n",
       "\n",
       "### JavaScript\n",
       "In JavaScript, you can use the `console.log` function to log a string.\n",
       "\n",
       "```javascript\n",
       "// Log a string\n",
       "console.log(\"Hello, World!\");\n",
       "```\n",
       "\n",
       "### Java\n",
       "In Java, you can use the `System.out.println` method to log a string.\n",
       "\n",
       "```java\n",
       "public class Main {\n",
       "    public static void main(String[] args) {\n",
       "        // Log a string\n",
       "        System.out.println(\"Hello, World!\");\n",
       "    }\n",
       "}\n",
       "```\n",
       "\n",
       "### C#\n",
       "In C#, you can use the `Console.WriteLine` method to log a string.\n",
       "\n",
       "```csharp\n",
       "using System;\n",
       "\n",
       "class Program\n",
       "{\n",
       "    static void Main()\n",
       "    {\n",
       "        // Log a string\n",
       "        Console.WriteLine(\"Hello, World!\");\n",
       "    }\n",
       "}\n",
       "```\n",
       "\n",
       "### Ruby\n",
       "In</pre></td>\n",
       "    <td style=\"width:40%; border:1px solid black\"><pre align=\"left\">Log is the default output destination of BlackBox Component Builder's standard log window.<|im_end|></pre></td>\n",
       "  </tr>\n",
       "  <tr>\n",
       "    <td style=\"width:20%; border:1px solid black\"><pre align=\"left\">`Типом целой константы является`</pre></td>\n",
       "    <td style=\"width:40%; border:1px solid black\"><pre align=\"left\">Типом целой константы в большинстве языков программирования является:\n",
       "\n",
       "1. **Целочисленный тип** (например, `int` в C, Java, Python, и т.д.)\n",
       "\n",
       "2. **Лонговый тип** (например, `long` в Java, C++, и т.д.)\n",
       "\n",
       "3. **Шорт тип** (например, `short` в Java, C++, и т.д.)\n",
       "\n",
       "4. **Байтовый тип** (например, `byte` в Java, C++, и т.д.)\n",
       "\n",
       "5. **Интовый тип** (например, `int` в JavaScript)\n",
       "\n",
       "6. **Числовые литералы** (например, `123`, `0x123`, `0b1010`, `123.456`)\n",
       "\n",
       "7. **Символьные константы** (например, `'a'`, `\"hello\"`)\n",
       "\n",
       "8. **Строковые константы** (например, `\"hello\"`)\n",
       "\n",
       "9. **Флотинг-точечные константы** (например, `123.456`)\n",
       "\n",
       "10. **К</pre></td>\n",
       "    <td style=\"width:40%; border:1px solid black\"><pre align=\"left\">целое число<|im_end|></pre></td>\n",
       "  </tr>\n",
       "</table>"
      ],
      "text/plain": [
       "<IPython.core.display.HTML object>"
      ]
     },
     "metadata": {},
     "output_type": "display_data"
    }
   ],
   "source": [
    "draw_diff(True, 256)"
   ]
  },
  {
   "cell_type": "code",
   "execution_count": 72,
   "id": "2e557ba3-4ec0-40d7-9427-4728d44a4f87",
   "metadata": {},
   "outputs": [
    {
     "name": "stdout",
     "output_type": "stream",
     "text": [
      "USING CHAT TEMPLATE = False\n"
     ]
    },
    {
     "data": {
      "text/html": [
       "<table style=\"border:1px solid black\" >\n",
       "  <tr>\n",
       "    <th style=\"text-align: center; border:1px solid black\">PROMPT</th>\n",
       "    <th style=\"text-align: center; border:1px solid black\">BEFORE</th>\n",
       "    <th style=\"text-align: center; border:1px solid black\">AFTER</th>\n",
       "  </tr>\n",
       "  <tr>\n",
       "    <td style=\"width:20%; border:1px solid black\"><pre align=\"left\">`Как в BlackBox можно вывести данные на консоль?`</pre></td>\n",
       "    <td style=\"width:40%; border:1px solid black\"><pre align=\"left\">\n",
       "\n",
       "В BlackBox, для вывода данных на консоль можно использовать команды `echo` или `print`. Вот пример использования этих команд:\n",
       "\n",
       "```python\n",
       "# Использование</pre></td>\n",
       "    <td style=\"width:40%; border:1px solid black\"><pre align=\"left\"> Как вставить в текстовые документы символы, которые не печатаются на экране (например, пробелы шириной в один пиксель)? Как вставить в</pre></td>\n",
       "  </tr>\n",
       "  <tr>\n",
       "    <td style=\"width:20%; border:1px solid black\"><pre align=\"left\">`Какой тип данных в Component Pascal используется для хранения целых чисел?`</pre></td>\n",
       "    <td style=\"width:40%; border:1px solid black\"><pre align=\"left\"> Какие операции можно выполнять с этим типом данных?\n",
       "\n",
       "В Component Pascal используется тип данных `Integer` для хранения целых чисел. Этот тип данных может быть использован для</pre></td>\n",
       "    <td style=\"width:40%; border:1px solid black\"><pre align=\"left\"> Числа, которые могут быть представлены в диапазоне от -32768 до 32767 (включительно), называются short integers</pre></td>\n",
       "  </tr>\n",
       "  <tr>\n",
       "    <td style=\"width:20%; border:1px solid black\"><pre align=\"left\">`МОДУЛЬ i21егэDemo2010C4ru;`</pre></td>\n",
       "    <td style=\"width:40%; border:1px solid black\"><pre align=\"left\"> // Использование модуля i21егэDemo2010C4ru\n",
       "\n",
       "// Определение функции для работы с модулем\n",
       "void i21</pre></td>\n",
       "    <td style=\"width:40%; border:1px solid black\"><pre align=\"left\"> (* Задание 4. Смешанный пример с комментариями. *)\n",
       "\tПОДКЛЮЧИТЬ  Вывод := i21</pre></td>\n",
       "  </tr>\n",
       "  <tr>\n",
       "    <td style=\"width:20%; border:1px solid black\"><pre align=\"left\">`Component Pascal is Oberon microsystems refinement of?`</pre></td>\n",
       "    <td style=\"width:40%; border:1px solid black\"><pre align=\"left\">?\n",
       "A. Pascal\n",
       "B. C\n",
       "C. Java\n",
       "D. Python\n",
       "\n",
       "The correct answer is A. Pascal.\n",
       "\n",
       "Oberon microsystems was a company that developed a programming language called</pre></td>\n",
       "    <td style=\"width:40%; border:1px solid black\"><pre align=\"left\"> (a) Modula-2, (b) Pascal, (c) C, (d) Smalltalk.  Answer: (a).\n",
       "\n",
       "The following statements are about the language Pascal:\n",
       "\n",
       "</pre></td>\n",
       "  </tr>\n",
       "  <tr>\n",
       "    <td style=\"width:20%; border:1px solid black\"><pre align=\"left\">`Log.String(`</pre></td>\n",
       "    <td style=\"width:40%; border:1px solid black\"><pre align=\"left\">“Error:”, err.Error())\n",
       "\t}\n",
       "}\n",
       "\n",
       "func main() {\n",
       "\t// Create a new instance of the logger\n",
       "\tlogger := NewLogger()\n",
       "\n",
       "\t// Set the log level to DEBUG\n",
       "\tlogger</pre></td>\n",
       "    <td style=\"width:40%; border:1px solid black\"><pre align=\"left\"> \"  \"); Log.Int( x );\n",
       "\t\tLog.Ln;\n",
       "\tEND PrintTree;\n",
       "\n",
       "\tPROCEDURE ( v: Tree ) Insert* ( x: INTEGER ), NEW;\n",
       "\t\tVAR </pre></td>\n",
       "  </tr>\n",
       "  <tr>\n",
       "    <td style=\"width:20%; border:1px solid black\"><pre align=\"left\">`Типом целой константы является`</pre></td>\n",
       "    <td style=\"width:40%; border:1px solid black\"><pre align=\"left\">:\n",
       "\n",
       "1. Число с плавающей точкой\n",
       "2. Целое число\n",
       "3. Символ\n",
       "4. Строковое значение\n",
       "\n",
       "Правильный ответ</pre></td>\n",
       "    <td style=\"width:40%; border:1px solid black\"><pre align=\"left\"> целый тип, т.е. INTEGER, SHORTINT, BYTE, LONGINT, SHORTREAL, REAL, CHAR, SET или BOOLEAN.\n",
       "\u000e\u000eЦелые константы могут быть</pre></td>\n",
       "  </tr>\n",
       "</table>"
      ],
      "text/plain": [
       "<IPython.core.display.HTML object>"
      ]
     },
     "metadata": {},
     "output_type": "display_data"
    }
   ],
   "source": [
    "draw_diff(False, 39)"
   ]
  },
  {
   "cell_type": "code",
   "execution_count": 73,
   "id": "3c970689-2e87-4b49-bee9-55978ee178b3",
   "metadata": {},
   "outputs": [
    {
     "name": "stdout",
     "output_type": "stream",
     "text": [
      "Чтобы вывести текст в окно лога, нужно использовать процедуру Log.String('текст').<|im_end|>\n"
     ]
    }
   ],
   "source": [
    "print(infer(model, 'Ты помошник по среде Component Pascal. Ответь на вопрос: Как мне вывести строку hello в окно лога?', 256, use_chat = True))"
   ]
  },
  {
   "cell_type": "code",
   "execution_count": 80,
   "id": "9734bee7-e190-404e-8647-05d3d4cde614",
   "metadata": {},
   "outputs": [
    {
     "name": "stdout",
     "output_type": "stream",
     "text": [
      "Процедура сортировки пузырьком (Bubble Sort) - это простейшая и наивная реализация сортировки. Она состоит из повторяющихся проходов по массиву, в котором каждый раз сравниваются соседние элементы. Если они в неправильном порядке, то они меняются местами. Проходы продолжаются до тех пор, пока не будет сделано необходимое количество проходов, чтобы упорядочить весь массив.\n",
      "\n",
      "PROCEDURE BubbleSort ( VAR arr: ARRAY OF INTEGER );\n",
      "\tVAR  i, j: INTEGER;  swapped: BOOLEAN;\n",
      "BEGIN\n",
      "\tswapped := TRUE;\n",
      "\tWHILE swapped DO\n",
      "\t\tswapped := FALSE;\n",
      "\t\tFOR i := 0 TO LEN(arr) - 2 DO\n",
      "\t\t\tj := i + 1;\n",
      "\t\t\tIF arr[i] > arr[j] THEN\n",
      "\t\t\t\tarr[i] := arr[j];  arr[j] := arr[i];\n",
      "\t\t\t\tswapped := TRUE\n",
      "\t\t\tEND\n",
      "\t\tEND\n",
      "\tEND\n",
      "END BubbleSort;\n",
      "\n",
      "После выполнения процедуры массив arr будет отсортирован по возрастанию.<|im_end|>\n"
     ]
    }
   ],
   "source": [
    "print(infer(model, 'Напиши процедуру сортировки массива.',  1024, use_chat = True))"
   ]
  },
  {
   "cell_type": "code",
   "execution_count": 82,
   "id": "fd4aa98d-1d53-4f1d-a756-9c419ab4f970",
   "metadata": {},
   "outputs": [
    {
     "name": "stdout",
     "output_type": "stream",
     "text": [
      "В Component Pascal нет такого выражения, как в Python. Однако можно написать следующий код:\n",
      "\n",
      "MODULE  i21примПарсинг;\n",
      "\tIMPORT  Log := StdLog,  In := i21sysIn;\n",
      "\t\n",
      "\tPROCEDURE GetVowels* ( IN str: ARRAY OF CHAR;  OUT vowels: ARRAY OF CHAR );\n",
      "\t\tVAR  i, j: INTEGER;\n",
      "\tBEGIN\n",
      "\t\ti := 0;  j := 0;\n",
      "\t\tWHILE  (i < LEN(str)) & (j < LEN(vowels))  DO\n",
      "\t\t\tIF  \"AEIOUaeiou\" [ORD(str[i])] # 0X  THEN\n",
      "\t\t\t\tvowels[j] := str[i];\n",
      "\t\t\t\tINC(j)\n",
      "\t\t\tEND;\n",
      "\t\t\tINC(i)\n",
      "\t\tEND;\n",
      "\tEND GetVowels;\n",
      "\n",
      "BEGIN\n",
      "\t(* тест *)\n",
      "\t\tGetVowels('Это пример строки для проверки.', v);\n",
      "\t\tLog.String(v);  Log.Ln;\n",
      "\t\tGetVowels('Конечно.', v);\n",
      "\t\tLog.String(v);  Log.Ln;\n",
      "\tEND i21примПарсинг.\n",
      "\n",
      "Чтобы выполнить программу, нужно кликнуть по коммандеру:\n",
      "DevLinker.Link i21примПарсинг.i21примПарсинг<|im_end|>\n"
     ]
    }
   ],
   "source": [
    "print(infer(model, 'перепиши код с python на component pascal. Код: def get_vowels(String): return [each for each in String if each in \"aeiou\"]',  1024, use_chat = True))"
   ]
  },
  {
   "cell_type": "code",
   "execution_count": 8,
   "id": "828dbb24-08bc-4ed3-9d90-365a0a5b4144",
   "metadata": {},
   "outputs": [],
   "source": [
    "checkpoint = transformers.AutoModelForCausalLM.from_pretrained(\"./results/20250122-220441/checkpoint-1220/\", device_map=device)"
   ]
  },
  {
   "cell_type": "code",
   "execution_count": 14,
   "id": "893ee176-9274-43dd-b577-db944a851289",
   "metadata": {},
   "outputs": [
    {
     "name": "stdout",
     "output_type": "stream",
     "text": [
      "Для целых чисел обычно используют тип INTEGER. Однако, если значения могут быть только некоторым предопределенным количеством значений, следует использовать тип SHORTINT, чтобы избежать возможных потерь точности, которые могут возникнуть при делении на 2. В некоторых случаях лучше использовать LONGINT.\n",
      "\n",
      "Все последующие примеры использует LONGINT в качестве основного типа. Если результаты вычислений становятся непредсказуемыми, если используется другой тип.\n",
      "\n",
      "Пример:\n",
      "\t\n",
      "\tPROCEDURE Ddouble* (a, b: LONGINT);\n",
      "\tBEGIN\n",
      "\t\tDIAGNOSTIC;\n",
      "\t\tStdLog.Nl;\n",
      "\t\tStdLog.String(\"Ddouble \"); StdLog.Int(a + b, 0); StdLog.Ln;\n",
      "\t\tStdLog.String(DefaCT(a + b)); StdLog.Ln\n",
      "\tEND Ddouble;\n",
      "\n",
      "В этом примере использовано значение эффекта (defacto) стандартного модуля Math, который включает в себя итоговое значение.\n",
      "\u000eПосле применения команд DIAGNOSTIC (см. ниже), он будет выровнен по левому краю, а не\n"
     ]
    }
   ],
   "source": [
    "print(infer(checkpoint, 'Какой тип использовать для хранения целых чисел?', 256, use_chat = True))"
   ]
  },
  {
   "cell_type": "code",
   "execution_count": null,
   "id": "2ee14080-d26e-4164-9080-a06910d3b6e1",
   "metadata": {},
   "outputs": [],
   "source": [
    "def format_chat(q,a):\n",
    "    # Create a chat-like format using the tokenizer's chat template\n",
    "    chat = [\n",
    "        {\"role\": \"user\", \"content\": q},\n",
    "        {\"role\": \"assistant\", \"content\": a}\n",
    "    ]\n",
    "    # Apply the chat template\n",
    "    return tokenizer.apply_chat_template(chat, tokenize=False)\n",
    "\n",
    "\n"
   ]
  },
  {
   "cell_type": "code",
   "execution_count": 58,
   "id": "ed04be2c-4335-4d6f-9ca7-49bebe739071",
   "metadata": {},
   "outputs": [
    {
     "name": "stdout",
     "output_type": "stream",
     "text": [
      "<|im_start|>system\n",
      "You are Qwen, created by Alibaba Cloud. You are a helpful assistant.<|im_end|>\n",
      "<|im_start|>user\n",
      "вопрос<|im_end|>\n",
      "<|im_start|>assistant\n",
      "ответ<|im_end|><|im_end|>\n"
     ]
    }
   ],
   "source": [
    "chat_str = format_chat(\"вопрос\", \"ответ\").strip()\n",
    "print(chat_str + tokenizer.eos_token)"
   ]
  },
  {
   "cell_type": "code",
   "execution_count": 65,
   "id": "1e38a507-c78d-4b84-8c64-c5850366cc8e",
   "metadata": {},
   "outputs": [
    {
     "name": "stdout",
     "output_type": "stream",
     "text": [
      "{'input_ids': [151644, 8948, 198, 2610, 525, 1207, 16948, 11, 3465, 553, 54364, 14817, 13, 1446, 525, 264, 10950, 17847, 13, 151645, 198, 151644, 872, 198, 5474, 28156, 40957, 151645, 198, 151644, 77091, 198, 127227, 151645, 151643, 151643, 151643, 151643, 151643, 151643, 151643, 151643, 151643, 151643, 151643, 151643, 151643, 151643, 151643, 151643, 151643, 151643, 151643, 151643, 151643, 151643, 151643, 151643, 151643, 151643, 151643, 151643, 151643, 151643, 151643, 151643, 151643, 151643, 151643, 151643, 151643, 151643, 151643, 151643, 151643, 151643, 151643, 151643, 151643, 151643, 151643, 151643, 151643, 151643, 151643, 151643, 151643, 151643, 151643, 151643, 151643, 151643, 151643, 151643, 151643, 151643, 151643, 151643, 151643, 151643, 151643, 151643, 151643, 151643, 151643, 151643, 151643, 151643, 151643, 151643, 151643, 151643, 151643, 151643, 151643, 151643, 151643, 151643, 151643, 151643, 151643, 151643, 151643, 151643, 151643, 151643, 151643, 151643], 'attention_mask': [1, 1, 1, 1, 1, 1, 1, 1, 1, 1, 1, 1, 1, 1, 1, 1, 1, 1, 1, 1, 1, 1, 1, 1, 1, 1, 1, 1, 1, 1, 1, 1, 1, 1, 0, 0, 0, 0, 0, 0, 0, 0, 0, 0, 0, 0, 0, 0, 0, 0, 0, 0, 0, 0, 0, 0, 0, 0, 0, 0, 0, 0, 0, 0, 0, 0, 0, 0, 0, 0, 0, 0, 0, 0, 0, 0, 0, 0, 0, 0, 0, 0, 0, 0, 0, 0, 0, 0, 0, 0, 0, 0, 0, 0, 0, 0, 0, 0, 0, 0, 0, 0, 0, 0, 0, 0, 0, 0, 0, 0, 0, 0, 0, 0, 0, 0, 0, 0, 0, 0, 0, 0, 0, 0, 0, 0, 0, 0]}\n"
     ]
    }
   ],
   "source": [
    "print(tokenizer(chat_str, add_special_tokens = True, max_length=128,  padding='max_length'))"
   ]
  },
  {
   "cell_type": "code",
   "execution_count": null,
   "id": "7deb19fc-12c5-4830-86ea-9979ab8d01fe",
   "metadata": {},
   "outputs": [],
   "source": [
    "\n",
    "\n",
    "\n",
    "\n",
    "\n",
    "\n",
    "print(\"ends fith eos\", tokenizer(chat_str, add_special_tokens = True)[\"input_ids\"][-1]== tokenizer.eos_token_id)\n",
    "print(\"has attention\", tokenizer(chat_str)[\"attention_mask\"])\n",
    "\n",
    "\n",
    "\n",
    "chat_str = chat_str + tokenizer.eos_token + tokenizer.pad_token\n",
    "print(\"has attention2\", tokenizer(chat_str, add_special_tokens =tokenizer.pad_token_id)[\"attention_mask\"])"
   ]
  },
  {
   "cell_type": "code",
   "execution_count": 48,
   "id": "14d26501-ed6a-419d-8358-eb8436a37692",
   "metadata": {},
   "outputs": [
    {
     "data": {
      "text/plain": [
       "('<|endoftext|>', 151643)"
      ]
     },
     "execution_count": 48,
     "metadata": {},
     "output_type": "execute_result"
    }
   ],
   "source": [
    "tokenizer.pad_token, tokenizer.pad_token_id"
   ]
  },
  {
   "cell_type": "code",
   "execution_count": 49,
   "id": "59a54d66-9d27-452d-b3dd-fa62588530c6",
   "metadata": {},
   "outputs": [
    {
     "data": {
      "text/plain": [
       "('<|im_end|>', 151645)"
      ]
     },
     "execution_count": 49,
     "metadata": {},
     "output_type": "execute_result"
    }
   ],
   "source": [
    "tokenizer.eos_token, tokenizer.eos_token_id"
   ]
  },
  {
   "cell_type": "code",
   "execution_count": null,
   "id": "7fb9379e-234f-44c6-adfb-f885a85d9ffd",
   "metadata": {},
   "outputs": [],
   "source": [
    "model config\n",
    "\"bos_token_id\": 151643,\n",
    "\"eos_token_id\": 151645,\n",
    "tokenizer config\n",
    "\"eos_token\": \"<|im_end|>\",\n",
    "  \"errors\": \"replace\",\n",
    "  \"model_max_length\": 32768,\n",
    "  \"pad_token\": \"<|endoftext|>\","
   ]
  }
 ],
 "metadata": {
  "kernelspec": {
   "display_name": "Python 3 (ipykernel)",
   "language": "python",
   "name": "python3"
  },
  "language_info": {
   "codemirror_mode": {
    "name": "ipython",
    "version": 3
   },
   "file_extension": ".py",
   "mimetype": "text/x-python",
   "name": "python",
   "nbconvert_exporter": "python",
   "pygments_lexer": "ipython3",
   "version": "3.12.8"
  }
 },
 "nbformat": 4,
 "nbformat_minor": 5
}
