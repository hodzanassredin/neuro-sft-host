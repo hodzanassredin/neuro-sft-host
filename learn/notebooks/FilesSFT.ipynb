{
 "cells": [
  {
   "cell_type": "code",
   "execution_count": null,
   "id": "8a0afc39-8ce7-45f0-bb0f-ff8c53354932",
   "metadata": {},
   "outputs": [],
   "source": [
    "import os\n",
    "import torch\n",
    "from torch.utils.data import DataLoader, Dataset\n",
    "from transformers import LlamaForCausalLM, LlamaTokenizer, Trainer, TrainingArguments\n",
    "from datasets import load_dataset, Dataset as HFDataset"
   ]
  },
  {
   "cell_type": "code",
   "execution_count": null,
   "id": "53e18af6-01d4-4ac3-97c8-34e1534d2045",
   "metadata": {},
   "outputs": [],
   "source": [
    "data_dir = 'path/to/your/texts'\n",
    "model_name = 'Qwen/Qwen2.5-Coder-7B-Instruct'"
   ]
  },
  {
   "cell_type": "code",
   "execution_count": null,
   "id": "fb766a71-7648-47ca-8f85-9fd342b3834f",
   "metadata": {},
   "outputs": [],
   "source": [
    "tokenizer = LlamaTokenizer.from_pretrained(model_name)\n",
    "model = LlamaForCausalLM.from_pretrained(model_name)\n"
   ]
  },
  {
   "cell_type": "code",
   "execution_count": null,
   "id": "155c595c-5e5a-416c-b377-003861f35647",
   "metadata": {},
   "outputs": [],
   "source": [
    "\n",
    "# Функция для загрузки данных из директории\n",
    "def load_texts_from_directory(directory):\n",
    "    texts = []\n",
    "    for filename in os.listdir(directory):\n",
    "        if filename.endswith('.txt'):\n",
    "            with open(os.path.join(directory, filename), 'r', encoding='utf-8') as file:\n",
    "                texts.append(file.read())\n",
    "    return texts\n",
    "\n",
    "# Загрузка текстов\n",
    "texts = load_texts_from_directory(data_dir)\n",
    "\n",
    "# Функция для packing данных\n",
    "def pack_dataset(examples, block_size=512):\n",
    "    concatenated_examples = {k: sum(examples[k], []) for k in examples.keys()}\n",
    "    total_length = len(concatenated_examples[list(examples.keys())[0]])\n",
    "    total_length = (total_length // block_size) * block_size\n",
    "    result = {\n",
    "        k: [t[i: i + block_size] for i in range(0, total_length, block_size)]\n",
    "        for k, t in concatenated_examples.items()\n",
    "    }\n",
    "    return result\n",
    "\n",
    "# Токенизация текстов\n",
    "def tokenize_function(examples):\n",
    "    return tokenizer(examples['text'], padding='max_length', truncation=True, max_length=512)\n",
    "\n",
    "# Создание датасета\n",
    "dataset = HFDataset.from_dict({'text': texts})\n",
    "tokenized_dataset = dataset.map(tokenize_function, batched=True)\n",
    "packed_dataset = tokenized_dataset.map(pack_dataset, batched=True)\n",
    "\n",
    "# Создание DataLoader\n",
    "train_loader = DataLoader(packed_dataset, batch_size=8, shuffle=True)\n",
    "\n",
    "# Настройка аргументов для тренировки\n",
    "training_args = TrainingArguments(\n",
    "    output_dir='./results',\n",
    "    num_train_epochs=3,\n",
    "    per_device_train_batch_size=8,\n",
    "    save_steps=10_000,\n",
    "    save_total_limit=2,\n",
    "    logging_dir='./logs',\n",
    "    logging_steps=500,\n",
    ")\n",
    "\n",
    "# Создание тренера\n",
    "trainer = Trainer(\n",
    "    model=model,\n",
    "    args=training_args,\n",
    "    train_dataset=packed_dataset,\n",
    "    data_collator=lambda data: {'input_ids': torch.stack([f['input_ids'] for f in data]),\n",
    "                                'attention_mask': torch.stack([f['attention_mask'] for f in data]),\n",
    "                                'labels': torch.stack([f['input_ids'] for f in data])},\n",
    ")\n",
    "\n",
    "# Запуск тренировки\n",
    "trainer.train()\n",
    "\n",
    "# Сохранение модели\n",
    "model.save_pretrained('./fine_tuned_llama2')\n",
    "tokenizer.save_pretrained('./fine_tuned_llama2')"
   ]
  },
  {
   "cell_type": "code",
   "execution_count": null,
   "id": "10b5254a-c206-44b4-a20a-7fa101b7db03",
   "metadata": {},
   "outputs": [],
   "source": []
  }
 ],
 "metadata": {
  "kernelspec": {
   "display_name": "Python 3 (ipykernel)",
   "language": "python",
   "name": "python3"
  },
  "language_info": {
   "codemirror_mode": {
    "name": "ipython",
    "version": 3
   },
   "file_extension": ".py",
   "mimetype": "text/x-python",
   "name": "python",
   "nbconvert_exporter": "python",
   "pygments_lexer": "ipython3",
   "version": "3.10.12"
  }
 },
 "nbformat": 4,
 "nbformat_minor": 5
}
