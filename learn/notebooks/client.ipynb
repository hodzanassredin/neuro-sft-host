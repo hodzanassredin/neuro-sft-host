{
 "cells": [
  {
   "cell_type": "code",
   "execution_count": 1,
   "id": "c43a2b9b-5879-4c13-8abe-d5f115e9ff20",
   "metadata": {},
   "outputs": [],
   "source": [
    "import requests"
   ]
  },
  {
   "cell_type": "code",
   "execution_count": 2,
   "id": "42cac3d0-8f54-46a2-b5d0-23c9553eaed5",
   "metadata": {},
   "outputs": [],
   "source": [
    "def post_http_request(prompt: str,\n",
    "                      api_url: str,\n",
    "                      n: int = 1,\n",
    "                      stream: bool = False) -> requests.Response:\n",
    "    headers = {\"User-Agent\": \"Test Client\"}\n",
    "    pload = {\n",
    "        \"prompt\": prompt,\n",
    "        \"n\": n,\n",
    "        \"use_beam_search\": True,\n",
    "        \"temperature\": 0.0,\n",
    "        \"max_tokens\": 16,\n",
    "        \"stream\": stream,\n",
    "    }\n",
    "\n",
    "    response = requests.post(api_url,\n",
    "                             headers=headers,\n",
    "                             json=pload,\n",
    "                             stream=stream)\n",
    "    return response"
   ]
  },
  {
   "cell_type": "code",
   "execution_count": 7,
   "id": "ae8631ef-65f7-42d5-9d0d-6d144bb5d0e6",
   "metadata": {},
   "outputs": [
    {
     "data": {
      "text/plain": [
       "<Response [404]>"
      ]
     },
     "execution_count": 7,
     "metadata": {},
     "output_type": "execute_result"
    }
   ],
   "source": [
    "post_http_request(\"привет\", \"http://host.docker.internal:9001/api/models\")"
   ]
  },
  {
   "cell_type": "code",
   "execution_count": null,
   "id": "bf79af4b-12b1-4b6b-8142-2c67f69fb566",
   "metadata": {},
   "outputs": [],
   "source": []
  }
 ],
 "metadata": {
  "kernelspec": {
   "display_name": "Python 3 (ipykernel)",
   "language": "python",
   "name": "python3"
  },
  "language_info": {
   "codemirror_mode": {
    "name": "ipython",
    "version": 3
   },
   "file_extension": ".py",
   "mimetype": "text/x-python",
   "name": "python",
   "nbconvert_exporter": "python",
   "pygments_lexer": "ipython3",
   "version": "3.10.12"
  }
 },
 "nbformat": 4,
 "nbformat_minor": 5
}
