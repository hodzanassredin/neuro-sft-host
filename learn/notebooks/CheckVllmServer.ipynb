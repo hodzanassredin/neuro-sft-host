{
 "cells": [
  {
   "cell_type": "code",
   "execution_count": 129,
   "id": "5a5e49e9-d1dc-40d7-830b-bd9aeb9530ec",
   "metadata": {},
   "outputs": [],
   "source": [
    "system = '''\n",
    "Ты помощник для работы в системе BlackBox с использованием языка Component Pascal. Твоя задача информативно отвечать на вопросы. \n",
    "Ответ необходимо предоставить в формате markdown и выделять код символами ```. \n",
    "\n",
    "Пример 1: \n",
    "\n",
    "Ввод: Как реализовать сортировку пузырьком?\n",
    "Вывод: Cортировку пузырьком можно реализовать с помощью следующего кода:\n",
    "\n",
    "```\n",
    "\tPROCEDURE BubbleSort*;  \n",
    "\t\tVAR i, j: INTEGER; x: Item;\n",
    "\tBEGIN\n",
    "\t\tFOR i := 1 TO n-1 DO\n",
    "\t\t\tFOR j := n-1 TO i BY -1 DO\n",
    "\t\t\t\tIF a[j-1] > a[j] THEN\n",
    "\t\t\t\t\tx := a[j-1];  a[j-1] := a[j];  a[j] := x\n",
    "\t\t\t\tEND\n",
    "\t\t\tEND\n",
    "\t\tEND\n",
    "\tEND BubbleSort;\n",
    "```\n",
    "\n",
    "Пример 2: \n",
    "\n",
    "Ввод: Как вывести число в log?\n",
    "Вывод: Число в лог можно вывести с помощью log.String(str):\n",
    "\n",
    "'''"
   ]
  },
  {
   "cell_type": "code",
   "execution_count": 130,
   "id": "95dbe99b-4165-4fc7-a1bb-82e31741608d",
   "metadata": {},
   "outputs": [],
   "source": [
    "from openai import OpenAI\n",
    "client = OpenAI(\n",
    "    base_url=\"http://host.docker.internal:9001/v1\",\n",
    "    api_key=\"key\",\n",
    ")\n",
    "def ask(prompt):\n",
    "    response = client.chat.completions.create(\n",
    "    model=\"cp-lora\",\n",
    "    messages=[\n",
    "        {\"role\": \"system\", \"content\": system},\n",
    "        {\"role\": \"user\", \"content\": prompt}\n",
    "      ],\n",
    "    temperature=0.3,\n",
    "    top_p=0.5,\n",
    "    #frequency_penalty=0.0,\n",
    "    max_tokens=512,\n",
    "    stream=True,\n",
    "    extra_body={'repetition_penalty': 1.1 }\n",
    "    )\n",
    "    \n",
    "    for chunk in response:\n",
    "        print(chunk.choices[0].delta.content, end='')"
   ]
  },
  {
   "cell_type": "code",
   "execution_count": 131,
   "id": "667dbef5-5ed4-4173-95ca-236aea087237",
   "metadata": {},
   "outputs": [
    {
     "name": "stdout",
     "output_type": "stream",
     "text": [
      "Числа от 1 до 5 можно вывести так:\n",
      "\n",
      "PROCEDURE LogNumbers*;\n",
      "\t\tVAR i: INTEGER;\n",
      "\tBEGIN\n",
      "\t\tFOR i := 1 TO 5 DO\n",
      "(i);  Log.Ln\n",
      "\t\tEND\n",
      ";END LogNumbers\n",
      "\n",
      "ать клавишу F5 (или Ctrl+Enter).статочно дважды наж"
     ]
    }
   ],
   "source": [
    "ask(\"Напиши процедуру вывода чисел от 1 до 5 в log\")"
   ]
  },
  {
   "cell_type": "code",
   "execution_count": 132,
   "id": "6ad7d1b4-20b9-4df4-bce7-e1b9b3d07566",
   "metadata": {},
   "outputs": [
    {
     "name": "stdout",
     "output_type": "stream",
     "text": [
      "Cоответствующий пример:\n",
      "\n",
      "```\n",
      "*;ROCEDURE LogNumbers\n",
      "\t\tVAR i: INTEGER;\n",
      "\tBEGIN\n",
      " i := 1 TO 5 DO\n",
      " Log.LnInt(i); \n",
      "\t\tEND\n",
      "\tEND LogNumbers;\n",
      "```"
     ]
    }
   ],
   "source": [
    "ask('Напиши процедуру вывода чисел от 1 до 5 в log. Пиши только процедуру и ничего больше.')"
   ]
  },
  {
   "cell_type": "code",
   "execution_count": null,
   "id": "b807e694-4532-46e7-bb9b-4b5825345d7a",
   "metadata": {},
   "outputs": [],
   "source": []
  }
 ],
 "metadata": {
  "kernelspec": {
   "display_name": "Python 3 (ipykernel)",
   "language": "python",
   "name": "python3"
  },
  "language_info": {
   "codemirror_mode": {
    "name": "ipython",
    "version": 3
   },
   "file_extension": ".py",
   "mimetype": "text/x-python",
   "name": "python",
   "nbconvert_exporter": "python",
   "pygments_lexer": "ipython3",
   "version": "3.12.8"
  }
 },
 "nbformat": 4,
 "nbformat_minor": 5
}
