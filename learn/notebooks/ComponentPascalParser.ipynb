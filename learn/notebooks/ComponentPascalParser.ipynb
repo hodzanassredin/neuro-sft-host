{
 "cells": [
  {
   "cell_type": "code",
   "execution_count": 91,
   "id": "2d17f218-3b01-4f20-8213-45123630bebb",
   "metadata": {},
   "outputs": [],
   "source": [
    "from lark import Lark, UnexpectedEOF\n",
    "\n",
    "ebnf_grammar = \"\"\"\n",
    "    document: module ANY\n",
    "    module: \"MODULE\" IDENT \";\" (import_list)? decl_seq (\"BEGIN\" statement_seq)? (\"CLOSE\" statement_seq)? \"END\" IDENT \".\"\n",
    "    import_list: \"IMPORT\" (IDENT \":=\")? IDENT (\",\" (IDENT \":=\")? IDENT)* \";\"\n",
    "    decl_seq: (\"CONST\" (const_decl \";\")* | \"TYPE\" (type_decl \";\")* | \"VAR\" (var_decl \";\")*)* (proc_decl \";\" | forward_decl \";\")*\n",
    "    const_decl: ident_def \"=\" const_expr\n",
    "    type_decl: ident_def \"=\" type\n",
    "    var_decl: ident_list \":\" type\n",
    "    proc_decl: \"PROCEDURE\" (receiver)? ident_def (formal_pars)? meth_attributes (\";\" decl_seq (\"BEGIN\" statement_seq)? \"END\" IDENT)?\n",
    "    meth_attributes: (\",\" \"NEW\")? (\",\" (\"ABSTRACT\" | \"EMPTY\" | \"EXTENSIBLE\"))?\n",
    "    forward_decl: \"PROCEDURE\" \" ^ \" (receiver)? ident_def (formal_pars)? meth_attributes\n",
    "    formal_pars: \"(\" (f_p_section (\";\" f_p_section)*)? \")\" (\":\" type)?\n",
    "    f_p_section: (\"VAR\" | \"IN\" | \"OUT\")? IDENT (\",\" IDENT)* \":\" type\n",
    "    receiver: \"(\" (\"VAR\" | \"IN\")? IDENT \":\" IDENT \")\"\n",
    "    type: qualident | \"ARRAY\" (const_expr (\",\" const_expr)*)? \"OF\" type | (\"ABSTRACT\" | \"EXTENSIBLE\" | \"LIMITED\")? | \"RECORD\" (\"(\" qualident \")\")? field_list (\";\" field_list)* \"END\" | \"POINTER\" \"TO\" type | \"PROCEDURE\" (formal_pars)?\n",
    "    field_list: (ident_list \":\" type)?\n",
    "    statement_seq: statement (\";\" statement)*\n",
    "    statement: (designator \":=\" expr | designator (\"(\" (expr_list)? \")\")? \n",
    "            | \"IF\" expr \"THEN\" statement_seq (\"ELSIF\" expr \"THEN\" statement_seq)* (\"ELSE\" statement_seq)? \"END\" \n",
    "            | \"CASE\" expr \"OF\" case (\"|\" case)* (\"ELSE\" statement_seq)? \"END\" \n",
    "            | \"WHILE\" expr \"DO\" statement_seq \"END\" \n",
    "            | \"REPEAT\" statement_seq \"UNTIL\" expr \n",
    "            | \"FOR\" IDENT \":=\" expr \"TO\" expr (\"BY\" const_expr)? \"DO\" statement_seq \"END\" \n",
    "            | \"LOOP\" statement_seq \"END\" \n",
    "            | \"WITH\" (guard \"DO\" statement_seq)? (\"|\" (guard \"DO\" statement_seq)?)* (\"ELSE\" statement_seq)? \"END\" \n",
    "            | \"EXIT\" \n",
    "            | \"RETURN\" (expr)?)?\n",
    "    case: (case_labels (\",\" case_labels)* \":\" statement_seq)?\n",
    "    case_labels: const_expr (\"..\" const_expr)?\n",
    "    guard: qualident \":\" qualident\n",
    "    const_expr: expr\n",
    "    expr: simple_expr (relation simple_expr)?\n",
    "    simple_expr: (\"+\" | \"-\")? term (add_op term)*\n",
    "    term: factor (mul_op factor)*\n",
    "    factor: designator | NUMBER | CHARACTER | STRING | \"NIL\" | set | \"(\" expr \")\" | \" ~ \" factor\n",
    "    set: \"{\" (element (\",\" element)*)? \"}\"\n",
    "    element: expr (\"..\" expr)?\n",
    "    relation: \"=\" | \"#\" | \"<\" | \"<=\" | \">\" | \">=\" | \"IN\" | \"IS\"\n",
    "    add_op: \"+\" | \"-\" | \"OR\"\n",
    "    mul_op: \" * \" | \"/\" | \"DIV\" | \"MOD\" | \"&\"\n",
    "    designator: qualident (\".\" IDENT | \"[\" expr_list \"]\" | \" ^ \" | \"(\" qualident \")\" | \"(\" (expr_list)? \")\")* (\"$\")?\n",
    "    expr_list: expr (\",\" expr)*\n",
    "    ident_list: ident_def (\",\" ident_def)*\n",
    "    qualident: (IDENT \".\")? IDENT\n",
    "    ident_def: IDENT (\" * \" | \"-\")?\n",
    "\n",
    "    ANY: /[^ ]+/    \n",
    "    IDENT: CNAME\n",
    "    NUMBER: INT | FLOAT | HEX\n",
    "    HEX: /0x[0-9A-Fa-f]+/\n",
    "    CHARACTER: /'[^']*'/\n",
    "    STRING: /\"[^\"]*\"/\n",
    "    COMMENT: \"(*\" /(.|\\n)*?/ \"*)\"\n",
    "    %import common.CNAME\n",
    "    %import common.INT\n",
    "    %import common.FLOAT\n",
    "    %import common.WS\n",
    "    %ignore COMMENT\n",
    "    %ignore WS\n",
    "\"\"\"\n",
    "\n",
    "comment_grammar = \"\"\"\n",
    "    COMMENT : \"(*\" /(.|\\n)*?/ \"*)\"\n",
    "    %import common.WS\n",
    "    %ignore WS\n",
    "\"\"\"\n"
   ]
  },
  {
   "cell_type": "code",
   "execution_count": 92,
   "id": "b61841eb-5b19-4018-8d15-c49a612b712f",
   "metadata": {},
   "outputs": [],
   "source": [
    "#, parser='lalr'\n",
    "# lexer='basic', \n",
    "\n",
    "starts = [\n",
    "    \"module\", \n",
    "    \"import_list\",\n",
    "    \"expr\",\n",
    "    \"statement\"\n",
    "]\n",
    "\n",
    "\n",
    "\n"
   ]
  },
  {
   "cell_type": "code",
   "execution_count": 93,
   "id": "79dd86ef-7864-49f0-86f2-9d2b7bbd75a1",
   "metadata": {},
   "outputs": [],
   "source": [
    "def rule_match(grammar, rule, text):\n",
    "    parser = Lark(grammar, start=rule)\n",
    "    try:\n",
    "        tree = parser.parse(code)\n",
    "        return 1\n",
    "    except UnexpectedEOF:\n",
    "        return 2\n",
    "    except:\n",
    "        return 0\n",
    "\n",
    "def is_document(text):\n",
    "    return rule_match(ebnf_grammar, \"document\",text) == 1\n",
    "\n",
    "def is_module(text):\n",
    "    return rule_match(ebnf_grammar, \"module\",text) == 1\n",
    "\n",
    "def is_comment(text):\n",
    "    return rule_match(comment_grammar, \"COMMENT\",text) == 1\n",
    "\n",
    "def is_comment_start(text):\n",
    "    return rule_match(comment_grammar, \"COMMENT\",text) == 2\n",
    "\n",
    "\n",
    "\n",
    "def try_module(text, rule):\n",
    "    parser = Lark(ebnf_grammar, start=rule)\n",
    "    try:\n",
    "        tree = parser.parse(code)\n",
    "        return 1\n",
    "    except UnexpectedEOF:\n",
    "        return 2\n",
    "    except:\n",
    "        return 0"
   ]
  },
  {
   "cell_type": "code",
   "execution_count": 105,
   "id": "d3e5913c-1eaa-49ce-b9f2-2e0113e99a53",
   "metadata": {},
   "outputs": [
    {
     "data": {
      "text/plain": [
       "1"
      ]
     },
     "execution_count": 105,
     "metadata": {},
     "output_type": "execute_result"
    }
   ],
   "source": [
    "# Пример использования\n",
    "code = \"\"\"\n",
    "MODULE HelloWorld;\n",
    "IMPORT Out;\n",
    "BEGIN\n",
    "  a := b;\n",
    "END HelloWorld.\n",
    "\"\"\"\n",
    "rule_match(code, \"document\")"
   ]
  },
  {
   "cell_type": "code",
   "execution_count": 106,
   "id": "f9d2337c-4b95-4678-b956-9eafdbee1e6c",
   "metadata": {},
   "outputs": [],
   "source": [
    "parser = Lark(ebnf_grammar, start=\"document\", propagate_positions=True)\n",
    "tree = parser.parse(code)"
   ]
  },
  {
   "cell_type": "code",
   "execution_count": 108,
   "id": "aa57443f-1db6-4cdc-9934-db1561b2be30",
   "metadata": {},
   "outputs": [
    {
     "data": {
      "text/plain": [
       "Token('ANY', '\\n')"
      ]
     },
     "execution_count": 108,
     "metadata": {},
     "output_type": "execute_result"
    }
   ],
   "source": [
    "tree.children[0]"
   ]
  },
  {
   "cell_type": "code",
   "execution_count": 88,
   "id": "28d067f4-1509-433e-a26d-26acbe5fc5e8",
   "metadata": {},
   "outputs": [
    {
     "data": {
      "text/plain": [
       "{'empty': False,\n",
       " 'line': 2,\n",
       " 'column': 1,\n",
       " 'start_pos': 1,\n",
       " 'container_line': 2,\n",
       " 'container_column': 1,\n",
       " 'container_start_pos': 1,\n",
       " 'end_line': 6,\n",
       " 'end_column': 16,\n",
       " 'end_pos': 63,\n",
       " 'container_end_line': 6,\n",
       " 'container_end_column': 16,\n",
       " 'container_end_pos': 63}"
      ]
     },
     "execution_count": 88,
     "metadata": {},
     "output_type": "execute_result"
    }
   ],
   "source": [
    "tree._meta.__dict__"
   ]
  },
  {
   "cell_type": "code",
   "execution_count": 86,
   "id": "a77b248d-0e8f-4a5d-90ae-32c26136e7e1",
   "metadata": {},
   "outputs": [],
   "source": [
    "with open('/app/datasets/oberon/docs/bb_ru/Dev/Mod/AlienTool.odc', 'r', encoding='utf-8') as f:\n",
    "   text = f.read()"
   ]
  },
  {
   "cell_type": "code",
   "execution_count": 104,
   "id": "3a01ebad-bd15-4974-8c4a-14ca47be322e",
   "metadata": {},
   "outputs": [
    {
     "data": {
      "text/plain": [
       "2"
      ]
     },
     "execution_count": 104,
     "metadata": {},
     "output_type": "execute_result"
    }
   ],
   "source": [
    "rule_match(text, \"document\")"
   ]
  },
  {
   "cell_type": "code",
   "execution_count": null,
   "id": "8f7d95e0-5e92-41c0-9d05-acbf9f17a001",
   "metadata": {},
   "outputs": [],
   "source": []
  }
 ],
 "metadata": {
  "kernelspec": {
   "display_name": "Python 3 (ipykernel)",
   "language": "python",
   "name": "python3"
  },
  "language_info": {
   "codemirror_mode": {
    "name": "ipython",
    "version": 3
   },
   "file_extension": ".py",
   "mimetype": "text/x-python",
   "name": "python",
   "nbconvert_exporter": "python",
   "pygments_lexer": "ipython3",
   "version": "3.12.8"
  }
 },
 "nbformat": 4,
 "nbformat_minor": 5
}
